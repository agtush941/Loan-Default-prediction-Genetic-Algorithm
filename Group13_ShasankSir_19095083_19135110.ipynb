{
  "cells": [
    {
      "cell_type": "markdown",
      "metadata": {
        "id": "syIT76R3w1C9"
      },
      "source": [
        "#### \"Predict whether a mammogram mass is benign or malignant\"\n",
        "\n",
        "1. BI-RADS assessment: 1 to 5 (ordinal)  \n",
        "2. Age: patient's age in years (integer)\n",
        "3. Shape: mass shape: round=1 oval=2 lobular=3 irregular=4 (nominal)\n",
        "4. Margin: mass margin: circumscribed=1 microlobulated=2 obscured=3 ill-defined=4 spiculated=5 (nominal)\n",
        "5. Density: mass density high=1 iso=2 low=3 fat-containing=4 (ordinal)\n",
        "6. Severity: benign=0 or malignant=1 (binominal)"
      ]
    },
    {
      "cell_type": "markdown",
      "metadata": {
        "id": "XqlDNyYFw1DC"
      },
      "source": [
        "## Import Libraries"
      ]
    },
    {
      "cell_type": "code",
      "execution_count": null,
      "metadata": {
        "id": "pIlpkKg3w1DC"
      },
      "outputs": [],
      "source": [
        "import pandas as pd\n",
        "import numpy as np\n",
        "import seaborn as sns\n",
        "import matplotlib.pyplot as plt\n",
        "from sklearn.metrics import accuracy_score, precision_score, recall_score, classification_report, confusion_matrix, fbeta_score\n",
        "from sklearn.preprocessing import StandardScaler\n",
        "from sklearn.model_selection import train_test_split, KFold\n",
        "from scipy import stats\n",
        "from keras.models import Sequential\n",
        "from keras.layers import Dense\n",
        "from keras.optimizers import gradient_descent_v2, adam_v2, rmsprop_v2\n"
      ]
    },
    {
      "cell_type": "markdown",
      "metadata": {
        "id": "eZUlhaX9w1DE"
      },
      "source": [
        "## Get the Data"
      ]
    },
    {
      "cell_type": "code",
      "execution_count": null,
      "metadata": {
        "id": "DlFAXe0cw1DF"
      },
      "outputs": [],
      "source": [
        "data = pd.read_csv('/content/mammographic_masses.data.txt', names=['BI_RADS','Age','Shape','Margin','Density','Severity'])"
      ]
    },
    {
      "cell_type": "markdown",
      "metadata": {
        "id": "Yd5wliHhw1DF"
      },
      "source": [
        "Convert missing data (indicated by a ?) into NaN and add the appropriate column names (BI_RADS, age, shape, margin, density, and severity)"
      ]
    },
    {
      "cell_type": "code",
      "execution_count": null,
      "metadata": {
        "id": "r5UCQeqhw1DG",
        "outputId": "2d0409e5-fd4f-411a-86d9-5f83bf872441",
        "colab": {
          "base_uri": "https://localhost:8080/",
          "height": 423
        }
      },
      "outputs": [
        {
          "output_type": "execute_result",
          "data": {
            "text/plain": [
              "    BI_RADS Age Shape Margin Density  Severity\n",
              "0         5  67     3      5       3         1\n",
              "1         4  43     1      1     NaN         1\n",
              "2         5  58     4      5       3         1\n",
              "3         4  28     1      1       3         0\n",
              "4         5  74     1      5     NaN         1\n",
              "..      ...  ..   ...    ...     ...       ...\n",
              "956       4  47     2      1       3         0\n",
              "957       4  56     4      5       3         1\n",
              "958       4  64     4      5       3         0\n",
              "959       5  66     4      5       3         1\n",
              "960       4  62     3      3       3         0\n",
              "\n",
              "[961 rows x 6 columns]"
            ],
            "text/html": [
              "\n",
              "  <div id=\"df-6c7fa749-d7d3-44cb-8e67-69239fc046fc\">\n",
              "    <div class=\"colab-df-container\">\n",
              "      <div>\n",
              "<style scoped>\n",
              "    .dataframe tbody tr th:only-of-type {\n",
              "        vertical-align: middle;\n",
              "    }\n",
              "\n",
              "    .dataframe tbody tr th {\n",
              "        vertical-align: top;\n",
              "    }\n",
              "\n",
              "    .dataframe thead th {\n",
              "        text-align: right;\n",
              "    }\n",
              "</style>\n",
              "<table border=\"1\" class=\"dataframe\">\n",
              "  <thead>\n",
              "    <tr style=\"text-align: right;\">\n",
              "      <th></th>\n",
              "      <th>BI_RADS</th>\n",
              "      <th>Age</th>\n",
              "      <th>Shape</th>\n",
              "      <th>Margin</th>\n",
              "      <th>Density</th>\n",
              "      <th>Severity</th>\n",
              "    </tr>\n",
              "  </thead>\n",
              "  <tbody>\n",
              "    <tr>\n",
              "      <th>0</th>\n",
              "      <td>5</td>\n",
              "      <td>67</td>\n",
              "      <td>3</td>\n",
              "      <td>5</td>\n",
              "      <td>3</td>\n",
              "      <td>1</td>\n",
              "    </tr>\n",
              "    <tr>\n",
              "      <th>1</th>\n",
              "      <td>4</td>\n",
              "      <td>43</td>\n",
              "      <td>1</td>\n",
              "      <td>1</td>\n",
              "      <td>NaN</td>\n",
              "      <td>1</td>\n",
              "    </tr>\n",
              "    <tr>\n",
              "      <th>2</th>\n",
              "      <td>5</td>\n",
              "      <td>58</td>\n",
              "      <td>4</td>\n",
              "      <td>5</td>\n",
              "      <td>3</td>\n",
              "      <td>1</td>\n",
              "    </tr>\n",
              "    <tr>\n",
              "      <th>3</th>\n",
              "      <td>4</td>\n",
              "      <td>28</td>\n",
              "      <td>1</td>\n",
              "      <td>1</td>\n",
              "      <td>3</td>\n",
              "      <td>0</td>\n",
              "    </tr>\n",
              "    <tr>\n",
              "      <th>4</th>\n",
              "      <td>5</td>\n",
              "      <td>74</td>\n",
              "      <td>1</td>\n",
              "      <td>5</td>\n",
              "      <td>NaN</td>\n",
              "      <td>1</td>\n",
              "    </tr>\n",
              "    <tr>\n",
              "      <th>...</th>\n",
              "      <td>...</td>\n",
              "      <td>...</td>\n",
              "      <td>...</td>\n",
              "      <td>...</td>\n",
              "      <td>...</td>\n",
              "      <td>...</td>\n",
              "    </tr>\n",
              "    <tr>\n",
              "      <th>956</th>\n",
              "      <td>4</td>\n",
              "      <td>47</td>\n",
              "      <td>2</td>\n",
              "      <td>1</td>\n",
              "      <td>3</td>\n",
              "      <td>0</td>\n",
              "    </tr>\n",
              "    <tr>\n",
              "      <th>957</th>\n",
              "      <td>4</td>\n",
              "      <td>56</td>\n",
              "      <td>4</td>\n",
              "      <td>5</td>\n",
              "      <td>3</td>\n",
              "      <td>1</td>\n",
              "    </tr>\n",
              "    <tr>\n",
              "      <th>958</th>\n",
              "      <td>4</td>\n",
              "      <td>64</td>\n",
              "      <td>4</td>\n",
              "      <td>5</td>\n",
              "      <td>3</td>\n",
              "      <td>0</td>\n",
              "    </tr>\n",
              "    <tr>\n",
              "      <th>959</th>\n",
              "      <td>5</td>\n",
              "      <td>66</td>\n",
              "      <td>4</td>\n",
              "      <td>5</td>\n",
              "      <td>3</td>\n",
              "      <td>1</td>\n",
              "    </tr>\n",
              "    <tr>\n",
              "      <th>960</th>\n",
              "      <td>4</td>\n",
              "      <td>62</td>\n",
              "      <td>3</td>\n",
              "      <td>3</td>\n",
              "      <td>3</td>\n",
              "      <td>0</td>\n",
              "    </tr>\n",
              "  </tbody>\n",
              "</table>\n",
              "<p>961 rows × 6 columns</p>\n",
              "</div>\n",
              "      <button class=\"colab-df-convert\" onclick=\"convertToInteractive('df-6c7fa749-d7d3-44cb-8e67-69239fc046fc')\"\n",
              "              title=\"Convert this dataframe to an interactive table.\"\n",
              "              style=\"display:none;\">\n",
              "        \n",
              "  <svg xmlns=\"http://www.w3.org/2000/svg\" height=\"24px\"viewBox=\"0 0 24 24\"\n",
              "       width=\"24px\">\n",
              "    <path d=\"M0 0h24v24H0V0z\" fill=\"none\"/>\n",
              "    <path d=\"M18.56 5.44l.94 2.06.94-2.06 2.06-.94-2.06-.94-.94-2.06-.94 2.06-2.06.94zm-11 1L8.5 8.5l.94-2.06 2.06-.94-2.06-.94L8.5 2.5l-.94 2.06-2.06.94zm10 10l.94 2.06.94-2.06 2.06-.94-2.06-.94-.94-2.06-.94 2.06-2.06.94z\"/><path d=\"M17.41 7.96l-1.37-1.37c-.4-.4-.92-.59-1.43-.59-.52 0-1.04.2-1.43.59L10.3 9.45l-7.72 7.72c-.78.78-.78 2.05 0 2.83L4 21.41c.39.39.9.59 1.41.59.51 0 1.02-.2 1.41-.59l7.78-7.78 2.81-2.81c.8-.78.8-2.07 0-2.86zM5.41 20L4 18.59l7.72-7.72 1.47 1.35L5.41 20z\"/>\n",
              "  </svg>\n",
              "      </button>\n",
              "      \n",
              "  <style>\n",
              "    .colab-df-container {\n",
              "      display:flex;\n",
              "      flex-wrap:wrap;\n",
              "      gap: 12px;\n",
              "    }\n",
              "\n",
              "    .colab-df-convert {\n",
              "      background-color: #E8F0FE;\n",
              "      border: none;\n",
              "      border-radius: 50%;\n",
              "      cursor: pointer;\n",
              "      display: none;\n",
              "      fill: #1967D2;\n",
              "      height: 32px;\n",
              "      padding: 0 0 0 0;\n",
              "      width: 32px;\n",
              "    }\n",
              "\n",
              "    .colab-df-convert:hover {\n",
              "      background-color: #E2EBFA;\n",
              "      box-shadow: 0px 1px 2px rgba(60, 64, 67, 0.3), 0px 1px 3px 1px rgba(60, 64, 67, 0.15);\n",
              "      fill: #174EA6;\n",
              "    }\n",
              "\n",
              "    [theme=dark] .colab-df-convert {\n",
              "      background-color: #3B4455;\n",
              "      fill: #D2E3FC;\n",
              "    }\n",
              "\n",
              "    [theme=dark] .colab-df-convert:hover {\n",
              "      background-color: #434B5C;\n",
              "      box-shadow: 0px 1px 3px 1px rgba(0, 0, 0, 0.15);\n",
              "      filter: drop-shadow(0px 1px 2px rgba(0, 0, 0, 0.3));\n",
              "      fill: #FFFFFF;\n",
              "    }\n",
              "  </style>\n",
              "\n",
              "      <script>\n",
              "        const buttonEl =\n",
              "          document.querySelector('#df-6c7fa749-d7d3-44cb-8e67-69239fc046fc button.colab-df-convert');\n",
              "        buttonEl.style.display =\n",
              "          google.colab.kernel.accessAllowed ? 'block' : 'none';\n",
              "\n",
              "        async function convertToInteractive(key) {\n",
              "          const element = document.querySelector('#df-6c7fa749-d7d3-44cb-8e67-69239fc046fc');\n",
              "          const dataTable =\n",
              "            await google.colab.kernel.invokeFunction('convertToInteractive',\n",
              "                                                     [key], {});\n",
              "          if (!dataTable) return;\n",
              "\n",
              "          const docLinkHtml = 'Like what you see? Visit the ' +\n",
              "            '<a target=\"_blank\" href=https://colab.research.google.com/notebooks/data_table.ipynb>data table notebook</a>'\n",
              "            + ' to learn more about interactive tables.';\n",
              "          element.innerHTML = '';\n",
              "          dataTable['output_type'] = 'display_data';\n",
              "          await google.colab.output.renderOutput(dataTable, element);\n",
              "          const docLink = document.createElement('div');\n",
              "          docLink.innerHTML = docLinkHtml;\n",
              "          element.appendChild(docLink);\n",
              "        }\n",
              "      </script>\n",
              "    </div>\n",
              "  </div>\n",
              "  "
            ]
          },
          "metadata": {},
          "execution_count": 4
        }
      ],
      "source": [
        "data = data.replace('?',np.nan)\n",
        "data"
      ]
    },
    {
      "cell_type": "markdown",
      "metadata": {
        "id": "w7d_qP-6w1DG"
      },
      "source": [
        "**Drop BI_RADS column because it has no influence on the severity forecast**"
      ]
    },
    {
      "cell_type": "code",
      "execution_count": null,
      "metadata": {
        "id": "2M4KvWC2w1DH"
      },
      "outputs": [],
      "source": [
        "data = data.drop(columns=['BI_RADS'])"
      ]
    },
    {
      "cell_type": "markdown",
      "metadata": {
        "id": "f8GOdo3mw1DH"
      },
      "source": [
        "**Convert datatype 'object' to 'float64'**  "
      ]
    },
    {
      "cell_type": "code",
      "execution_count": null,
      "metadata": {
        "id": "RkL5AQcxw1DI",
        "outputId": "c352218b-3857-4b32-df77-28481b7b8764",
        "colab": {
          "base_uri": "https://localhost:8080/"
        }
      },
      "outputs": [
        {
          "output_type": "stream",
          "name": "stdout",
          "text": [
            "<class 'pandas.core.frame.DataFrame'>\n",
            "RangeIndex: 961 entries, 0 to 960\n",
            "Data columns (total 5 columns):\n",
            " #   Column    Non-Null Count  Dtype \n",
            "---  ------    --------------  ----- \n",
            " 0   Age       956 non-null    object\n",
            " 1   Shape     930 non-null    object\n",
            " 2   Margin    913 non-null    object\n",
            " 3   Density   885 non-null    object\n",
            " 4   Severity  961 non-null    int64 \n",
            "dtypes: int64(1), object(4)\n",
            "memory usage: 37.7+ KB\n"
          ]
        }
      ],
      "source": [
        "data.info()"
      ]
    },
    {
      "cell_type": "code",
      "execution_count": null,
      "metadata": {
        "id": "csRc2Yylw1DI",
        "outputId": "209a3474-2860-41a3-a1d0-762777f72cd2",
        "colab": {
          "base_uri": "https://localhost:8080/",
          "height": 423
        }
      },
      "outputs": [
        {
          "output_type": "execute_result",
          "data": {
            "text/plain": [
              "      Age  Shape  Margin  Density  Severity\n",
              "0    67.0    3.0     5.0      3.0       1.0\n",
              "1    43.0    1.0     1.0      NaN       1.0\n",
              "2    58.0    4.0     5.0      3.0       1.0\n",
              "3    28.0    1.0     1.0      3.0       0.0\n",
              "4    74.0    1.0     5.0      NaN       1.0\n",
              "..    ...    ...     ...      ...       ...\n",
              "956  47.0    2.0     1.0      3.0       0.0\n",
              "957  56.0    4.0     5.0      3.0       1.0\n",
              "958  64.0    4.0     5.0      3.0       0.0\n",
              "959  66.0    4.0     5.0      3.0       1.0\n",
              "960  62.0    3.0     3.0      3.0       0.0\n",
              "\n",
              "[961 rows x 5 columns]"
            ],
            "text/html": [
              "\n",
              "  <div id=\"df-04a1140d-e92d-44ce-b9a5-962f7d346e51\">\n",
              "    <div class=\"colab-df-container\">\n",
              "      <div>\n",
              "<style scoped>\n",
              "    .dataframe tbody tr th:only-of-type {\n",
              "        vertical-align: middle;\n",
              "    }\n",
              "\n",
              "    .dataframe tbody tr th {\n",
              "        vertical-align: top;\n",
              "    }\n",
              "\n",
              "    .dataframe thead th {\n",
              "        text-align: right;\n",
              "    }\n",
              "</style>\n",
              "<table border=\"1\" class=\"dataframe\">\n",
              "  <thead>\n",
              "    <tr style=\"text-align: right;\">\n",
              "      <th></th>\n",
              "      <th>Age</th>\n",
              "      <th>Shape</th>\n",
              "      <th>Margin</th>\n",
              "      <th>Density</th>\n",
              "      <th>Severity</th>\n",
              "    </tr>\n",
              "  </thead>\n",
              "  <tbody>\n",
              "    <tr>\n",
              "      <th>0</th>\n",
              "      <td>67.0</td>\n",
              "      <td>3.0</td>\n",
              "      <td>5.0</td>\n",
              "      <td>3.0</td>\n",
              "      <td>1.0</td>\n",
              "    </tr>\n",
              "    <tr>\n",
              "      <th>1</th>\n",
              "      <td>43.0</td>\n",
              "      <td>1.0</td>\n",
              "      <td>1.0</td>\n",
              "      <td>NaN</td>\n",
              "      <td>1.0</td>\n",
              "    </tr>\n",
              "    <tr>\n",
              "      <th>2</th>\n",
              "      <td>58.0</td>\n",
              "      <td>4.0</td>\n",
              "      <td>5.0</td>\n",
              "      <td>3.0</td>\n",
              "      <td>1.0</td>\n",
              "    </tr>\n",
              "    <tr>\n",
              "      <th>3</th>\n",
              "      <td>28.0</td>\n",
              "      <td>1.0</td>\n",
              "      <td>1.0</td>\n",
              "      <td>3.0</td>\n",
              "      <td>0.0</td>\n",
              "    </tr>\n",
              "    <tr>\n",
              "      <th>4</th>\n",
              "      <td>74.0</td>\n",
              "      <td>1.0</td>\n",
              "      <td>5.0</td>\n",
              "      <td>NaN</td>\n",
              "      <td>1.0</td>\n",
              "    </tr>\n",
              "    <tr>\n",
              "      <th>...</th>\n",
              "      <td>...</td>\n",
              "      <td>...</td>\n",
              "      <td>...</td>\n",
              "      <td>...</td>\n",
              "      <td>...</td>\n",
              "    </tr>\n",
              "    <tr>\n",
              "      <th>956</th>\n",
              "      <td>47.0</td>\n",
              "      <td>2.0</td>\n",
              "      <td>1.0</td>\n",
              "      <td>3.0</td>\n",
              "      <td>0.0</td>\n",
              "    </tr>\n",
              "    <tr>\n",
              "      <th>957</th>\n",
              "      <td>56.0</td>\n",
              "      <td>4.0</td>\n",
              "      <td>5.0</td>\n",
              "      <td>3.0</td>\n",
              "      <td>1.0</td>\n",
              "    </tr>\n",
              "    <tr>\n",
              "      <th>958</th>\n",
              "      <td>64.0</td>\n",
              "      <td>4.0</td>\n",
              "      <td>5.0</td>\n",
              "      <td>3.0</td>\n",
              "      <td>0.0</td>\n",
              "    </tr>\n",
              "    <tr>\n",
              "      <th>959</th>\n",
              "      <td>66.0</td>\n",
              "      <td>4.0</td>\n",
              "      <td>5.0</td>\n",
              "      <td>3.0</td>\n",
              "      <td>1.0</td>\n",
              "    </tr>\n",
              "    <tr>\n",
              "      <th>960</th>\n",
              "      <td>62.0</td>\n",
              "      <td>3.0</td>\n",
              "      <td>3.0</td>\n",
              "      <td>3.0</td>\n",
              "      <td>0.0</td>\n",
              "    </tr>\n",
              "  </tbody>\n",
              "</table>\n",
              "<p>961 rows × 5 columns</p>\n",
              "</div>\n",
              "      <button class=\"colab-df-convert\" onclick=\"convertToInteractive('df-04a1140d-e92d-44ce-b9a5-962f7d346e51')\"\n",
              "              title=\"Convert this dataframe to an interactive table.\"\n",
              "              style=\"display:none;\">\n",
              "        \n",
              "  <svg xmlns=\"http://www.w3.org/2000/svg\" height=\"24px\"viewBox=\"0 0 24 24\"\n",
              "       width=\"24px\">\n",
              "    <path d=\"M0 0h24v24H0V0z\" fill=\"none\"/>\n",
              "    <path d=\"M18.56 5.44l.94 2.06.94-2.06 2.06-.94-2.06-.94-.94-2.06-.94 2.06-2.06.94zm-11 1L8.5 8.5l.94-2.06 2.06-.94-2.06-.94L8.5 2.5l-.94 2.06-2.06.94zm10 10l.94 2.06.94-2.06 2.06-.94-2.06-.94-.94-2.06-.94 2.06-2.06.94z\"/><path d=\"M17.41 7.96l-1.37-1.37c-.4-.4-.92-.59-1.43-.59-.52 0-1.04.2-1.43.59L10.3 9.45l-7.72 7.72c-.78.78-.78 2.05 0 2.83L4 21.41c.39.39.9.59 1.41.59.51 0 1.02-.2 1.41-.59l7.78-7.78 2.81-2.81c.8-.78.8-2.07 0-2.86zM5.41 20L4 18.59l7.72-7.72 1.47 1.35L5.41 20z\"/>\n",
              "  </svg>\n",
              "      </button>\n",
              "      \n",
              "  <style>\n",
              "    .colab-df-container {\n",
              "      display:flex;\n",
              "      flex-wrap:wrap;\n",
              "      gap: 12px;\n",
              "    }\n",
              "\n",
              "    .colab-df-convert {\n",
              "      background-color: #E8F0FE;\n",
              "      border: none;\n",
              "      border-radius: 50%;\n",
              "      cursor: pointer;\n",
              "      display: none;\n",
              "      fill: #1967D2;\n",
              "      height: 32px;\n",
              "      padding: 0 0 0 0;\n",
              "      width: 32px;\n",
              "    }\n",
              "\n",
              "    .colab-df-convert:hover {\n",
              "      background-color: #E2EBFA;\n",
              "      box-shadow: 0px 1px 2px rgba(60, 64, 67, 0.3), 0px 1px 3px 1px rgba(60, 64, 67, 0.15);\n",
              "      fill: #174EA6;\n",
              "    }\n",
              "\n",
              "    [theme=dark] .colab-df-convert {\n",
              "      background-color: #3B4455;\n",
              "      fill: #D2E3FC;\n",
              "    }\n",
              "\n",
              "    [theme=dark] .colab-df-convert:hover {\n",
              "      background-color: #434B5C;\n",
              "      box-shadow: 0px 1px 3px 1px rgba(0, 0, 0, 0.15);\n",
              "      filter: drop-shadow(0px 1px 2px rgba(0, 0, 0, 0.3));\n",
              "      fill: #FFFFFF;\n",
              "    }\n",
              "  </style>\n",
              "\n",
              "      <script>\n",
              "        const buttonEl =\n",
              "          document.querySelector('#df-04a1140d-e92d-44ce-b9a5-962f7d346e51 button.colab-df-convert');\n",
              "        buttonEl.style.display =\n",
              "          google.colab.kernel.accessAllowed ? 'block' : 'none';\n",
              "\n",
              "        async function convertToInteractive(key) {\n",
              "          const element = document.querySelector('#df-04a1140d-e92d-44ce-b9a5-962f7d346e51');\n",
              "          const dataTable =\n",
              "            await google.colab.kernel.invokeFunction('convertToInteractive',\n",
              "                                                     [key], {});\n",
              "          if (!dataTable) return;\n",
              "\n",
              "          const docLinkHtml = 'Like what you see? Visit the ' +\n",
              "            '<a target=\"_blank\" href=https://colab.research.google.com/notebooks/data_table.ipynb>data table notebook</a>'\n",
              "            + ' to learn more about interactive tables.';\n",
              "          element.innerHTML = '';\n",
              "          dataTable['output_type'] = 'display_data';\n",
              "          await google.colab.output.renderOutput(dataTable, element);\n",
              "          const docLink = document.createElement('div');\n",
              "          docLink.innerHTML = docLinkHtml;\n",
              "          element.appendChild(docLink);\n",
              "        }\n",
              "      </script>\n",
              "    </div>\n",
              "  </div>\n",
              "  "
            ]
          },
          "metadata": {},
          "execution_count": 7
        }
      ],
      "source": [
        "data = data.astype(float)\n",
        "data"
      ]
    },
    {
      "cell_type": "code",
      "execution_count": null,
      "metadata": {
        "id": "Q_B74-pTw1DJ",
        "outputId": "435e0649-de49-4248-d3b8-a899328f4c65",
        "colab": {
          "base_uri": "https://localhost:8080/"
        }
      },
      "outputs": [
        {
          "output_type": "stream",
          "name": "stdout",
          "text": [
            "<class 'pandas.core.frame.DataFrame'>\n",
            "RangeIndex: 961 entries, 0 to 960\n",
            "Data columns (total 5 columns):\n",
            " #   Column    Non-Null Count  Dtype  \n",
            "---  ------    --------------  -----  \n",
            " 0   Age       956 non-null    float64\n",
            " 1   Shape     930 non-null    float64\n",
            " 2   Margin    913 non-null    float64\n",
            " 3   Density   885 non-null    float64\n",
            " 4   Severity  961 non-null    float64\n",
            "dtypes: float64(5)\n",
            "memory usage: 37.7 KB\n"
          ]
        }
      ],
      "source": [
        "data.info()"
      ]
    },
    {
      "cell_type": "code",
      "execution_count": null,
      "metadata": {
        "id": "Z8j-jJEDw1DJ",
        "outputId": "6b0a926e-adba-4360-9542-89ecb15f33e1",
        "colab": {
          "base_uri": "https://localhost:8080/",
          "height": 300
        }
      },
      "outputs": [
        {
          "output_type": "execute_result",
          "data": {
            "text/plain": [
              "              Age       Shape      Margin     Density    Severity\n",
              "count  956.000000  930.000000  913.000000  885.000000  961.000000\n",
              "mean    55.487448    2.721505    2.796276    2.910734    0.463059\n",
              "std     14.480131    1.242792    1.566546    0.380444    0.498893\n",
              "min     18.000000    1.000000    1.000000    1.000000    0.000000\n",
              "25%     45.000000    2.000000    1.000000    3.000000    0.000000\n",
              "50%     57.000000    3.000000    3.000000    3.000000    0.000000\n",
              "75%     66.000000    4.000000    4.000000    3.000000    1.000000\n",
              "max     96.000000    4.000000    5.000000    4.000000    1.000000"
            ],
            "text/html": [
              "\n",
              "  <div id=\"df-2dbdc63b-f126-41de-8300-f847dbf9e4e8\">\n",
              "    <div class=\"colab-df-container\">\n",
              "      <div>\n",
              "<style scoped>\n",
              "    .dataframe tbody tr th:only-of-type {\n",
              "        vertical-align: middle;\n",
              "    }\n",
              "\n",
              "    .dataframe tbody tr th {\n",
              "        vertical-align: top;\n",
              "    }\n",
              "\n",
              "    .dataframe thead th {\n",
              "        text-align: right;\n",
              "    }\n",
              "</style>\n",
              "<table border=\"1\" class=\"dataframe\">\n",
              "  <thead>\n",
              "    <tr style=\"text-align: right;\">\n",
              "      <th></th>\n",
              "      <th>Age</th>\n",
              "      <th>Shape</th>\n",
              "      <th>Margin</th>\n",
              "      <th>Density</th>\n",
              "      <th>Severity</th>\n",
              "    </tr>\n",
              "  </thead>\n",
              "  <tbody>\n",
              "    <tr>\n",
              "      <th>count</th>\n",
              "      <td>956.000000</td>\n",
              "      <td>930.000000</td>\n",
              "      <td>913.000000</td>\n",
              "      <td>885.000000</td>\n",
              "      <td>961.000000</td>\n",
              "    </tr>\n",
              "    <tr>\n",
              "      <th>mean</th>\n",
              "      <td>55.487448</td>\n",
              "      <td>2.721505</td>\n",
              "      <td>2.796276</td>\n",
              "      <td>2.910734</td>\n",
              "      <td>0.463059</td>\n",
              "    </tr>\n",
              "    <tr>\n",
              "      <th>std</th>\n",
              "      <td>14.480131</td>\n",
              "      <td>1.242792</td>\n",
              "      <td>1.566546</td>\n",
              "      <td>0.380444</td>\n",
              "      <td>0.498893</td>\n",
              "    </tr>\n",
              "    <tr>\n",
              "      <th>min</th>\n",
              "      <td>18.000000</td>\n",
              "      <td>1.000000</td>\n",
              "      <td>1.000000</td>\n",
              "      <td>1.000000</td>\n",
              "      <td>0.000000</td>\n",
              "    </tr>\n",
              "    <tr>\n",
              "      <th>25%</th>\n",
              "      <td>45.000000</td>\n",
              "      <td>2.000000</td>\n",
              "      <td>1.000000</td>\n",
              "      <td>3.000000</td>\n",
              "      <td>0.000000</td>\n",
              "    </tr>\n",
              "    <tr>\n",
              "      <th>50%</th>\n",
              "      <td>57.000000</td>\n",
              "      <td>3.000000</td>\n",
              "      <td>3.000000</td>\n",
              "      <td>3.000000</td>\n",
              "      <td>0.000000</td>\n",
              "    </tr>\n",
              "    <tr>\n",
              "      <th>75%</th>\n",
              "      <td>66.000000</td>\n",
              "      <td>4.000000</td>\n",
              "      <td>4.000000</td>\n",
              "      <td>3.000000</td>\n",
              "      <td>1.000000</td>\n",
              "    </tr>\n",
              "    <tr>\n",
              "      <th>max</th>\n",
              "      <td>96.000000</td>\n",
              "      <td>4.000000</td>\n",
              "      <td>5.000000</td>\n",
              "      <td>4.000000</td>\n",
              "      <td>1.000000</td>\n",
              "    </tr>\n",
              "  </tbody>\n",
              "</table>\n",
              "</div>\n",
              "      <button class=\"colab-df-convert\" onclick=\"convertToInteractive('df-2dbdc63b-f126-41de-8300-f847dbf9e4e8')\"\n",
              "              title=\"Convert this dataframe to an interactive table.\"\n",
              "              style=\"display:none;\">\n",
              "        \n",
              "  <svg xmlns=\"http://www.w3.org/2000/svg\" height=\"24px\"viewBox=\"0 0 24 24\"\n",
              "       width=\"24px\">\n",
              "    <path d=\"M0 0h24v24H0V0z\" fill=\"none\"/>\n",
              "    <path d=\"M18.56 5.44l.94 2.06.94-2.06 2.06-.94-2.06-.94-.94-2.06-.94 2.06-2.06.94zm-11 1L8.5 8.5l.94-2.06 2.06-.94-2.06-.94L8.5 2.5l-.94 2.06-2.06.94zm10 10l.94 2.06.94-2.06 2.06-.94-2.06-.94-.94-2.06-.94 2.06-2.06.94z\"/><path d=\"M17.41 7.96l-1.37-1.37c-.4-.4-.92-.59-1.43-.59-.52 0-1.04.2-1.43.59L10.3 9.45l-7.72 7.72c-.78.78-.78 2.05 0 2.83L4 21.41c.39.39.9.59 1.41.59.51 0 1.02-.2 1.41-.59l7.78-7.78 2.81-2.81c.8-.78.8-2.07 0-2.86zM5.41 20L4 18.59l7.72-7.72 1.47 1.35L5.41 20z\"/>\n",
              "  </svg>\n",
              "      </button>\n",
              "      \n",
              "  <style>\n",
              "    .colab-df-container {\n",
              "      display:flex;\n",
              "      flex-wrap:wrap;\n",
              "      gap: 12px;\n",
              "    }\n",
              "\n",
              "    .colab-df-convert {\n",
              "      background-color: #E8F0FE;\n",
              "      border: none;\n",
              "      border-radius: 50%;\n",
              "      cursor: pointer;\n",
              "      display: none;\n",
              "      fill: #1967D2;\n",
              "      height: 32px;\n",
              "      padding: 0 0 0 0;\n",
              "      width: 32px;\n",
              "    }\n",
              "\n",
              "    .colab-df-convert:hover {\n",
              "      background-color: #E2EBFA;\n",
              "      box-shadow: 0px 1px 2px rgba(60, 64, 67, 0.3), 0px 1px 3px 1px rgba(60, 64, 67, 0.15);\n",
              "      fill: #174EA6;\n",
              "    }\n",
              "\n",
              "    [theme=dark] .colab-df-convert {\n",
              "      background-color: #3B4455;\n",
              "      fill: #D2E3FC;\n",
              "    }\n",
              "\n",
              "    [theme=dark] .colab-df-convert:hover {\n",
              "      background-color: #434B5C;\n",
              "      box-shadow: 0px 1px 3px 1px rgba(0, 0, 0, 0.15);\n",
              "      filter: drop-shadow(0px 1px 2px rgba(0, 0, 0, 0.3));\n",
              "      fill: #FFFFFF;\n",
              "    }\n",
              "  </style>\n",
              "\n",
              "      <script>\n",
              "        const buttonEl =\n",
              "          document.querySelector('#df-2dbdc63b-f126-41de-8300-f847dbf9e4e8 button.colab-df-convert');\n",
              "        buttonEl.style.display =\n",
              "          google.colab.kernel.accessAllowed ? 'block' : 'none';\n",
              "\n",
              "        async function convertToInteractive(key) {\n",
              "          const element = document.querySelector('#df-2dbdc63b-f126-41de-8300-f847dbf9e4e8');\n",
              "          const dataTable =\n",
              "            await google.colab.kernel.invokeFunction('convertToInteractive',\n",
              "                                                     [key], {});\n",
              "          if (!dataTable) return;\n",
              "\n",
              "          const docLinkHtml = 'Like what you see? Visit the ' +\n",
              "            '<a target=\"_blank\" href=https://colab.research.google.com/notebooks/data_table.ipynb>data table notebook</a>'\n",
              "            + ' to learn more about interactive tables.';\n",
              "          element.innerHTML = '';\n",
              "          dataTable['output_type'] = 'display_data';\n",
              "          await google.colab.output.renderOutput(dataTable, element);\n",
              "          const docLink = document.createElement('div');\n",
              "          docLink.innerHTML = docLinkHtml;\n",
              "          element.appendChild(docLink);\n",
              "        }\n",
              "      </script>\n",
              "    </div>\n",
              "  </div>\n",
              "  "
            ]
          },
          "metadata": {},
          "execution_count": 9
        }
      ],
      "source": [
        "data.describe()"
      ]
    },
    {
      "cell_type": "markdown",
      "metadata": {
        "id": "bHuVrEN-w1DJ"
      },
      "source": [
        "### Analysing missing values\n",
        "**First we get the missing values per feature.**\n",
        "\n",
        "*Lets check them out as well*"
      ]
    },
    {
      "cell_type": "code",
      "execution_count": null,
      "metadata": {
        "id": "y0BAbWstw1DJ",
        "outputId": "10d2dbf1-0df4-4ad2-fc7a-d7da16a7ecb6",
        "colab": {
          "base_uri": "https://localhost:8080/"
        }
      },
      "outputs": [
        {
          "output_type": "execute_result",
          "data": {
            "text/plain": [
              "Age         5\n",
              "Shape      31\n",
              "Margin     48\n",
              "Density    76\n",
              "dtype: int64"
            ]
          },
          "metadata": {},
          "execution_count": 10
        }
      ],
      "source": [
        "missing_values_feature = data.isnull().sum(axis=0)\n",
        "graph = missing_values_feature.drop(labels='Severity')\n",
        "graph"
      ]
    },
    {
      "cell_type": "code",
      "execution_count": null,
      "metadata": {
        "id": "janfbYPpw1DK",
        "outputId": "ca20e45b-7c3e-4d0c-9884-be0a4c83cd76",
        "colab": {
          "base_uri": "https://localhost:8080/",
          "height": 338
        }
      },
      "outputs": [
        {
          "output_type": "execute_result",
          "data": {
            "text/plain": [
              "<BarContainer object of 4 artists>"
            ]
          },
          "metadata": {},
          "execution_count": 11
        },
        {
          "output_type": "display_data",
          "data": {
            "text/plain": [
              "<Figure size 1080x360 with 1 Axes>"
            ],
            "image/png": "[encoded data removed]"
          },
          "metadata": {
            "needs_background": "light"
          }
        }
      ],
      "source": [
        "plt.figure(figsize=(15, 5))\n",
        "plt.subplot(131)\n",
        "plt.bar(graph.axes[0].to_list(), graph.values)"
      ]
    },
    {
      "cell_type": "markdown",
      "metadata": {
        "id": "m7HIwdfjw1DL"
      },
      "source": [
        "*Finally we can check the percentage of missing values per feature*"
      ]
    },
    {
      "cell_type": "code",
      "execution_count": null,
      "metadata": {
        "id": "x2hrUHScw1DL",
        "outputId": "b502b2cc-5570-4cfa-9ae9-825c6e4e8cb0",
        "colab": {
          "base_uri": "https://localhost:8080/"
        }
      },
      "outputs": [
        {
          "output_type": "stream",
          "name": "stdout",
          "text": [
            "          percent_missing\n",
            "Age              0.520291\n",
            "Shape            3.225806\n",
            "Margin           4.994797\n",
            "Density          7.908429\n",
            "Severity         0.000000\n"
          ]
        }
      ],
      "source": [
        "percent_missing = data.isnull().sum() * 100 / len(data)\n",
        "missing_value_df = pd.DataFrame({'percent_missing': percent_missing})\n",
        "print(missing_value_df)"
      ]
    },
    {
      "cell_type": "markdown",
      "metadata": {
        "id": "0xs6ImNew1DL"
      },
      "source": [
        "**After analysing the columns, we should have a look at the rows**"
      ]
    },
    {
      "cell_type": "code",
      "execution_count": null,
      "metadata": {
        "id": "0ybte5GEw1DL",
        "outputId": "ee8604cc-518b-49c3-9687-a3e4b2f561fe",
        "colab": {
          "base_uri": "https://localhost:8080/",
          "height": 423
        }
      },
      "outputs": [
        {
          "output_type": "execute_result",
          "data": {
            "text/plain": [
              "     data_missing\n",
              "100             2\n",
              "87              2\n",
              "35              2\n",
              "752             2\n",
              "48              2\n",
              "..            ...\n",
              "373             0\n",
              "374             0\n",
              "376             0\n",
              "377             0\n",
              "960             0\n",
              "\n",
              "[961 rows x 1 columns]"
            ],
            "text/html": [
              "\n",
              "  <div id=\"df-36a56dce-7b2f-427c-83a6-30809f29090a\">\n",
              "    <div class=\"colab-df-container\">\n",
              "      <div>\n",
              "<style scoped>\n",
              "    .dataframe tbody tr th:only-of-type {\n",
              "        vertical-align: middle;\n",
              "    }\n",
              "\n",
              "    .dataframe tbody tr th {\n",
              "        vertical-align: top;\n",
              "    }\n",
              "\n",
              "    .dataframe thead th {\n",
              "        text-align: right;\n",
              "    }\n",
              "</style>\n",
              "<table border=\"1\" class=\"dataframe\">\n",
              "  <thead>\n",
              "    <tr style=\"text-align: right;\">\n",
              "      <th></th>\n",
              "      <th>data_missing</th>\n",
              "    </tr>\n",
              "  </thead>\n",
              "  <tbody>\n",
              "    <tr>\n",
              "      <th>100</th>\n",
              "      <td>2</td>\n",
              "    </tr>\n",
              "    <tr>\n",
              "      <th>87</th>\n",
              "      <td>2</td>\n",
              "    </tr>\n",
              "    <tr>\n",
              "      <th>35</th>\n",
              "      <td>2</td>\n",
              "    </tr>\n",
              "    <tr>\n",
              "      <th>752</th>\n",
              "      <td>2</td>\n",
              "    </tr>\n",
              "    <tr>\n",
              "      <th>48</th>\n",
              "      <td>2</td>\n",
              "    </tr>\n",
              "    <tr>\n",
              "      <th>...</th>\n",
              "      <td>...</td>\n",
              "    </tr>\n",
              "    <tr>\n",
              "      <th>373</th>\n",
              "      <td>0</td>\n",
              "    </tr>\n",
              "    <tr>\n",
              "      <th>374</th>\n",
              "      <td>0</td>\n",
              "    </tr>\n",
              "    <tr>\n",
              "      <th>376</th>\n",
              "      <td>0</td>\n",
              "    </tr>\n",
              "    <tr>\n",
              "      <th>377</th>\n",
              "      <td>0</td>\n",
              "    </tr>\n",
              "    <tr>\n",
              "      <th>960</th>\n",
              "      <td>0</td>\n",
              "    </tr>\n",
              "  </tbody>\n",
              "</table>\n",
              "<p>961 rows × 1 columns</p>\n",
              "</div>\n",
              "      <button class=\"colab-df-convert\" onclick=\"convertToInteractive('df-36a56dce-7b2f-427c-83a6-30809f29090a')\"\n",
              "              title=\"Convert this dataframe to an interactive table.\"\n",
              "              style=\"display:none;\">\n",
              "        \n",
              "  <svg xmlns=\"http://www.w3.org/2000/svg\" height=\"24px\"viewBox=\"0 0 24 24\"\n",
              "       width=\"24px\">\n",
              "    <path d=\"M0 0h24v24H0V0z\" fill=\"none\"/>\n",
              "    <path d=\"M18.56 5.44l.94 2.06.94-2.06 2.06-.94-2.06-.94-.94-2.06-.94 2.06-2.06.94zm-11 1L8.5 8.5l.94-2.06 2.06-.94-2.06-.94L8.5 2.5l-.94 2.06-2.06.94zm10 10l.94 2.06.94-2.06 2.06-.94-2.06-.94-.94-2.06-.94 2.06-2.06.94z\"/><path d=\"M17.41 7.96l-1.37-1.37c-.4-.4-.92-.59-1.43-.59-.52 0-1.04.2-1.43.59L10.3 9.45l-7.72 7.72c-.78.78-.78 2.05 0 2.83L4 21.41c.39.39.9.59 1.41.59.51 0 1.02-.2 1.41-.59l7.78-7.78 2.81-2.81c.8-.78.8-2.07 0-2.86zM5.41 20L4 18.59l7.72-7.72 1.47 1.35L5.41 20z\"/>\n",
              "  </svg>\n",
              "      </button>\n",
              "      \n",
              "  <style>\n",
              "    .colab-df-container {\n",
              "      display:flex;\n",
              "      flex-wrap:wrap;\n",
              "      gap: 12px;\n",
              "    }\n",
              "\n",
              "    .colab-df-convert {\n",
              "      background-color: #E8F0FE;\n",
              "      border: none;\n",
              "      border-radius: 50%;\n",
              "      cursor: pointer;\n",
              "      display: none;\n",
              "      fill: #1967D2;\n",
              "      height: 32px;\n",
              "      padding: 0 0 0 0;\n",
              "      width: 32px;\n",
              "    }\n",
              "\n",
              "    .colab-df-convert:hover {\n",
              "      background-color: #E2EBFA;\n",
              "      box-shadow: 0px 1px 2px rgba(60, 64, 67, 0.3), 0px 1px 3px 1px rgba(60, 64, 67, 0.15);\n",
              "      fill: #174EA6;\n",
              "    }\n",
              "\n",
              "    [theme=dark] .colab-df-convert {\n",
              "      background-color: #3B4455;\n",
              "      fill: #D2E3FC;\n",
              "    }\n",
              "\n",
              "    [theme=dark] .colab-df-convert:hover {\n",
              "      background-color: #434B5C;\n",
              "      box-shadow: 0px 1px 3px 1px rgba(0, 0, 0, 0.15);\n",
              "      filter: drop-shadow(0px 1px 2px rgba(0, 0, 0, 0.3));\n",
              "      fill: #FFFFFF;\n",
              "    }\n",
              "  </style>\n",
              "\n",
              "      <script>\n",
              "        const buttonEl =\n",
              "          document.querySelector('#df-36a56dce-7b2f-427c-83a6-30809f29090a button.colab-df-convert');\n",
              "        buttonEl.style.display =\n",
              "          google.colab.kernel.accessAllowed ? 'block' : 'none';\n",
              "\n",
              "        async function convertToInteractive(key) {\n",
              "          const element = document.querySelector('#df-36a56dce-7b2f-427c-83a6-30809f29090a');\n",
              "          const dataTable =\n",
              "            await google.colab.kernel.invokeFunction('convertToInteractive',\n",
              "                                                     [key], {});\n",
              "          if (!dataTable) return;\n",
              "\n",
              "          const docLinkHtml = 'Like what you see? Visit the ' +\n",
              "            '<a target=\"_blank\" href=https://colab.research.google.com/notebooks/data_table.ipynb>data table notebook</a>'\n",
              "            + ' to learn more about interactive tables.';\n",
              "          element.innerHTML = '';\n",
              "          dataTable['output_type'] = 'display_data';\n",
              "          await google.colab.output.renderOutput(dataTable, element);\n",
              "          const docLink = document.createElement('div');\n",
              "          docLink.innerHTML = docLinkHtml;\n",
              "          element.appendChild(docLink);\n",
              "        }\n",
              "      </script>\n",
              "    </div>\n",
              "  </div>\n",
              "  "
            ]
          },
          "metadata": {},
          "execution_count": 13
        }
      ],
      "source": [
        "data_missing = len(data.columns) - (data.apply(lambda x: x.count(), axis=1))\n",
        "missing_values_data_rows = pd.DataFrame({'data_missing':data_missing})\n",
        "missing_values_data_rows.sort_values('data_missing',inplace=True,ascending=False)\n",
        "missing_values_data_rows"
      ]
    },
    {
      "cell_type": "markdown",
      "metadata": {
        "id": "K-qvxjG3w1DL"
      },
      "source": [
        "**Now lets analyse the missing data per class (Severity = 0 or Severity = 1).**\n",
        "\n",
        "*First we group the missing values per class*"
      ]
    },
    {
      "cell_type": "code",
      "execution_count": null,
      "metadata": {
        "id": "r_BSFvmmw1DM",
        "outputId": "504bca04-50e4-4d98-ad79-733ca564de6e",
        "colab": {
          "base_uri": "https://localhost:8080/",
          "height": 143
        }
      },
      "outputs": [
        {
          "output_type": "execute_result",
          "data": {
            "text/plain": [
              "          Age  Shape  Margin  Density\n",
              "Severity                             \n",
              "0.0         0     19      37       54\n",
              "1.0         5     12      11       22"
            ],
            "text/html": [
              "\n",
              "  <div id=\"df-2671ddb3-3aee-43bd-9437-29f46cba644f\">\n",
              "    <div class=\"colab-df-container\">\n",
              "      <div>\n",
              "<style scoped>\n",
              "    .dataframe tbody tr th:only-of-type {\n",
              "        vertical-align: middle;\n",
              "    }\n",
              "\n",
              "    .dataframe tbody tr th {\n",
              "        vertical-align: top;\n",
              "    }\n",
              "\n",
              "    .dataframe thead th {\n",
              "        text-align: right;\n",
              "    }\n",
              "</style>\n",
              "<table border=\"1\" class=\"dataframe\">\n",
              "  <thead>\n",
              "    <tr style=\"text-align: right;\">\n",
              "      <th></th>\n",
              "      <th>Age</th>\n",
              "      <th>Shape</th>\n",
              "      <th>Margin</th>\n",
              "      <th>Density</th>\n",
              "    </tr>\n",
              "    <tr>\n",
              "      <th>Severity</th>\n",
              "      <th></th>\n",
              "      <th></th>\n",
              "      <th></th>\n",
              "      <th></th>\n",
              "    </tr>\n",
              "  </thead>\n",
              "  <tbody>\n",
              "    <tr>\n",
              "      <th>0.0</th>\n",
              "      <td>0</td>\n",
              "      <td>19</td>\n",
              "      <td>37</td>\n",
              "      <td>54</td>\n",
              "    </tr>\n",
              "    <tr>\n",
              "      <th>1.0</th>\n",
              "      <td>5</td>\n",
              "      <td>12</td>\n",
              "      <td>11</td>\n",
              "      <td>22</td>\n",
              "    </tr>\n",
              "  </tbody>\n",
              "</table>\n",
              "</div>\n",
              "      <button class=\"colab-df-convert\" onclick=\"convertToInteractive('df-2671ddb3-3aee-43bd-9437-29f46cba644f')\"\n",
              "              title=\"Convert this dataframe to an interactive table.\"\n",
              "              style=\"display:none;\">\n",
              "        \n",
              "  <svg xmlns=\"http://www.w3.org/2000/svg\" height=\"24px\"viewBox=\"0 0 24 24\"\n",
              "       width=\"24px\">\n",
              "    <path d=\"M0 0h24v24H0V0z\" fill=\"none\"/>\n",
              "    <path d=\"M18.56 5.44l.94 2.06.94-2.06 2.06-.94-2.06-.94-.94-2.06-.94 2.06-2.06.94zm-11 1L8.5 8.5l.94-2.06 2.06-.94-2.06-.94L8.5 2.5l-.94 2.06-2.06.94zm10 10l.94 2.06.94-2.06 2.06-.94-2.06-.94-.94-2.06-.94 2.06-2.06.94z\"/><path d=\"M17.41 7.96l-1.37-1.37c-.4-.4-.92-.59-1.43-.59-.52 0-1.04.2-1.43.59L10.3 9.45l-7.72 7.72c-.78.78-.78 2.05 0 2.83L4 21.41c.39.39.9.59 1.41.59.51 0 1.02-.2 1.41-.59l7.78-7.78 2.81-2.81c.8-.78.8-2.07 0-2.86zM5.41 20L4 18.59l7.72-7.72 1.47 1.35L5.41 20z\"/>\n",
              "  </svg>\n",
              "      </button>\n",
              "      \n",
              "  <style>\n",
              "    .colab-df-container {\n",
              "      display:flex;\n",
              "      flex-wrap:wrap;\n",
              "      gap: 12px;\n",
              "    }\n",
              "\n",
              "    .colab-df-convert {\n",
              "      background-color: #E8F0FE;\n",
              "      border: none;\n",
              "      border-radius: 50%;\n",
              "      cursor: pointer;\n",
              "      display: none;\n",
              "      fill: #1967D2;\n",
              "      height: 32px;\n",
              "      padding: 0 0 0 0;\n",
              "      width: 32px;\n",
              "    }\n",
              "\n",
              "    .colab-df-convert:hover {\n",
              "      background-color: #E2EBFA;\n",
              "      box-shadow: 0px 1px 2px rgba(60, 64, 67, 0.3), 0px 1px 3px 1px rgba(60, 64, 67, 0.15);\n",
              "      fill: #174EA6;\n",
              "    }\n",
              "\n",
              "    [theme=dark] .colab-df-convert {\n",
              "      background-color: #3B4455;\n",
              "      fill: #D2E3FC;\n",
              "    }\n",
              "\n",
              "    [theme=dark] .colab-df-convert:hover {\n",
              "      background-color: #434B5C;\n",
              "      box-shadow: 0px 1px 3px 1px rgba(0, 0, 0, 0.15);\n",
              "      filter: drop-shadow(0px 1px 2px rgba(0, 0, 0, 0.3));\n",
              "      fill: #FFFFFF;\n",
              "    }\n",
              "  </style>\n",
              "\n",
              "      <script>\n",
              "        const buttonEl =\n",
              "          document.querySelector('#df-2671ddb3-3aee-43bd-9437-29f46cba644f button.colab-df-convert');\n",
              "        buttonEl.style.display =\n",
              "          google.colab.kernel.accessAllowed ? 'block' : 'none';\n",
              "\n",
              "        async function convertToInteractive(key) {\n",
              "          const element = document.querySelector('#df-2671ddb3-3aee-43bd-9437-29f46cba644f');\n",
              "          const dataTable =\n",
              "            await google.colab.kernel.invokeFunction('convertToInteractive',\n",
              "                                                     [key], {});\n",
              "          if (!dataTable) return;\n",
              "\n",
              "          const docLinkHtml = 'Like what you see? Visit the ' +\n",
              "            '<a target=\"_blank\" href=https://colab.research.google.com/notebooks/data_table.ipynb>data table notebook</a>'\n",
              "            + ' to learn more about interactive tables.';\n",
              "          element.innerHTML = '';\n",
              "          dataTable['output_type'] = 'display_data';\n",
              "          await google.colab.output.renderOutput(dataTable, element);\n",
              "          const docLink = document.createElement('div');\n",
              "          docLink.innerHTML = docLinkHtml;\n",
              "          element.appendChild(docLink);\n",
              "        }\n",
              "      </script>\n",
              "    </div>\n",
              "  </div>\n",
              "  "
            ]
          },
          "metadata": {},
          "execution_count": 14
        }
      ],
      "source": [
        "grouped_data = data.groupby('Severity')\n",
        "missing_values_class = grouped_data.count().rsub(grouped_data.size(), axis=0)\n",
        "missing_values_class"
      ]
    },
    {
      "cell_type": "markdown",
      "metadata": {
        "id": "xDzF9JRpw1DM"
      },
      "source": [
        "*Now we split the dataframe per class so we can draw our plot*"
      ]
    },
    {
      "cell_type": "code",
      "execution_count": null,
      "metadata": {
        "id": "wVhrkBCbw1DM"
      },
      "outputs": [],
      "source": [
        "m_new_1, m_new_2 = missing_values_class.head(1), missing_values_class.tail(1)"
      ]
    },
    {
      "cell_type": "code",
      "execution_count": null,
      "metadata": {
        "id": "j84VWhEJw1DM",
        "outputId": "1c419c98-1501-4b2b-da34-89b5e6ed485f",
        "colab": {
          "base_uri": "https://localhost:8080/",
          "height": 282
        }
      },
      "outputs": [
        {
          "output_type": "execute_result",
          "data": {
            "text/plain": [
              "<matplotlib.legend.Legend at 0x7f66671c0550>"
            ]
          },
          "metadata": {},
          "execution_count": 16
        },
        {
          "output_type": "display_data",
          "data": {
            "text/plain": [
              "<Figure size 432x288 with 1 Axes>"
            ],
            "image/png": "[encoded data removed]"
          },
          "metadata": {
            "needs_background": "light"
          }
        }
      ],
      "source": [
        "x = np.arange(len(m_new_1.axes[1].to_list()))\n",
        "width = 0.4\n",
        "\n",
        "fig, ax = plt.subplots()\n",
        "rects1 = ax.bar(x - width/2, m_new_1.values[0], width=width, label = \"Severity 0\")\n",
        "rects2 = ax.bar(x + width/2, m_new_2.values[0], width=width, label = \"Severity 1\")\n",
        "\n",
        "ax.set_xticks(x)\n",
        "ax.set_xticklabels(m_new_1.axes[1].to_list())\n",
        "ax.legend()"
      ]
    },
    {
      "cell_type": "markdown",
      "metadata": {
        "id": "7a1nDwPJw1DM"
      },
      "source": [
        "**Finally, for each class we're going to calculate the number of rows that have 1 and 2 NaN values**"
      ]
    },
    {
      "cell_type": "code",
      "execution_count": null,
      "metadata": {
        "id": "WCuO60AIw1DN"
      },
      "outputs": [],
      "source": [
        "rows_mv1_sv0 = 0\n",
        "rows_mv2_sv0 = 0\n",
        "rows_mv1_sv1 = 0\n",
        "rows_mv2_sv1 = 0"
      ]
    },
    {
      "cell_type": "code",
      "execution_count": null,
      "metadata": {
        "id": "6xvhkG7Hw1DN"
      },
      "outputs": [],
      "source": [
        "for index, row in data.iterrows():\n",
        "    if(row['Severity'] == 0):\n",
        "        if(row.isnull().sum() == 1):\n",
        "            rows_mv1_sv0 += 1\n",
        "        elif(row.isnull().sum() == 2):\n",
        "            rows_mv2_sv0 += 1\n",
        "    else:\n",
        "        if(row.isnull().sum() == 1):\n",
        "            rows_mv1_sv1 += 1\n",
        "        elif(row.isnull().sum() == 2):\n",
        "            rows_mv2_sv1 += 1"
      ]
    },
    {
      "cell_type": "markdown",
      "metadata": {
        "id": "YBUSku0vw1DN"
      },
      "source": [
        "*We create a dataframe only for visualization purpose*"
      ]
    },
    {
      "cell_type": "code",
      "execution_count": null,
      "metadata": {
        "id": "64SBznEYw1DN",
        "outputId": "f07c1d86-a117-4ee2-b8b7-877c711bde24",
        "colab": {
          "base_uri": "https://localhost:8080/",
          "height": 112
        }
      },
      "outputs": [
        {
          "output_type": "execute_result",
          "data": {
            "text/plain": [
              "            1 NaN  2 NaN\n",
              "Severity 0     66     22\n",
              "Severity 1     34      8"
            ],
            "text/html": [
              "\n",
              "  <div id=\"df-2c94b4c3-214f-41ee-92a0-9c940d48a927\">\n",
              "    <div class=\"colab-df-container\">\n",
              "      <div>\n",
              "<style scoped>\n",
              "    .dataframe tbody tr th:only-of-type {\n",
              "        vertical-align: middle;\n",
              "    }\n",
              "\n",
              "    .dataframe tbody tr th {\n",
              "        vertical-align: top;\n",
              "    }\n",
              "\n",
              "    .dataframe thead th {\n",
              "        text-align: right;\n",
              "    }\n",
              "</style>\n",
              "<table border=\"1\" class=\"dataframe\">\n",
              "  <thead>\n",
              "    <tr style=\"text-align: right;\">\n",
              "      <th></th>\n",
              "      <th>1 NaN</th>\n",
              "      <th>2 NaN</th>\n",
              "    </tr>\n",
              "  </thead>\n",
              "  <tbody>\n",
              "    <tr>\n",
              "      <th>Severity 0</th>\n",
              "      <td>66</td>\n",
              "      <td>22</td>\n",
              "    </tr>\n",
              "    <tr>\n",
              "      <th>Severity 1</th>\n",
              "      <td>34</td>\n",
              "      <td>8</td>\n",
              "    </tr>\n",
              "  </tbody>\n",
              "</table>\n",
              "</div>\n",
              "      <button class=\"colab-df-convert\" onclick=\"convertToInteractive('df-2c94b4c3-214f-41ee-92a0-9c940d48a927')\"\n",
              "              title=\"Convert this dataframe to an interactive table.\"\n",
              "              style=\"display:none;\">\n",
              "        \n",
              "  <svg xmlns=\"http://www.w3.org/2000/svg\" height=\"24px\"viewBox=\"0 0 24 24\"\n",
              "       width=\"24px\">\n",
              "    <path d=\"M0 0h24v24H0V0z\" fill=\"none\"/>\n",
              "    <path d=\"M18.56 5.44l.94 2.06.94-2.06 2.06-.94-2.06-.94-.94-2.06-.94 2.06-2.06.94zm-11 1L8.5 8.5l.94-2.06 2.06-.94-2.06-.94L8.5 2.5l-.94 2.06-2.06.94zm10 10l.94 2.06.94-2.06 2.06-.94-2.06-.94-.94-2.06-.94 2.06-2.06.94z\"/><path d=\"M17.41 7.96l-1.37-1.37c-.4-.4-.92-.59-1.43-.59-.52 0-1.04.2-1.43.59L10.3 9.45l-7.72 7.72c-.78.78-.78 2.05 0 2.83L4 21.41c.39.39.9.59 1.41.59.51 0 1.02-.2 1.41-.59l7.78-7.78 2.81-2.81c.8-.78.8-2.07 0-2.86zM5.41 20L4 18.59l7.72-7.72 1.47 1.35L5.41 20z\"/>\n",
              "  </svg>\n",
              "      </button>\n",
              "      \n",
              "  <style>\n",
              "    .colab-df-container {\n",
              "      display:flex;\n",
              "      flex-wrap:wrap;\n",
              "      gap: 12px;\n",
              "    }\n",
              "\n",
              "    .colab-df-convert {\n",
              "      background-color: #E8F0FE;\n",
              "      border: none;\n",
              "      border-radius: 50%;\n",
              "      cursor: pointer;\n",
              "      display: none;\n",
              "      fill: #1967D2;\n",
              "      height: 32px;\n",
              "      padding: 0 0 0 0;\n",
              "      width: 32px;\n",
              "    }\n",
              "\n",
              "    .colab-df-convert:hover {\n",
              "      background-color: #E2EBFA;\n",
              "      box-shadow: 0px 1px 2px rgba(60, 64, 67, 0.3), 0px 1px 3px 1px rgba(60, 64, 67, 0.15);\n",
              "      fill: #174EA6;\n",
              "    }\n",
              "\n",
              "    [theme=dark] .colab-df-convert {\n",
              "      background-color: #3B4455;\n",
              "      fill: #D2E3FC;\n",
              "    }\n",
              "\n",
              "    [theme=dark] .colab-df-convert:hover {\n",
              "      background-color: #434B5C;\n",
              "      box-shadow: 0px 1px 3px 1px rgba(0, 0, 0, 0.15);\n",
              "      filter: drop-shadow(0px 1px 2px rgba(0, 0, 0, 0.3));\n",
              "      fill: #FFFFFF;\n",
              "    }\n",
              "  </style>\n",
              "\n",
              "      <script>\n",
              "        const buttonEl =\n",
              "          document.querySelector('#df-2c94b4c3-214f-41ee-92a0-9c940d48a927 button.colab-df-convert');\n",
              "        buttonEl.style.display =\n",
              "          google.colab.kernel.accessAllowed ? 'block' : 'none';\n",
              "\n",
              "        async function convertToInteractive(key) {\n",
              "          const element = document.querySelector('#df-2c94b4c3-214f-41ee-92a0-9c940d48a927');\n",
              "          const dataTable =\n",
              "            await google.colab.kernel.invokeFunction('convertToInteractive',\n",
              "                                                     [key], {});\n",
              "          if (!dataTable) return;\n",
              "\n",
              "          const docLinkHtml = 'Like what you see? Visit the ' +\n",
              "            '<a target=\"_blank\" href=https://colab.research.google.com/notebooks/data_table.ipynb>data table notebook</a>'\n",
              "            + ' to learn more about interactive tables.';\n",
              "          element.innerHTML = '';\n",
              "          dataTable['output_type'] = 'display_data';\n",
              "          await google.colab.output.renderOutput(dataTable, element);\n",
              "          const docLink = document.createElement('div');\n",
              "          docLink.innerHTML = docLinkHtml;\n",
              "          element.appendChild(docLink);\n",
              "        }\n",
              "      </script>\n",
              "    </div>\n",
              "  </div>\n",
              "  "
            ]
          },
          "metadata": {},
          "execution_count": 19
        }
      ],
      "source": [
        "numberofnan_class = pd.DataFrame(np.array([[rows_mv1_sv0,rows_mv2_sv0], [rows_mv1_sv1,rows_mv2_sv1]]), \n",
        "                                    index=['Severity 0','Severity 1'], columns=['1 NaN', '2 NaN'])\n",
        "numberofnan_class"
      ]
    },
    {
      "cell_type": "code",
      "execution_count": null,
      "metadata": {
        "id": "caHVgWb6w1DO",
        "outputId": "c8231699-8638-4435-9649-35128ad9f8fe",
        "colab": {
          "base_uri": "https://localhost:8080/",
          "height": 282
        }
      },
      "outputs": [
        {
          "output_type": "execute_result",
          "data": {
            "text/plain": [
              "<matplotlib.legend.Legend at 0x7f6666bfe750>"
            ]
          },
          "metadata": {},
          "execution_count": 20
        },
        {
          "output_type": "display_data",
          "data": {
            "text/plain": [
              "<Figure size 432x288 with 1 Axes>"
            ],
            "image/png": "[encoded data removed]"
          },
          "metadata": {
            "needs_background": "light"
          }
        }
      ],
      "source": [
        "labels = ['1 NaN', '2 NaN']\n",
        "x = np.arange(len(labels))\n",
        "width = 0.4\n",
        "\n",
        "fig, ax = plt.subplots()\n",
        "rects1 = ax.bar(x - width/2, [rows_mv1_sv0,rows_mv2_sv0], width=width, label = \"Severity 0\")\n",
        "rects2 = ax.bar(x + width/2, [rows_mv1_sv1,rows_mv2_sv1], width=width, label = \"Severity 1\")\n",
        "\n",
        "ax.set_xticks(x)\n",
        "ax.set_xticklabels(labels)\n",
        "ax.legend()"
      ]
    },
    {
      "cell_type": "markdown",
      "metadata": {
        "id": "9zCXmrPHw1DO"
      },
      "source": [
        "*With this information we can also see the number of rows with 1 or 2 missing values per class*"
      ]
    },
    {
      "cell_type": "code",
      "execution_count": null,
      "metadata": {
        "id": "tPzlCZcrw1DO",
        "outputId": "1c064ca9-c030-45d3-85ea-05e2cf58e00c",
        "colab": {
          "base_uri": "https://localhost:8080/",
          "height": 112
        }
      },
      "outputs": [
        {
          "output_type": "execute_result",
          "data": {
            "text/plain": [
              "            Sum\n",
              "Severity 0   88\n",
              "Severity 1   42"
            ],
            "text/html": [
              "\n",
              "  <div id=\"df-f0c85a21-91f5-456d-9bd8-7898c2ddd6e8\">\n",
              "    <div class=\"colab-df-container\">\n",
              "      <div>\n",
              "<style scoped>\n",
              "    .dataframe tbody tr th:only-of-type {\n",
              "        vertical-align: middle;\n",
              "    }\n",
              "\n",
              "    .dataframe tbody tr th {\n",
              "        vertical-align: top;\n",
              "    }\n",
              "\n",
              "    .dataframe thead th {\n",
              "        text-align: right;\n",
              "    }\n",
              "</style>\n",
              "<table border=\"1\" class=\"dataframe\">\n",
              "  <thead>\n",
              "    <tr style=\"text-align: right;\">\n",
              "      <th></th>\n",
              "      <th>Sum</th>\n",
              "    </tr>\n",
              "  </thead>\n",
              "  <tbody>\n",
              "    <tr>\n",
              "      <th>Severity 0</th>\n",
              "      <td>88</td>\n",
              "    </tr>\n",
              "    <tr>\n",
              "      <th>Severity 1</th>\n",
              "      <td>42</td>\n",
              "    </tr>\n",
              "  </tbody>\n",
              "</table>\n",
              "</div>\n",
              "      <button class=\"colab-df-convert\" onclick=\"convertToInteractive('df-f0c85a21-91f5-456d-9bd8-7898c2ddd6e8')\"\n",
              "              title=\"Convert this dataframe to an interactive table.\"\n",
              "              style=\"display:none;\">\n",
              "        \n",
              "  <svg xmlns=\"http://www.w3.org/2000/svg\" height=\"24px\"viewBox=\"0 0 24 24\"\n",
              "       width=\"24px\">\n",
              "    <path d=\"M0 0h24v24H0V0z\" fill=\"none\"/>\n",
              "    <path d=\"M18.56 5.44l.94 2.06.94-2.06 2.06-.94-2.06-.94-.94-2.06-.94 2.06-2.06.94zm-11 1L8.5 8.5l.94-2.06 2.06-.94-2.06-.94L8.5 2.5l-.94 2.06-2.06.94zm10 10l.94 2.06.94-2.06 2.06-.94-2.06-.94-.94-2.06-.94 2.06-2.06.94z\"/><path d=\"M17.41 7.96l-1.37-1.37c-.4-.4-.92-.59-1.43-.59-.52 0-1.04.2-1.43.59L10.3 9.45l-7.72 7.72c-.78.78-.78 2.05 0 2.83L4 21.41c.39.39.9.59 1.41.59.51 0 1.02-.2 1.41-.59l7.78-7.78 2.81-2.81c.8-.78.8-2.07 0-2.86zM5.41 20L4 18.59l7.72-7.72 1.47 1.35L5.41 20z\"/>\n",
              "  </svg>\n",
              "      </button>\n",
              "      \n",
              "  <style>\n",
              "    .colab-df-container {\n",
              "      display:flex;\n",
              "      flex-wrap:wrap;\n",
              "      gap: 12px;\n",
              "    }\n",
              "\n",
              "    .colab-df-convert {\n",
              "      background-color: #E8F0FE;\n",
              "      border: none;\n",
              "      border-radius: 50%;\n",
              "      cursor: pointer;\n",
              "      display: none;\n",
              "      fill: #1967D2;\n",
              "      height: 32px;\n",
              "      padding: 0 0 0 0;\n",
              "      width: 32px;\n",
              "    }\n",
              "\n",
              "    .colab-df-convert:hover {\n",
              "      background-color: #E2EBFA;\n",
              "      box-shadow: 0px 1px 2px rgba(60, 64, 67, 0.3), 0px 1px 3px 1px rgba(60, 64, 67, 0.15);\n",
              "      fill: #174EA6;\n",
              "    }\n",
              "\n",
              "    [theme=dark] .colab-df-convert {\n",
              "      background-color: #3B4455;\n",
              "      fill: #D2E3FC;\n",
              "    }\n",
              "\n",
              "    [theme=dark] .colab-df-convert:hover {\n",
              "      background-color: #434B5C;\n",
              "      box-shadow: 0px 1px 3px 1px rgba(0, 0, 0, 0.15);\n",
              "      filter: drop-shadow(0px 1px 2px rgba(0, 0, 0, 0.3));\n",
              "      fill: #FFFFFF;\n",
              "    }\n",
              "  </style>\n",
              "\n",
              "      <script>\n",
              "        const buttonEl =\n",
              "          document.querySelector('#df-f0c85a21-91f5-456d-9bd8-7898c2ddd6e8 button.colab-df-convert');\n",
              "        buttonEl.style.display =\n",
              "          google.colab.kernel.accessAllowed ? 'block' : 'none';\n",
              "\n",
              "        async function convertToInteractive(key) {\n",
              "          const element = document.querySelector('#df-f0c85a21-91f5-456d-9bd8-7898c2ddd6e8');\n",
              "          const dataTable =\n",
              "            await google.colab.kernel.invokeFunction('convertToInteractive',\n",
              "                                                     [key], {});\n",
              "          if (!dataTable) return;\n",
              "\n",
              "          const docLinkHtml = 'Like what you see? Visit the ' +\n",
              "            '<a target=\"_blank\" href=https://colab.research.google.com/notebooks/data_table.ipynb>data table notebook</a>'\n",
              "            + ' to learn more about interactive tables.';\n",
              "          element.innerHTML = '';\n",
              "          dataTable['output_type'] = 'display_data';\n",
              "          await google.colab.output.renderOutput(dataTable, element);\n",
              "          const docLink = document.createElement('div');\n",
              "          docLink.innerHTML = docLinkHtml;\n",
              "          element.appendChild(docLink);\n",
              "        }\n",
              "      </script>\n",
              "    </div>\n",
              "  </div>\n",
              "  "
            ]
          },
          "metadata": {},
          "execution_count": 21
        }
      ],
      "source": [
        "nan_class = pd.DataFrame(np.array([[rows_mv1_sv0+rows_mv2_sv0], [rows_mv1_sv1+rows_mv2_sv1]]), \n",
        "                                    index=['Severity 0','Severity 1'], columns=['Sum'])\n",
        "nan_class"
      ]
    },
    {
      "cell_type": "code",
      "execution_count": null,
      "metadata": {
        "id": "Nkpbcj_iw1DO",
        "outputId": "8285f50e-860e-4f05-928c-c27be78cea93",
        "colab": {
          "base_uri": "https://localhost:8080/",
          "height": 338
        }
      },
      "outputs": [
        {
          "output_type": "execute_result",
          "data": {
            "text/plain": [
              "<BarContainer object of 2 artists>"
            ]
          },
          "metadata": {},
          "execution_count": 22
        },
        {
          "output_type": "display_data",
          "data": {
            "text/plain": [
              "<Figure size 216x360 with 1 Axes>"
            ],
            "image/png": "[encoded data removed]"
          },
          "metadata": {
            "needs_background": "light"
          }
        }
      ],
      "source": [
        "plt.figure(figsize=(3, 5))\n",
        "plt.bar(['Severity 0','Severity 1'],[rows_mv1_sv0+rows_mv2_sv0,rows_mv1_sv1+rows_mv2_sv1])"
      ]
    },
    {
      "cell_type": "markdown",
      "metadata": {
        "id": "yX6qn-NQw1DO"
      },
      "source": [
        "**The missing data seems randomly distributed, so we decided to go with the following strategy:**\n",
        "\n",
        "* Drop rows with 2 NaN values\n",
        "\n",
        "* Replace the NaN values from rows with 1 missing value\n",
        "\n",
        "*First we get the mode of every feature for each class*"
      ]
    },
    {
      "cell_type": "code",
      "execution_count": null,
      "metadata": {
        "id": "3w7kckj8w1DO",
        "outputId": "a46b327e-f5f5-40a1-8576-0c11b65b0b00",
        "colab": {
          "base_uri": "https://localhost:8080/"
        }
      },
      "outputs": [
        {
          "output_type": "stream",
          "name": "stdout",
          "text": [
            "    Age  Shape  Margin  Density  Severity\n",
            "0  46.0    1.0     1.0      3.0       0.0\n",
            "    Age  Shape  Margin  Density  Severity\n",
            "0  67.0    4.0     4.0      3.0       1.0\n"
          ]
        }
      ],
      "source": [
        "mode_sv0 = data[data['Severity'] == 0].mode()\n",
        "mode_sv1 = data[data['Severity'] == 1].mode()\n",
        "mode_sv0 = mode_sv0.drop([1])\n",
        "with pd.option_context('display.max_rows', None, 'display.max_columns', None):\n",
        "    print(mode_sv0)\n",
        "    print(mode_sv1)"
      ]
    },
    {
      "cell_type": "markdown",
      "metadata": {
        "id": "BB8FXUg_w1DP"
      },
      "source": [
        "*After we create conditions to replace the NaN values on rows with 1 missing value.*\n",
        "\n",
        "*For that we need the index of the rows which have 1 missing value.*"
      ]
    },
    {
      "cell_type": "code",
      "execution_count": null,
      "metadata": {
        "id": "RKOfT6NZw1DP"
      },
      "outputs": [],
      "source": [
        "rows_1nan = missing_values_data_rows.index[missing_values_data_rows['data_missing'] == 1].tolist()\n",
        "mask_sv0 = (data['Severity'] == 0) & (data.index.isin(rows_1nan))\n",
        "mask_sv1 = (data['Severity'] == 1) & (data.index.isin(rows_1nan))"
      ]
    },
    {
      "cell_type": "markdown",
      "metadata": {
        "id": "ZJwWhsLow1DP"
      },
      "source": [
        "*We can now proceed and replace the missing values for their class mode* "
      ]
    },
    {
      "cell_type": "code",
      "execution_count": null,
      "metadata": {
        "id": "pJ-wWRr_w1DP",
        "outputId": "5b07f918-3e27-4067-d8e2-383170ed352b",
        "colab": {
          "base_uri": "https://localhost:8080/",
          "height": 423
        }
      },
      "outputs": [
        {
          "output_type": "execute_result",
          "data": {
            "text/plain": [
              "      Age  Shape  Margin  Density  Severity\n",
              "0    67.0    3.0     5.0      3.0       1.0\n",
              "1    43.0    1.0     1.0      3.0       1.0\n",
              "2    58.0    4.0     5.0      3.0       1.0\n",
              "3    28.0    1.0     1.0      3.0       0.0\n",
              "4    74.0    1.0     5.0      3.0       1.0\n",
              "..    ...    ...     ...      ...       ...\n",
              "956  47.0    2.0     1.0      3.0       0.0\n",
              "957  56.0    4.0     5.0      3.0       1.0\n",
              "958  64.0    4.0     5.0      3.0       0.0\n",
              "959  66.0    4.0     5.0      3.0       1.0\n",
              "960  62.0    3.0     3.0      3.0       0.0\n",
              "\n",
              "[961 rows x 5 columns]"
            ],
            "text/html": [
              "\n",
              "  <div id=\"df-0a0b4589-3d5c-43ff-b429-aeb880025c57\">\n",
              "    <div class=\"colab-df-container\">\n",
              "      <div>\n",
              "<style scoped>\n",
              "    .dataframe tbody tr th:only-of-type {\n",
              "        vertical-align: middle;\n",
              "    }\n",
              "\n",
              "    .dataframe tbody tr th {\n",
              "        vertical-align: top;\n",
              "    }\n",
              "\n",
              "    .dataframe thead th {\n",
              "        text-align: right;\n",
              "    }\n",
              "</style>\n",
              "<table border=\"1\" class=\"dataframe\">\n",
              "  <thead>\n",
              "    <tr style=\"text-align: right;\">\n",
              "      <th></th>\n",
              "      <th>Age</th>\n",
              "      <th>Shape</th>\n",
              "      <th>Margin</th>\n",
              "      <th>Density</th>\n",
              "      <th>Severity</th>\n",
              "    </tr>\n",
              "  </thead>\n",
              "  <tbody>\n",
              "    <tr>\n",
              "      <th>0</th>\n",
              "      <td>67.0</td>\n",
              "      <td>3.0</td>\n",
              "      <td>5.0</td>\n",
              "      <td>3.0</td>\n",
              "      <td>1.0</td>\n",
              "    </tr>\n",
              "    <tr>\n",
              "      <th>1</th>\n",
              "      <td>43.0</td>\n",
              "      <td>1.0</td>\n",
              "      <td>1.0</td>\n",
              "      <td>3.0</td>\n",
              "      <td>1.0</td>\n",
              "    </tr>\n",
              "    <tr>\n",
              "      <th>2</th>\n",
              "      <td>58.0</td>\n",
              "      <td>4.0</td>\n",
              "      <td>5.0</td>\n",
              "      <td>3.0</td>\n",
              "      <td>1.0</td>\n",
              "    </tr>\n",
              "    <tr>\n",
              "      <th>3</th>\n",
              "      <td>28.0</td>\n",
              "      <td>1.0</td>\n",
              "      <td>1.0</td>\n",
              "      <td>3.0</td>\n",
              "      <td>0.0</td>\n",
              "    </tr>\n",
              "    <tr>\n",
              "      <th>4</th>\n",
              "      <td>74.0</td>\n",
              "      <td>1.0</td>\n",
              "      <td>5.0</td>\n",
              "      <td>3.0</td>\n",
              "      <td>1.0</td>\n",
              "    </tr>\n",
              "    <tr>\n",
              "      <th>...</th>\n",
              "      <td>...</td>\n",
              "      <td>...</td>\n",
              "      <td>...</td>\n",
              "      <td>...</td>\n",
              "      <td>...</td>\n",
              "    </tr>\n",
              "    <tr>\n",
              "      <th>956</th>\n",
              "      <td>47.0</td>\n",
              "      <td>2.0</td>\n",
              "      <td>1.0</td>\n",
              "      <td>3.0</td>\n",
              "      <td>0.0</td>\n",
              "    </tr>\n",
              "    <tr>\n",
              "      <th>957</th>\n",
              "      <td>56.0</td>\n",
              "      <td>4.0</td>\n",
              "      <td>5.0</td>\n",
              "      <td>3.0</td>\n",
              "      <td>1.0</td>\n",
              "    </tr>\n",
              "    <tr>\n",
              "      <th>958</th>\n",
              "      <td>64.0</td>\n",
              "      <td>4.0</td>\n",
              "      <td>5.0</td>\n",
              "      <td>3.0</td>\n",
              "      <td>0.0</td>\n",
              "    </tr>\n",
              "    <tr>\n",
              "      <th>959</th>\n",
              "      <td>66.0</td>\n",
              "      <td>4.0</td>\n",
              "      <td>5.0</td>\n",
              "      <td>3.0</td>\n",
              "      <td>1.0</td>\n",
              "    </tr>\n",
              "    <tr>\n",
              "      <th>960</th>\n",
              "      <td>62.0</td>\n",
              "      <td>3.0</td>\n",
              "      <td>3.0</td>\n",
              "      <td>3.0</td>\n",
              "      <td>0.0</td>\n",
              "    </tr>\n",
              "  </tbody>\n",
              "</table>\n",
              "<p>961 rows × 5 columns</p>\n",
              "</div>\n",
              "      <button class=\"colab-df-convert\" onclick=\"convertToInteractive('df-0a0b4589-3d5c-43ff-b429-aeb880025c57')\"\n",
              "              title=\"Convert this dataframe to an interactive table.\"\n",
              "              style=\"display:none;\">\n",
              "        \n",
              "  <svg xmlns=\"http://www.w3.org/2000/svg\" height=\"24px\"viewBox=\"0 0 24 24\"\n",
              "       width=\"24px\">\n",
              "    <path d=\"M0 0h24v24H0V0z\" fill=\"none\"/>\n",
              "    <path d=\"M18.56 5.44l.94 2.06.94-2.06 2.06-.94-2.06-.94-.94-2.06-.94 2.06-2.06.94zm-11 1L8.5 8.5l.94-2.06 2.06-.94-2.06-.94L8.5 2.5l-.94 2.06-2.06.94zm10 10l.94 2.06.94-2.06 2.06-.94-2.06-.94-.94-2.06-.94 2.06-2.06.94z\"/><path d=\"M17.41 7.96l-1.37-1.37c-.4-.4-.92-.59-1.43-.59-.52 0-1.04.2-1.43.59L10.3 9.45l-7.72 7.72c-.78.78-.78 2.05 0 2.83L4 21.41c.39.39.9.59 1.41.59.51 0 1.02-.2 1.41-.59l7.78-7.78 2.81-2.81c.8-.78.8-2.07 0-2.86zM5.41 20L4 18.59l7.72-7.72 1.47 1.35L5.41 20z\"/>\n",
              "  </svg>\n",
              "      </button>\n",
              "      \n",
              "  <style>\n",
              "    .colab-df-container {\n",
              "      display:flex;\n",
              "      flex-wrap:wrap;\n",
              "      gap: 12px;\n",
              "    }\n",
              "\n",
              "    .colab-df-convert {\n",
              "      background-color: #E8F0FE;\n",
              "      border: none;\n",
              "      border-radius: 50%;\n",
              "      cursor: pointer;\n",
              "      display: none;\n",
              "      fill: #1967D2;\n",
              "      height: 32px;\n",
              "      padding: 0 0 0 0;\n",
              "      width: 32px;\n",
              "    }\n",
              "\n",
              "    .colab-df-convert:hover {\n",
              "      background-color: #E2EBFA;\n",
              "      box-shadow: 0px 1px 2px rgba(60, 64, 67, 0.3), 0px 1px 3px 1px rgba(60, 64, 67, 0.15);\n",
              "      fill: #174EA6;\n",
              "    }\n",
              "\n",
              "    [theme=dark] .colab-df-convert {\n",
              "      background-color: #3B4455;\n",
              "      fill: #D2E3FC;\n",
              "    }\n",
              "\n",
              "    [theme=dark] .colab-df-convert:hover {\n",
              "      background-color: #434B5C;\n",
              "      box-shadow: 0px 1px 3px 1px rgba(0, 0, 0, 0.15);\n",
              "      filter: drop-shadow(0px 1px 2px rgba(0, 0, 0, 0.3));\n",
              "      fill: #FFFFFF;\n",
              "    }\n",
              "  </style>\n",
              "\n",
              "      <script>\n",
              "        const buttonEl =\n",
              "          document.querySelector('#df-0a0b4589-3d5c-43ff-b429-aeb880025c57 button.colab-df-convert');\n",
              "        buttonEl.style.display =\n",
              "          google.colab.kernel.accessAllowed ? 'block' : 'none';\n",
              "\n",
              "        async function convertToInteractive(key) {\n",
              "          const element = document.querySelector('#df-0a0b4589-3d5c-43ff-b429-aeb880025c57');\n",
              "          const dataTable =\n",
              "            await google.colab.kernel.invokeFunction('convertToInteractive',\n",
              "                                                     [key], {});\n",
              "          if (!dataTable) return;\n",
              "\n",
              "          const docLinkHtml = 'Like what you see? Visit the ' +\n",
              "            '<a target=\"_blank\" href=https://colab.research.google.com/notebooks/data_table.ipynb>data table notebook</a>'\n",
              "            + ' to learn more about interactive tables.';\n",
              "          element.innerHTML = '';\n",
              "          dataTable['output_type'] = 'display_data';\n",
              "          await google.colab.output.renderOutput(dataTable, element);\n",
              "          const docLink = document.createElement('div');\n",
              "          docLink.innerHTML = docLinkHtml;\n",
              "          element.appendChild(docLink);\n",
              "        }\n",
              "      </script>\n",
              "    </div>\n",
              "  </div>\n",
              "  "
            ]
          },
          "metadata": {},
          "execution_count": 25
        }
      ],
      "source": [
        "data.loc[mask_sv0, 'Shape'] = data.loc[mask_sv0, 'Shape'].fillna(mode_sv0.loc[0,'Shape'])\n",
        "data.loc[mask_sv0, 'Margin'] = data.loc[mask_sv0, 'Margin'].fillna(mode_sv0.loc[0,'Margin'])\n",
        "data.loc[mask_sv0, 'Density'] = data.loc[mask_sv0, 'Density'].fillna(mode_sv0.loc[0,'Density'])\n",
        "data.loc[mask_sv1, 'Age'] = data.loc[mask_sv1, 'Age'].fillna(mode_sv1.loc[0,'Age'])\n",
        "data.loc[mask_sv1, 'Shape'] = data.loc[mask_sv1, 'Shape'].fillna(mode_sv1.loc[0,'Shape'])\n",
        "data.loc[mask_sv1, 'Margin'] = data.loc[mask_sv1, 'Margin'].fillna(mode_sv1.loc[0,'Margin'])\n",
        "data.loc[mask_sv1, 'Density'] = data.loc[mask_sv1, 'Density'].fillna(mode_sv1.loc[0,'Density'])\n",
        "data"
      ]
    },
    {
      "cell_type": "markdown",
      "metadata": {
        "id": "_coNSN2Uw1DP"
      },
      "source": [
        "*Finally, we can drop rows with NaN values because the only ones that are left are the ones with 2 NaN*"
      ]
    },
    {
      "cell_type": "code",
      "execution_count": null,
      "metadata": {
        "id": "ZzLjP-7Vw1DP",
        "outputId": "78275aa6-0f6a-4c7f-c18e-5e2e2fcc6a80",
        "colab": {
          "base_uri": "https://localhost:8080/",
          "height": 423
        }
      },
      "outputs": [
        {
          "output_type": "execute_result",
          "data": {
            "text/plain": [
              "      Age  Shape  Margin  Density  Severity\n",
              "1    67.0    3.0     5.0      3.0       1.0\n",
              "2    43.0    1.0     1.0      3.0       1.0\n",
              "3    58.0    4.0     5.0      3.0       1.0\n",
              "4    28.0    1.0     1.0      3.0       0.0\n",
              "5    74.0    1.0     5.0      3.0       1.0\n",
              "..    ...    ...     ...      ...       ...\n",
              "927  47.0    2.0     1.0      3.0       0.0\n",
              "928  56.0    4.0     5.0      3.0       1.0\n",
              "929  64.0    4.0     5.0      3.0       0.0\n",
              "930  66.0    4.0     5.0      3.0       1.0\n",
              "931  62.0    3.0     3.0      3.0       0.0\n",
              "\n",
              "[931 rows x 5 columns]"
            ],
            "text/html": [
              "\n",
              "  <div id=\"df-f613ce82-d009-4611-bd41-23f6731dd0b7\">\n",
              "    <div class=\"colab-df-container\">\n",
              "      <div>\n",
              "<style scoped>\n",
              "    .dataframe tbody tr th:only-of-type {\n",
              "        vertical-align: middle;\n",
              "    }\n",
              "\n",
              "    .dataframe tbody tr th {\n",
              "        vertical-align: top;\n",
              "    }\n",
              "\n",
              "    .dataframe thead th {\n",
              "        text-align: right;\n",
              "    }\n",
              "</style>\n",
              "<table border=\"1\" class=\"dataframe\">\n",
              "  <thead>\n",
              "    <tr style=\"text-align: right;\">\n",
              "      <th></th>\n",
              "      <th>Age</th>\n",
              "      <th>Shape</th>\n",
              "      <th>Margin</th>\n",
              "      <th>Density</th>\n",
              "      <th>Severity</th>\n",
              "    </tr>\n",
              "  </thead>\n",
              "  <tbody>\n",
              "    <tr>\n",
              "      <th>1</th>\n",
              "      <td>67.0</td>\n",
              "      <td>3.0</td>\n",
              "      <td>5.0</td>\n",
              "      <td>3.0</td>\n",
              "      <td>1.0</td>\n",
              "    </tr>\n",
              "    <tr>\n",
              "      <th>2</th>\n",
              "      <td>43.0</td>\n",
              "      <td>1.0</td>\n",
              "      <td>1.0</td>\n",
              "      <td>3.0</td>\n",
              "      <td>1.0</td>\n",
              "    </tr>\n",
              "    <tr>\n",
              "      <th>3</th>\n",
              "      <td>58.0</td>\n",
              "      <td>4.0</td>\n",
              "      <td>5.0</td>\n",
              "      <td>3.0</td>\n",
              "      <td>1.0</td>\n",
              "    </tr>\n",
              "    <tr>\n",
              "      <th>4</th>\n",
              "      <td>28.0</td>\n",
              "      <td>1.0</td>\n",
              "      <td>1.0</td>\n",
              "      <td>3.0</td>\n",
              "      <td>0.0</td>\n",
              "    </tr>\n",
              "    <tr>\n",
              "      <th>5</th>\n",
              "      <td>74.0</td>\n",
              "      <td>1.0</td>\n",
              "      <td>5.0</td>\n",
              "      <td>3.0</td>\n",
              "      <td>1.0</td>\n",
              "    </tr>\n",
              "    <tr>\n",
              "      <th>...</th>\n",
              "      <td>...</td>\n",
              "      <td>...</td>\n",
              "      <td>...</td>\n",
              "      <td>...</td>\n",
              "      <td>...</td>\n",
              "    </tr>\n",
              "    <tr>\n",
              "      <th>927</th>\n",
              "      <td>47.0</td>\n",
              "      <td>2.0</td>\n",
              "      <td>1.0</td>\n",
              "      <td>3.0</td>\n",
              "      <td>0.0</td>\n",
              "    </tr>\n",
              "    <tr>\n",
              "      <th>928</th>\n",
              "      <td>56.0</td>\n",
              "      <td>4.0</td>\n",
              "      <td>5.0</td>\n",
              "      <td>3.0</td>\n",
              "      <td>1.0</td>\n",
              "    </tr>\n",
              "    <tr>\n",
              "      <th>929</th>\n",
              "      <td>64.0</td>\n",
              "      <td>4.0</td>\n",
              "      <td>5.0</td>\n",
              "      <td>3.0</td>\n",
              "      <td>0.0</td>\n",
              "    </tr>\n",
              "    <tr>\n",
              "      <th>930</th>\n",
              "      <td>66.0</td>\n",
              "      <td>4.0</td>\n",
              "      <td>5.0</td>\n",
              "      <td>3.0</td>\n",
              "      <td>1.0</td>\n",
              "    </tr>\n",
              "    <tr>\n",
              "      <th>931</th>\n",
              "      <td>62.0</td>\n",
              "      <td>3.0</td>\n",
              "      <td>3.0</td>\n",
              "      <td>3.0</td>\n",
              "      <td>0.0</td>\n",
              "    </tr>\n",
              "  </tbody>\n",
              "</table>\n",
              "<p>931 rows × 5 columns</p>\n",
              "</div>\n",
              "      <button class=\"colab-df-convert\" onclick=\"convertToInteractive('df-f613ce82-d009-4611-bd41-23f6731dd0b7')\"\n",
              "              title=\"Convert this dataframe to an interactive table.\"\n",
              "              style=\"display:none;\">\n",
              "        \n",
              "  <svg xmlns=\"http://www.w3.org/2000/svg\" height=\"24px\"viewBox=\"0 0 24 24\"\n",
              "       width=\"24px\">\n",
              "    <path d=\"M0 0h24v24H0V0z\" fill=\"none\"/>\n",
              "    <path d=\"M18.56 5.44l.94 2.06.94-2.06 2.06-.94-2.06-.94-.94-2.06-.94 2.06-2.06.94zm-11 1L8.5 8.5l.94-2.06 2.06-.94-2.06-.94L8.5 2.5l-.94 2.06-2.06.94zm10 10l.94 2.06.94-2.06 2.06-.94-2.06-.94-.94-2.06-.94 2.06-2.06.94z\"/><path d=\"M17.41 7.96l-1.37-1.37c-.4-.4-.92-.59-1.43-.59-.52 0-1.04.2-1.43.59L10.3 9.45l-7.72 7.72c-.78.78-.78 2.05 0 2.83L4 21.41c.39.39.9.59 1.41.59.51 0 1.02-.2 1.41-.59l7.78-7.78 2.81-2.81c.8-.78.8-2.07 0-2.86zM5.41 20L4 18.59l7.72-7.72 1.47 1.35L5.41 20z\"/>\n",
              "  </svg>\n",
              "      </button>\n",
              "      \n",
              "  <style>\n",
              "    .colab-df-container {\n",
              "      display:flex;\n",
              "      flex-wrap:wrap;\n",
              "      gap: 12px;\n",
              "    }\n",
              "\n",
              "    .colab-df-convert {\n",
              "      background-color: #E8F0FE;\n",
              "      border: none;\n",
              "      border-radius: 50%;\n",
              "      cursor: pointer;\n",
              "      display: none;\n",
              "      fill: #1967D2;\n",
              "      height: 32px;\n",
              "      padding: 0 0 0 0;\n",
              "      width: 32px;\n",
              "    }\n",
              "\n",
              "    .colab-df-convert:hover {\n",
              "      background-color: #E2EBFA;\n",
              "      box-shadow: 0px 1px 2px rgba(60, 64, 67, 0.3), 0px 1px 3px 1px rgba(60, 64, 67, 0.15);\n",
              "      fill: #174EA6;\n",
              "    }\n",
              "\n",
              "    [theme=dark] .colab-df-convert {\n",
              "      background-color: #3B4455;\n",
              "      fill: #D2E3FC;\n",
              "    }\n",
              "\n",
              "    [theme=dark] .colab-df-convert:hover {\n",
              "      background-color: #434B5C;\n",
              "      box-shadow: 0px 1px 3px 1px rgba(0, 0, 0, 0.15);\n",
              "      filter: drop-shadow(0px 1px 2px rgba(0, 0, 0, 0.3));\n",
              "      fill: #FFFFFF;\n",
              "    }\n",
              "  </style>\n",
              "\n",
              "      <script>\n",
              "        const buttonEl =\n",
              "          document.querySelector('#df-f613ce82-d009-4611-bd41-23f6731dd0b7 button.colab-df-convert');\n",
              "        buttonEl.style.display =\n",
              "          google.colab.kernel.accessAllowed ? 'block' : 'none';\n",
              "\n",
              "        async function convertToInteractive(key) {\n",
              "          const element = document.querySelector('#df-f613ce82-d009-4611-bd41-23f6731dd0b7');\n",
              "          const dataTable =\n",
              "            await google.colab.kernel.invokeFunction('convertToInteractive',\n",
              "                                                     [key], {});\n",
              "          if (!dataTable) return;\n",
              "\n",
              "          const docLinkHtml = 'Like what you see? Visit the ' +\n",
              "            '<a target=\"_blank\" href=https://colab.research.google.com/notebooks/data_table.ipynb>data table notebook</a>'\n",
              "            + ' to learn more about interactive tables.';\n",
              "          element.innerHTML = '';\n",
              "          dataTable['output_type'] = 'display_data';\n",
              "          await google.colab.output.renderOutput(dataTable, element);\n",
              "          const docLink = document.createElement('div');\n",
              "          docLink.innerHTML = docLinkHtml;\n",
              "          element.appendChild(docLink);\n",
              "        }\n",
              "      </script>\n",
              "    </div>\n",
              "  </div>\n",
              "  "
            ]
          },
          "metadata": {},
          "execution_count": 26
        }
      ],
      "source": [
        "data = data.dropna()\n",
        "data.index = np.arange(1, len(data) + 1)\n",
        "data"
      ]
    },
    {
      "cell_type": "markdown",
      "metadata": {
        "id": "vYxzyVASw1DP"
      },
      "source": [
        "## Exploratory Data Analysis"
      ]
    },
    {
      "cell_type": "markdown",
      "metadata": {
        "id": "j1umDs4jw1DQ"
      },
      "source": [
        "**Auxiliar functions & General definitions**"
      ]
    },
    {
      "cell_type": "code",
      "execution_count": null,
      "metadata": {
        "id": "LKDz5Rd4w1DQ"
      },
      "outputs": [],
      "source": [
        "c_palette = ['tab:green','tab:red']\n",
        "\n",
        "def categorical_summarized(dataframe, x=None, y=None, hue=None, palette='Set1', verbose=True):\n",
        "    if x == None:\n",
        "        column_interested = y\n",
        "    else:\n",
        "        column_interested = x\n",
        "    series = dataframe[column_interested]\n",
        "    print(series.describe())\n",
        "    print('mode: ', series.mode())\n",
        "    if verbose:\n",
        "        print('='*80)\n",
        "        print(series.value_counts())\n",
        "\n",
        "    sns.countplot(x=x, y=y, hue=hue, data=dataframe, palette=palette)\n",
        "    plt.show()\n",
        "\n",
        "def quantitative_summarized(dataframe, x=None, y=None, hue=None, palette='Set1', ax=None, verbose=True, swarm=False):\n",
        "    series = dataframe[y]\n",
        "    print(series.describe())\n",
        "    print('mode: ', series.mode())\n",
        "    if verbose:\n",
        "        print('='*80)\n",
        "        print(series.value_counts())\n",
        "\n",
        "    sns.boxplot(x=x, y=y, hue=hue, data=dataframe, palette=palette, ax=ax)\n",
        "\n",
        "    if swarm:\n",
        "        sns.swarmplot(x=x, y=y, hue=hue, data=dataframe,\n",
        "                      palette=palette, ax=ax)\n",
        "\n",
        "    plt.show()"
      ]
    },
    {
      "cell_type": "markdown",
      "metadata": {
        "id": "UuCfP7xCw1DQ"
      },
      "source": [
        "**Countplot of the Severity (Benign 0 vs Malignant 1)**"
      ]
    },
    {
      "cell_type": "code",
      "execution_count": null,
      "metadata": {
        "id": "u1h5b3D_w1DQ",
        "outputId": "5a0c3c70-d31f-44b0-bf9c-0a22dffd1c0f",
        "colab": {
          "base_uri": "https://localhost:8080/",
          "height": 279
        }
      },
      "outputs": [
        {
          "output_type": "display_data",
          "data": {
            "text/plain": [
              "<Figure size 432x288 with 1 Axes>"
            ],
            "image/png": "[encoded data removed]"
          },
          "metadata": {}
        }
      ],
      "source": [
        "sns.set_style('whitegrid')\n",
        "ax = sns.countplot(x='Severity',data=data,palette=c_palette)\n",
        "\n",
        "\n",
        "total = len(data['Severity'])\n",
        "\n",
        "for p in ax.patches:\n",
        "    height = p.get_height()\n",
        "    ax.text(p.get_x()+p.get_width()/2.,\n",
        "            height + 3,\n",
        "            '{:.1f}%'.format(100 * height/total),\n",
        "            ha=\"center\") "
      ]
    },
    {
      "cell_type": "markdown",
      "metadata": {
        "id": "5Y1m0Q2Dw1DQ"
      },
      "source": [
        "**Severity on Age**"
      ]
    },
    {
      "cell_type": "code",
      "execution_count": null,
      "metadata": {
        "id": "PbkWOWDNw1DQ",
        "outputId": "5bc81428-3a01-4bba-d6f1-061553e2c6aa",
        "colab": {
          "base_uri": "https://localhost:8080/",
          "height": 496
        }
      },
      "outputs": [
        {
          "output_type": "stream",
          "name": "stderr",
          "text": [
            "/usr/local/lib/python3.7/dist-packages/seaborn/axisgrid.py:337: UserWarning: The `size` parameter has been renamed to `height`; please update your code.\n",
            "  warnings.warn(msg, UserWarning)\n"
          ]
        },
        {
          "output_type": "display_data",
          "data": {
            "text/plain": [
              "<Figure size 915.875x432 with 1 Axes>"
            ],
            "image/png": "[encoded data removed]"
          },
          "metadata": {}
        }
      ],
      "source": [
        "g = sns.FacetGrid(data,hue='Severity',palette=c_palette,size=6,aspect=2)\n",
        "bins=[5,10,15,20,25,30,35,40,45,50,55,60,65,70,75,80,85,90,95,100]\n",
        "g.map(plt.hist, \"Age\", bins=bins, alpha=0.6).add_legend()\n",
        "plt.xticks([5,10,15,20,25,30,35,40,45,50,55,60,65,70,75,80,85,90,95,100])\n",
        "plt.show()"
      ]
    },
    {
      "cell_type": "markdown",
      "metadata": {
        "id": "-DN8t5wIw1DR"
      },
      "source": [
        "**Severity on Shape (mass shape: round=1 oval=2 lobular=3 irregular=4)**"
      ]
    },
    {
      "cell_type": "code",
      "execution_count": null,
      "metadata": {
        "scrolled": false,
        "id": "yhS-DRT_w1DR",
        "outputId": "9160ae09-108d-4794-d93c-108a27a33930",
        "colab": {
          "base_uri": "https://localhost:8080/",
          "height": 574
        }
      },
      "outputs": [
        {
          "output_type": "stream",
          "name": "stdout",
          "text": [
            "count    931.000000\n",
            "mean       2.728249\n",
            "std        1.248762\n",
            "min        1.000000\n",
            "25%        2.000000\n",
            "50%        3.000000\n",
            "75%        4.000000\n",
            "max        4.000000\n",
            "Name: Shape, dtype: float64\n",
            "mode:  0    4.0\n",
            "dtype: float64\n",
            "================================================================================\n",
            "4.0    406\n",
            "1.0    227\n",
            "2.0    205\n",
            "3.0     93\n",
            "Name: Shape, dtype: int64\n"
          ]
        },
        {
          "output_type": "display_data",
          "data": {
            "text/plain": [
              "<Figure size 432x288 with 1 Axes>"
            ],
            "image/png": "[encoded data removed]"
          },
          "metadata": {}
        }
      ],
      "source": [
        "categorical_summarized(data, y = 'Shape', hue='Severity', palette=c_palette)"
      ]
    },
    {
      "cell_type": "markdown",
      "metadata": {
        "id": "eje-7Xv4w1DR"
      },
      "source": [
        "**Severity on Margin (mass margin: circumscribed=1 microlobulated=2 obscured=3 ill-defined=4 spiculated=5)**"
      ]
    },
    {
      "cell_type": "code",
      "execution_count": null,
      "metadata": {
        "id": "hWZH7qUxw1DR",
        "outputId": "f3577f74-4f03-4f1a-f9c4-d99976626731",
        "colab": {
          "base_uri": "https://localhost:8080/",
          "height": 591
        }
      },
      "outputs": [
        {
          "output_type": "stream",
          "name": "stdout",
          "text": [
            "count    931.000000\n",
            "mean       2.766917\n",
            "std        1.568652\n",
            "min        1.000000\n",
            "25%        1.000000\n",
            "50%        3.000000\n",
            "75%        4.000000\n",
            "max        5.000000\n",
            "Name: Margin, dtype: float64\n",
            "mode:  0    1.0\n",
            "dtype: float64\n",
            "================================================================================\n",
            "1.0    373\n",
            "4.0    283\n",
            "5.0    135\n",
            "3.0    116\n",
            "2.0     24\n",
            "Name: Margin, dtype: int64\n"
          ]
        },
        {
          "output_type": "display_data",
          "data": {
            "text/plain": [
              "<Figure size 432x288 with 1 Axes>"
            ],
            "image/png": "[encoded data removed]"
          },
          "metadata": {}
        }
      ],
      "source": [
        "categorical_summarized(data, y = 'Margin', hue='Severity', palette=c_palette)"
      ]
    },
    {
      "cell_type": "markdown",
      "metadata": {
        "id": "-1u21Tgnw1DR"
      },
      "source": [
        "**Severity on Density (mass density high=1 iso=2 low=3 fat-containing=4)**"
      ]
    },
    {
      "cell_type": "code",
      "execution_count": null,
      "metadata": {
        "id": "yL8Z-m6Mw1DR",
        "outputId": "bf7d575f-94a4-40fd-aa0b-0ebf0ee47385",
        "colab": {
          "base_uri": "https://localhost:8080/",
          "height": 574
        }
      },
      "outputs": [
        {
          "output_type": "stream",
          "name": "stdout",
          "text": [
            "count    931.000000\n",
            "mean       2.915145\n",
            "std        0.362631\n",
            "min        1.000000\n",
            "25%        3.000000\n",
            "50%        3.000000\n",
            "75%        3.000000\n",
            "max        4.000000\n",
            "Name: Density, dtype: float64\n",
            "mode:  0    3.0\n",
            "dtype: float64\n",
            "================================================================================\n",
            "3.0    847\n",
            "2.0     59\n",
            "1.0     15\n",
            "4.0     10\n",
            "Name: Density, dtype: int64\n"
          ]
        },
        {
          "output_type": "display_data",
          "data": {
            "text/plain": [
              "<Figure size 432x288 with 1 Axes>"
            ],
            "image/png": "[encoded data removed]"
          },
          "metadata": {}
        }
      ],
      "source": [
        "categorical_summarized(data, y = 'Density', hue='Severity', palette=c_palette)"
      ]
    },
    {
      "cell_type": "code",
      "execution_count": null,
      "metadata": {
        "id": "iM4xkt_zw1DS",
        "outputId": "6f8c06de-2534-4d5a-fef6-4f6f635fc690",
        "colab": {
          "base_uri": "https://localhost:8080/",
          "height": 591
        }
      },
      "outputs": [
        {
          "output_type": "stream",
          "name": "stdout",
          "text": [
            "count    931.000000\n",
            "mean       2.766917\n",
            "std        1.568652\n",
            "min        1.000000\n",
            "25%        1.000000\n",
            "50%        3.000000\n",
            "75%        4.000000\n",
            "max        5.000000\n",
            "Name: Margin, dtype: float64\n",
            "mode:  0    1.0\n",
            "dtype: float64\n",
            "================================================================================\n",
            "1.0    373\n",
            "4.0    283\n",
            "5.0    135\n",
            "3.0    116\n",
            "2.0     24\n",
            "Name: Margin, dtype: int64\n"
          ]
        },
        {
          "output_type": "display_data",
          "data": {
            "text/plain": [
              "<Figure size 432x288 with 1 Axes>"
            ],
            "image/png": "[encoded data removed]"
          },
          "metadata": {}
        }
      ],
      "source": [
        "categorical_summarized(data, y = 'Margin', hue='Shape')"
      ]
    },
    {
      "cell_type": "code",
      "execution_count": null,
      "metadata": {
        "id": "T4fLKo1tw1DS",
        "outputId": "1f3cf21f-8be2-45aa-e965-399ee41b228c",
        "colab": {
          "base_uri": "https://localhost:8080/",
          "height": 574
        }
      },
      "outputs": [
        {
          "output_type": "stream",
          "name": "stdout",
          "text": [
            "count    931.000000\n",
            "mean       2.915145\n",
            "std        0.362631\n",
            "min        1.000000\n",
            "25%        3.000000\n",
            "50%        3.000000\n",
            "75%        3.000000\n",
            "max        4.000000\n",
            "Name: Density, dtype: float64\n",
            "mode:  0    3.0\n",
            "dtype: float64\n",
            "================================================================================\n",
            "3.0    847\n",
            "2.0     59\n",
            "1.0     15\n",
            "4.0     10\n",
            "Name: Density, dtype: int64\n"
          ]
        },
        {
          "output_type": "display_data",
          "data": {
            "text/plain": [
              "<Figure size 432x288 with 1 Axes>"
            ],
            "image/png": "[encoded data removed]"
          },
          "metadata": {}
        }
      ],
      "source": [
        "categorical_summarized(data, y = 'Density', hue='Shape')"
      ]
    },
    {
      "cell_type": "code",
      "execution_count": null,
      "metadata": {
        "scrolled": false,
        "id": "TrfMbkmlw1DS",
        "outputId": "69ab88dc-f0f4-445d-806b-840df84e6696",
        "colab": {
          "base_uri": "https://localhost:8080/",
          "height": 574
        }
      },
      "outputs": [
        {
          "output_type": "stream",
          "name": "stdout",
          "text": [
            "count    931.000000\n",
            "mean       2.915145\n",
            "std        0.362631\n",
            "min        1.000000\n",
            "25%        3.000000\n",
            "50%        3.000000\n",
            "75%        3.000000\n",
            "max        4.000000\n",
            "Name: Density, dtype: float64\n",
            "mode:  0    3.0\n",
            "dtype: float64\n",
            "================================================================================\n",
            "3.0    847\n",
            "2.0     59\n",
            "1.0     15\n",
            "4.0     10\n",
            "Name: Density, dtype: int64\n"
          ]
        },
        {
          "output_type": "display_data",
          "data": {
            "text/plain": [
              "<Figure size 432x288 with 1 Axes>"
            ],
            "image/png": "[encoded data removed]"
          },
          "metadata": {}
        }
      ],
      "source": [
        "categorical_summarized(data, y = 'Density', hue='Margin')"
      ]
    },
    {
      "cell_type": "markdown",
      "metadata": {
        "id": "J2BS1v_Fw1DT"
      },
      "source": [
        "### Detect Outliers using Scatter plot (Multi-variate outlier)"
      ]
    },
    {
      "cell_type": "code",
      "execution_count": null,
      "metadata": {
        "id": "GwexpXuCw1DT",
        "outputId": "97983b04-6c96-454e-a86f-5e8a4141b2a1",
        "colab": {
          "base_uri": "https://localhost:8080/",
          "height": 497
        }
      },
      "outputs": [
        {
          "output_type": "display_data",
          "data": {
            "text/plain": [
              "<Figure size 1152x576 with 1 Axes>"
            ],
            "image/png": "[encoded data removed]"
          },
          "metadata": {}
        }
      ],
      "source": [
        "fig, ax = plt.subplots(figsize=(16,8))\n",
        "ax.scatter(data['Age'], data['Shape'])\n",
        "ax.set_xlabel('Age')\n",
        "ax.set_ylabel('Shape')\n",
        "#ax.set_ylabel('Margin')\n",
        "#ax.set_ylabel('Density')\n",
        "plt.show()"
      ]
    },
    {
      "cell_type": "markdown",
      "metadata": {
        "id": "p8IdmbJBw1DT"
      },
      "source": [
        "### Detect outliers using mathematical function Z-Score"
      ]
    },
    {
      "cell_type": "code",
      "execution_count": null,
      "metadata": {
        "id": "yKI518EHw1DT",
        "outputId": "e0a17cc9-f861-4ee6-8f1e-11bfbcf27182",
        "colab": {
          "base_uri": "https://localhost:8080/"
        }
      },
      "outputs": [
        {
          "output_type": "stream",
          "name": "stdout",
          "text": [
            "(array([  8,  18,  36,  50,  71,  75, 192, 209, 218, 240, 600, 656, 793,\n",
            "       861, 913]), array([3, 3, 3, 3, 3, 3, 3, 3, 3, 3, 3, 3, 3, 3, 3]))\n"
          ]
        }
      ],
      "source": [
        "z = np.abs(stats.zscore(data))\n",
        "threshold = 3\n",
        "print(np.where(z > threshold))\n",
        "# The first array contains the list of row numbers and second array respective column numbers"
      ]
    },
    {
      "cell_type": "markdown",
      "metadata": {
        "id": "KfxCBIW7w1DT"
      },
      "source": [
        "Column 3 (density) has all outliers"
      ]
    },
    {
      "cell_type": "markdown",
      "metadata": {
        "id": "9XFtdc5dw1DU"
      },
      "source": [
        "## Data Preparation"
      ]
    },
    {
      "cell_type": "markdown",
      "metadata": {
        "id": "itfSut8Nw1DU"
      },
      "source": [
        "### Remove Outliers using Z-Score"
      ]
    },
    {
      "cell_type": "code",
      "execution_count": null,
      "metadata": {
        "id": "bzW6pu4Ow1DU"
      },
      "outputs": [],
      "source": [
        "# Z score implementation\n",
        "#data = data[(np.abs(stats.zscore(data)) < 3).all(axis=1)]\n",
        "#data.index = np.arange(1, len(data) + 1)\n",
        "#data"
      ]
    },
    {
      "cell_type": "markdown",
      "metadata": {
        "id": "jt28Y0--w1DU"
      },
      "source": [
        "**StandardScaler to Age and One Hot Encode to other features**"
      ]
    },
    {
      "cell_type": "code",
      "execution_count": null,
      "metadata": {
        "id": "Ww75Ksqaw1DU",
        "outputId": "0fdb3d87-0cbe-40ae-9829-ac3ce4fb2ccd",
        "colab": {
          "base_uri": "https://localhost:8080/",
          "height": 592
        }
      },
      "outputs": [
        {
          "output_type": "stream",
          "name": "stderr",
          "text": [
            "/usr/local/lib/python3.7/dist-packages/pandas/core/frame.py:3678: SettingWithCopyWarning: \n",
            "A value is trying to be set on a copy of a slice from a DataFrame.\n",
            "Try using .loc[row_indexer,col_indexer] = value instead\n",
            "\n",
            "See the caveats in the documentation: https://pandas.pydata.org/pandas-docs/stable/user_guide/indexing.html#returning-a-view-versus-a-copy\n",
            "  self[col] = igetitem(value, i)\n"
          ]
        },
        {
          "output_type": "execute_result",
          "data": {
            "text/plain": [
              "          Age  Severity  Shape_1  Shape_2  Shape_3  Shape_4  Margin_1  \\\n",
              "1    0.781596       1.0        0        0        1        0         0   \n",
              "2   -0.871720       1.0        1        0        0        0         1   \n",
              "3    0.161602       1.0        0        0        0        1         0   \n",
              "4   -1.905042       0.0        1        0        0        0         1   \n",
              "5    1.263813       1.0        1        0        0        0         0   \n",
              "..        ...       ...      ...      ...      ...      ...       ...   \n",
              "927 -0.596167       0.0        0        1        0        0         1   \n",
              "928  0.023826       1.0        0        0        0        1         0   \n",
              "929  0.574931       0.0        0        0        0        1         0   \n",
              "930  0.712708       1.0        0        0        0        1         0   \n",
              "931  0.437155       0.0        0        0        1        0         0   \n",
              "\n",
              "     Margin_2  Margin_3  Margin_4  Margin_5  Density_1  Density_2  Density_3  \\\n",
              "1           0         0         0         1          0          0          1   \n",
              "2           0         0         0         0          0          0          1   \n",
              "3           0         0         0         1          0          0          1   \n",
              "4           0         0         0         0          0          0          1   \n",
              "5           0         0         0         1          0          0          1   \n",
              "..        ...       ...       ...       ...        ...        ...        ...   \n",
              "927         0         0         0         0          0          0          1   \n",
              "928         0         0         0         1          0          0          1   \n",
              "929         0         0         0         1          0          0          1   \n",
              "930         0         0         0         1          0          0          1   \n",
              "931         0         1         0         0          0          0          1   \n",
              "\n",
              "     Density_4  \n",
              "1            0  \n",
              "2            0  \n",
              "3            0  \n",
              "4            0  \n",
              "5            0  \n",
              "..         ...  \n",
              "927          0  \n",
              "928          0  \n",
              "929          0  \n",
              "930          0  \n",
              "931          0  \n",
              "\n",
              "[931 rows x 15 columns]"
            ],
            "text/html": [
              "\n",
              "  <div id=\"df-94f6a0ed-f86b-4e69-92ac-a77cd47b88bf\">\n",
              "    <div class=\"colab-df-container\">\n",
              "      <div>\n",
              "<style scoped>\n",
              "    .dataframe tbody tr th:only-of-type {\n",
              "        vertical-align: middle;\n",
              "    }\n",
              "\n",
              "    .dataframe tbody tr th {\n",
              "        vertical-align: top;\n",
              "    }\n",
              "\n",
              "    .dataframe thead th {\n",
              "        text-align: right;\n",
              "    }\n",
              "</style>\n",
              "<table border=\"1\" class=\"dataframe\">\n",
              "  <thead>\n",
              "    <tr style=\"text-align: right;\">\n",
              "      <th></th>\n",
              "      <th>Age</th>\n",
              "      <th>Severity</th>\n",
              "      <th>Shape_1</th>\n",
              "      <th>Shape_2</th>\n",
              "      <th>Shape_3</th>\n",
              "      <th>Shape_4</th>\n",
              "      <th>Margin_1</th>\n",
              "      <th>Margin_2</th>\n",
              "      <th>Margin_3</th>\n",
              "      <th>Margin_4</th>\n",
              "      <th>Margin_5</th>\n",
              "      <th>Density_1</th>\n",
              "      <th>Density_2</th>\n",
              "      <th>Density_3</th>\n",
              "      <th>Density_4</th>\n",
              "    </tr>\n",
              "  </thead>\n",
              "  <tbody>\n",
              "    <tr>\n",
              "      <th>1</th>\n",
              "      <td>0.781596</td>\n",
              "      <td>1.0</td>\n",
              "      <td>0</td>\n",
              "      <td>0</td>\n",
              "      <td>1</td>\n",
              "      <td>0</td>\n",
              "      <td>0</td>\n",
              "      <td>0</td>\n",
              "      <td>0</td>\n",
              "      <td>0</td>\n",
              "      <td>1</td>\n",
              "      <td>0</td>\n",
              "      <td>0</td>\n",
              "      <td>1</td>\n",
              "      <td>0</td>\n",
              "    </tr>\n",
              "    <tr>\n",
              "      <th>2</th>\n",
              "      <td>-0.871720</td>\n",
              "      <td>1.0</td>\n",
              "      <td>1</td>\n",
              "      <td>0</td>\n",
              "      <td>0</td>\n",
              "      <td>0</td>\n",
              "      <td>1</td>\n",
              "      <td>0</td>\n",
              "      <td>0</td>\n",
              "      <td>0</td>\n",
              "      <td>0</td>\n",
              "      <td>0</td>\n",
              "      <td>0</td>\n",
              "      <td>1</td>\n",
              "      <td>0</td>\n",
              "    </tr>\n",
              "    <tr>\n",
              "      <th>3</th>\n",
              "      <td>0.161602</td>\n",
              "      <td>1.0</td>\n",
              "      <td>0</td>\n",
              "      <td>0</td>\n",
              "      <td>0</td>\n",
              "      <td>1</td>\n",
              "      <td>0</td>\n",
              "      <td>0</td>\n",
              "      <td>0</td>\n",
              "      <td>0</td>\n",
              "      <td>1</td>\n",
              "      <td>0</td>\n",
              "      <td>0</td>\n",
              "      <td>1</td>\n",
              "      <td>0</td>\n",
              "    </tr>\n",
              "    <tr>\n",
              "      <th>4</th>\n",
              "      <td>-1.905042</td>\n",
              "      <td>0.0</td>\n",
              "      <td>1</td>\n",
              "      <td>0</td>\n",
              "      <td>0</td>\n",
              "      <td>0</td>\n",
              "      <td>1</td>\n",
              "      <td>0</td>\n",
              "      <td>0</td>\n",
              "      <td>0</td>\n",
              "      <td>0</td>\n",
              "      <td>0</td>\n",
              "      <td>0</td>\n",
              "      <td>1</td>\n",
              "      <td>0</td>\n",
              "    </tr>\n",
              "    <tr>\n",
              "      <th>5</th>\n",
              "      <td>1.263813</td>\n",
              "      <td>1.0</td>\n",
              "      <td>1</td>\n",
              "      <td>0</td>\n",
              "      <td>0</td>\n",
              "      <td>0</td>\n",
              "      <td>0</td>\n",
              "      <td>0</td>\n",
              "      <td>0</td>\n",
              "      <td>0</td>\n",
              "      <td>1</td>\n",
              "      <td>0</td>\n",
              "      <td>0</td>\n",
              "      <td>1</td>\n",
              "      <td>0</td>\n",
              "    </tr>\n",
              "    <tr>\n",
              "      <th>...</th>\n",
              "      <td>...</td>\n",
              "      <td>...</td>\n",
              "      <td>...</td>\n",
              "      <td>...</td>\n",
              "      <td>...</td>\n",
              "      <td>...</td>\n",
              "      <td>...</td>\n",
              "      <td>...</td>\n",
              "      <td>...</td>\n",
              "      <td>...</td>\n",
              "      <td>...</td>\n",
              "      <td>...</td>\n",
              "      <td>...</td>\n",
              "      <td>...</td>\n",
              "      <td>...</td>\n",
              "    </tr>\n",
              "    <tr>\n",
              "      <th>927</th>\n",
              "      <td>-0.596167</td>\n",
              "      <td>0.0</td>\n",
              "      <td>0</td>\n",
              "      <td>1</td>\n",
              "      <td>0</td>\n",
              "      <td>0</td>\n",
              "      <td>1</td>\n",
              "      <td>0</td>\n",
              "      <td>0</td>\n",
              "      <td>0</td>\n",
              "      <td>0</td>\n",
              "      <td>0</td>\n",
              "      <td>0</td>\n",
              "      <td>1</td>\n",
              "      <td>0</td>\n",
              "    </tr>\n",
              "    <tr>\n",
              "      <th>928</th>\n",
              "      <td>0.023826</td>\n",
              "      <td>1.0</td>\n",
              "      <td>0</td>\n",
              "      <td>0</td>\n",
              "      <td>0</td>\n",
              "      <td>1</td>\n",
              "      <td>0</td>\n",
              "      <td>0</td>\n",
              "      <td>0</td>\n",
              "      <td>0</td>\n",
              "      <td>1</td>\n",
              "      <td>0</td>\n",
              "      <td>0</td>\n",
              "      <td>1</td>\n",
              "      <td>0</td>\n",
              "    </tr>\n",
              "    <tr>\n",
              "      <th>929</th>\n",
              "      <td>0.574931</td>\n",
              "      <td>0.0</td>\n",
              "      <td>0</td>\n",
              "      <td>0</td>\n",
              "      <td>0</td>\n",
              "      <td>1</td>\n",
              "      <td>0</td>\n",
              "      <td>0</td>\n",
              "      <td>0</td>\n",
              "      <td>0</td>\n",
              "      <td>1</td>\n",
              "      <td>0</td>\n",
              "      <td>0</td>\n",
              "      <td>1</td>\n",
              "      <td>0</td>\n",
              "    </tr>\n",
              "    <tr>\n",
              "      <th>930</th>\n",
              "      <td>0.712708</td>\n",
              "      <td>1.0</td>\n",
              "      <td>0</td>\n",
              "      <td>0</td>\n",
              "      <td>0</td>\n",
              "      <td>1</td>\n",
              "      <td>0</td>\n",
              "      <td>0</td>\n",
              "      <td>0</td>\n",
              "      <td>0</td>\n",
              "      <td>1</td>\n",
              "      <td>0</td>\n",
              "      <td>0</td>\n",
              "      <td>1</td>\n",
              "      <td>0</td>\n",
              "    </tr>\n",
              "    <tr>\n",
              "      <th>931</th>\n",
              "      <td>0.437155</td>\n",
              "      <td>0.0</td>\n",
              "      <td>0</td>\n",
              "      <td>0</td>\n",
              "      <td>1</td>\n",
              "      <td>0</td>\n",
              "      <td>0</td>\n",
              "      <td>0</td>\n",
              "      <td>1</td>\n",
              "      <td>0</td>\n",
              "      <td>0</td>\n",
              "      <td>0</td>\n",
              "      <td>0</td>\n",
              "      <td>1</td>\n",
              "      <td>0</td>\n",
              "    </tr>\n",
              "  </tbody>\n",
              "</table>\n",
              "<p>931 rows × 15 columns</p>\n",
              "</div>\n",
              "      <button class=\"colab-df-convert\" onclick=\"convertToInteractive('df-94f6a0ed-f86b-4e69-92ac-a77cd47b88bf')\"\n",
              "              title=\"Convert this dataframe to an interactive table.\"\n",
              "              style=\"display:none;\">\n",
              "        \n",
              "  <svg xmlns=\"http://www.w3.org/2000/svg\" height=\"24px\"viewBox=\"0 0 24 24\"\n",
              "       width=\"24px\">\n",
              "    <path d=\"M0 0h24v24H0V0z\" fill=\"none\"/>\n",
              "    <path d=\"M18.56 5.44l.94 2.06.94-2.06 2.06-.94-2.06-.94-.94-2.06-.94 2.06-2.06.94zm-11 1L8.5 8.5l.94-2.06 2.06-.94-2.06-.94L8.5 2.5l-.94 2.06-2.06.94zm10 10l.94 2.06.94-2.06 2.06-.94-2.06-.94-.94-2.06-.94 2.06-2.06.94z\"/><path d=\"M17.41 7.96l-1.37-1.37c-.4-.4-.92-.59-1.43-.59-.52 0-1.04.2-1.43.59L10.3 9.45l-7.72 7.72c-.78.78-.78 2.05 0 2.83L4 21.41c.39.39.9.59 1.41.59.51 0 1.02-.2 1.41-.59l7.78-7.78 2.81-2.81c.8-.78.8-2.07 0-2.86zM5.41 20L4 18.59l7.72-7.72 1.47 1.35L5.41 20z\"/>\n",
              "  </svg>\n",
              "      </button>\n",
              "      \n",
              "  <style>\n",
              "    .colab-df-container {\n",
              "      display:flex;\n",
              "      flex-wrap:wrap;\n",
              "      gap: 12px;\n",
              "    }\n",
              "\n",
              "    .colab-df-convert {\n",
              "      background-color: #E8F0FE;\n",
              "      border: none;\n",
              "      border-radius: 50%;\n",
              "      cursor: pointer;\n",
              "      display: none;\n",
              "      fill: #1967D2;\n",
              "      height: 32px;\n",
              "      padding: 0 0 0 0;\n",
              "      width: 32px;\n",
              "    }\n",
              "\n",
              "    .colab-df-convert:hover {\n",
              "      background-color: #E2EBFA;\n",
              "      box-shadow: 0px 1px 2px rgba(60, 64, 67, 0.3), 0px 1px 3px 1px rgba(60, 64, 67, 0.15);\n",
              "      fill: #174EA6;\n",
              "    }\n",
              "\n",
              "    [theme=dark] .colab-df-convert {\n",
              "      background-color: #3B4455;\n",
              "      fill: #D2E3FC;\n",
              "    }\n",
              "\n",
              "    [theme=dark] .colab-df-convert:hover {\n",
              "      background-color: #434B5C;\n",
              "      box-shadow: 0px 1px 3px 1px rgba(0, 0, 0, 0.15);\n",
              "      filter: drop-shadow(0px 1px 2px rgba(0, 0, 0, 0.3));\n",
              "      fill: #FFFFFF;\n",
              "    }\n",
              "  </style>\n",
              "\n",
              "      <script>\n",
              "        const buttonEl =\n",
              "          document.querySelector('#df-94f6a0ed-f86b-4e69-92ac-a77cd47b88bf button.colab-df-convert');\n",
              "        buttonEl.style.display =\n",
              "          google.colab.kernel.accessAllowed ? 'block' : 'none';\n",
              "\n",
              "        async function convertToInteractive(key) {\n",
              "          const element = document.querySelector('#df-94f6a0ed-f86b-4e69-92ac-a77cd47b88bf');\n",
              "          const dataTable =\n",
              "            await google.colab.kernel.invokeFunction('convertToInteractive',\n",
              "                                                     [key], {});\n",
              "          if (!dataTable) return;\n",
              "\n",
              "          const docLinkHtml = 'Like what you see? Visit the ' +\n",
              "            '<a target=\"_blank\" href=https://colab.research.google.com/notebooks/data_table.ipynb>data table notebook</a>'\n",
              "            + ' to learn more about interactive tables.';\n",
              "          element.innerHTML = '';\n",
              "          dataTable['output_type'] = 'display_data';\n",
              "          await google.colab.output.renderOutput(dataTable, element);\n",
              "          const docLink = document.createElement('div');\n",
              "          docLink.innerHTML = docLinkHtml;\n",
              "          element.appendChild(docLink);\n",
              "        }\n",
              "      </script>\n",
              "    </div>\n",
              "  </div>\n",
              "  "
            ]
          },
          "metadata": {},
          "execution_count": 39
        }
      ],
      "source": [
        "col_names = ['Age']\n",
        "features = data[col_names]\n",
        "scaler = StandardScaler().fit(features.values)\n",
        "features = scaler.transform(features.values)\n",
        "data[col_names] = features\n",
        "\n",
        "one_hot = pd.get_dummies(data['Shape'])\n",
        "data = data.drop('Shape',axis = 1)\n",
        "data = data.join(one_hot)\n",
        "data = data.rename(columns={1.0: \"Shape_1\", 2.0: \"Shape_2\", 3.0: \"Shape_3\", 4.0: \"Shape_4\"})\n",
        "\n",
        "one_hot = pd.get_dummies(data['Margin'])\n",
        "data = data.drop('Margin',axis = 1)\n",
        "data = data.join(one_hot)\n",
        "data = data.rename(columns={1.0: \"Margin_1\", 2.0: \"Margin_2\", 3.0: \"Margin_3\", 4.0: \"Margin_4\", 5.0: \"Margin_5\"})\n",
        "\n",
        "one_hot = pd.get_dummies(data['Density'])\n",
        "data = data.drop('Density',axis = 1)\n",
        "data = data.join(one_hot)\n",
        "data = data.rename(columns={1.0: \"Density_1\", 2.0: \"Density_2\", 3.0: \"Density_3\", 4.0: \"Density_4\"})\n",
        "\n",
        "\n",
        "data"
      ]
    },
    {
      "cell_type": "markdown",
      "metadata": {
        "id": "eJftDKINw1DU"
      },
      "source": [
        "## Train Test Split"
      ]
    },
    {
      "cell_type": "markdown",
      "metadata": {
        "id": "Byhehf0Fw1DU"
      },
      "source": [
        "**Create training and testing sets of the data**"
      ]
    },
    {
      "cell_type": "code",
      "execution_count": null,
      "metadata": {
        "scrolled": true,
        "id": "KOIbW03Pw1DU",
        "outputId": "bbc7fe20-0f20-4cfd-8d9f-4d83ee552aea",
        "colab": {
          "base_uri": "https://localhost:8080/",
          "height": 487
        }
      },
      "outputs": [
        {
          "output_type": "execute_result",
          "data": {
            "text/plain": [
              "          Age  Severity  Shape_1  Shape_2  Shape_3  Shape_4  Margin_1  \\\n",
              "1    0.781596       1.0        0        0        1        0         0   \n",
              "2   -0.871720       1.0        1        0        0        0         1   \n",
              "3    0.161602       1.0        0        0        0        1         0   \n",
              "4   -1.905042       0.0        1        0        0        0         1   \n",
              "5    1.263813       1.0        1        0        0        0         0   \n",
              "..        ...       ...      ...      ...      ...      ...       ...   \n",
              "927 -0.596167       0.0        0        1        0        0         1   \n",
              "928  0.023826       1.0        0        0        0        1         0   \n",
              "929  0.574931       0.0        0        0        0        1         0   \n",
              "930  0.712708       1.0        0        0        0        1         0   \n",
              "931  0.437155       0.0        0        0        1        0         0   \n",
              "\n",
              "     Margin_2  Margin_3  Margin_4  Margin_5  Density_1  Density_2  Density_3  \\\n",
              "1           0         0         0         1          0          0          1   \n",
              "2           0         0         0         0          0          0          1   \n",
              "3           0         0         0         1          0          0          1   \n",
              "4           0         0         0         0          0          0          1   \n",
              "5           0         0         0         1          0          0          1   \n",
              "..        ...       ...       ...       ...        ...        ...        ...   \n",
              "927         0         0         0         0          0          0          1   \n",
              "928         0         0         0         1          0          0          1   \n",
              "929         0         0         0         1          0          0          1   \n",
              "930         0         0         0         1          0          0          1   \n",
              "931         0         1         0         0          0          0          1   \n",
              "\n",
              "     Density_4  \n",
              "1            0  \n",
              "2            0  \n",
              "3            0  \n",
              "4            0  \n",
              "5            0  \n",
              "..         ...  \n",
              "927          0  \n",
              "928          0  \n",
              "929          0  \n",
              "930          0  \n",
              "931          0  \n",
              "\n",
              "[931 rows x 15 columns]"
            ],
            "text/html": [
              "\n",
              "  <div id=\"df-55d92ab2-f770-4bff-b809-087965bc2f14\">\n",
              "    <div class=\"colab-df-container\">\n",
              "      <div>\n",
              "<style scoped>\n",
              "    .dataframe tbody tr th:only-of-type {\n",
              "        vertical-align: middle;\n",
              "    }\n",
              "\n",
              "    .dataframe tbody tr th {\n",
              "        vertical-align: top;\n",
              "    }\n",
              "\n",
              "    .dataframe thead th {\n",
              "        text-align: right;\n",
              "    }\n",
              "</style>\n",
              "<table border=\"1\" class=\"dataframe\">\n",
              "  <thead>\n",
              "    <tr style=\"text-align: right;\">\n",
              "      <th></th>\n",
              "      <th>Age</th>\n",
              "      <th>Severity</th>\n",
              "      <th>Shape_1</th>\n",
              "      <th>Shape_2</th>\n",
              "      <th>Shape_3</th>\n",
              "      <th>Shape_4</th>\n",
              "      <th>Margin_1</th>\n",
              "      <th>Margin_2</th>\n",
              "      <th>Margin_3</th>\n",
              "      <th>Margin_4</th>\n",
              "      <th>Margin_5</th>\n",
              "      <th>Density_1</th>\n",
              "      <th>Density_2</th>\n",
              "      <th>Density_3</th>\n",
              "      <th>Density_4</th>\n",
              "    </tr>\n",
              "  </thead>\n",
              "  <tbody>\n",
              "    <tr>\n",
              "      <th>1</th>\n",
              "      <td>0.781596</td>\n",
              "      <td>1.0</td>\n",
              "      <td>0</td>\n",
              "      <td>0</td>\n",
              "      <td>1</td>\n",
              "      <td>0</td>\n",
              "      <td>0</td>\n",
              "      <td>0</td>\n",
              "      <td>0</td>\n",
              "      <td>0</td>\n",
              "      <td>1</td>\n",
              "      <td>0</td>\n",
              "      <td>0</td>\n",
              "      <td>1</td>\n",
              "      <td>0</td>\n",
              "    </tr>\n",
              "    <tr>\n",
              "      <th>2</th>\n",
              "      <td>-0.871720</td>\n",
              "      <td>1.0</td>\n",
              "      <td>1</td>\n",
              "      <td>0</td>\n",
              "      <td>0</td>\n",
              "      <td>0</td>\n",
              "      <td>1</td>\n",
              "      <td>0</td>\n",
              "      <td>0</td>\n",
              "      <td>0</td>\n",
              "      <td>0</td>\n",
              "      <td>0</td>\n",
              "      <td>0</td>\n",
              "      <td>1</td>\n",
              "      <td>0</td>\n",
              "    </tr>\n",
              "    <tr>\n",
              "      <th>3</th>\n",
              "      <td>0.161602</td>\n",
              "      <td>1.0</td>\n",
              "      <td>0</td>\n",
              "      <td>0</td>\n",
              "      <td>0</td>\n",
              "      <td>1</td>\n",
              "      <td>0</td>\n",
              "      <td>0</td>\n",
              "      <td>0</td>\n",
              "      <td>0</td>\n",
              "      <td>1</td>\n",
              "      <td>0</td>\n",
              "      <td>0</td>\n",
              "      <td>1</td>\n",
              "      <td>0</td>\n",
              "    </tr>\n",
              "    <tr>\n",
              "      <th>4</th>\n",
              "      <td>-1.905042</td>\n",
              "      <td>0.0</td>\n",
              "      <td>1</td>\n",
              "      <td>0</td>\n",
              "      <td>0</td>\n",
              "      <td>0</td>\n",
              "      <td>1</td>\n",
              "      <td>0</td>\n",
              "      <td>0</td>\n",
              "      <td>0</td>\n",
              "      <td>0</td>\n",
              "      <td>0</td>\n",
              "      <td>0</td>\n",
              "      <td>1</td>\n",
              "      <td>0</td>\n",
              "    </tr>\n",
              "    <tr>\n",
              "      <th>5</th>\n",
              "      <td>1.263813</td>\n",
              "      <td>1.0</td>\n",
              "      <td>1</td>\n",
              "      <td>0</td>\n",
              "      <td>0</td>\n",
              "      <td>0</td>\n",
              "      <td>0</td>\n",
              "      <td>0</td>\n",
              "      <td>0</td>\n",
              "      <td>0</td>\n",
              "      <td>1</td>\n",
              "      <td>0</td>\n",
              "      <td>0</td>\n",
              "      <td>1</td>\n",
              "      <td>0</td>\n",
              "    </tr>\n",
              "    <tr>\n",
              "      <th>...</th>\n",
              "      <td>...</td>\n",
              "      <td>...</td>\n",
              "      <td>...</td>\n",
              "      <td>...</td>\n",
              "      <td>...</td>\n",
              "      <td>...</td>\n",
              "      <td>...</td>\n",
              "      <td>...</td>\n",
              "      <td>...</td>\n",
              "      <td>...</td>\n",
              "      <td>...</td>\n",
              "      <td>...</td>\n",
              "      <td>...</td>\n",
              "      <td>...</td>\n",
              "      <td>...</td>\n",
              "    </tr>\n",
              "    <tr>\n",
              "      <th>927</th>\n",
              "      <td>-0.596167</td>\n",
              "      <td>0.0</td>\n",
              "      <td>0</td>\n",
              "      <td>1</td>\n",
              "      <td>0</td>\n",
              "      <td>0</td>\n",
              "      <td>1</td>\n",
              "      <td>0</td>\n",
              "      <td>0</td>\n",
              "      <td>0</td>\n",
              "      <td>0</td>\n",
              "      <td>0</td>\n",
              "      <td>0</td>\n",
              "      <td>1</td>\n",
              "      <td>0</td>\n",
              "    </tr>\n",
              "    <tr>\n",
              "      <th>928</th>\n",
              "      <td>0.023826</td>\n",
              "      <td>1.0</td>\n",
              "      <td>0</td>\n",
              "      <td>0</td>\n",
              "      <td>0</td>\n",
              "      <td>1</td>\n",
              "      <td>0</td>\n",
              "      <td>0</td>\n",
              "      <td>0</td>\n",
              "      <td>0</td>\n",
              "      <td>1</td>\n",
              "      <td>0</td>\n",
              "      <td>0</td>\n",
              "      <td>1</td>\n",
              "      <td>0</td>\n",
              "    </tr>\n",
              "    <tr>\n",
              "      <th>929</th>\n",
              "      <td>0.574931</td>\n",
              "      <td>0.0</td>\n",
              "      <td>0</td>\n",
              "      <td>0</td>\n",
              "      <td>0</td>\n",
              "      <td>1</td>\n",
              "      <td>0</td>\n",
              "      <td>0</td>\n",
              "      <td>0</td>\n",
              "      <td>0</td>\n",
              "      <td>1</td>\n",
              "      <td>0</td>\n",
              "      <td>0</td>\n",
              "      <td>1</td>\n",
              "      <td>0</td>\n",
              "    </tr>\n",
              "    <tr>\n",
              "      <th>930</th>\n",
              "      <td>0.712708</td>\n",
              "      <td>1.0</td>\n",
              "      <td>0</td>\n",
              "      <td>0</td>\n",
              "      <td>0</td>\n",
              "      <td>1</td>\n",
              "      <td>0</td>\n",
              "      <td>0</td>\n",
              "      <td>0</td>\n",
              "      <td>0</td>\n",
              "      <td>1</td>\n",
              "      <td>0</td>\n",
              "      <td>0</td>\n",
              "      <td>1</td>\n",
              "      <td>0</td>\n",
              "    </tr>\n",
              "    <tr>\n",
              "      <th>931</th>\n",
              "      <td>0.437155</td>\n",
              "      <td>0.0</td>\n",
              "      <td>0</td>\n",
              "      <td>0</td>\n",
              "      <td>1</td>\n",
              "      <td>0</td>\n",
              "      <td>0</td>\n",
              "      <td>0</td>\n",
              "      <td>1</td>\n",
              "      <td>0</td>\n",
              "      <td>0</td>\n",
              "      <td>0</td>\n",
              "      <td>0</td>\n",
              "      <td>1</td>\n",
              "      <td>0</td>\n",
              "    </tr>\n",
              "  </tbody>\n",
              "</table>\n",
              "<p>931 rows × 15 columns</p>\n",
              "</div>\n",
              "      <button class=\"colab-df-convert\" onclick=\"convertToInteractive('df-55d92ab2-f770-4bff-b809-087965bc2f14')\"\n",
              "              title=\"Convert this dataframe to an interactive table.\"\n",
              "              style=\"display:none;\">\n",
              "        \n",
              "  <svg xmlns=\"http://www.w3.org/2000/svg\" height=\"24px\"viewBox=\"0 0 24 24\"\n",
              "       width=\"24px\">\n",
              "    <path d=\"M0 0h24v24H0V0z\" fill=\"none\"/>\n",
              "    <path d=\"M18.56 5.44l.94 2.06.94-2.06 2.06-.94-2.06-.94-.94-2.06-.94 2.06-2.06.94zm-11 1L8.5 8.5l.94-2.06 2.06-.94-2.06-.94L8.5 2.5l-.94 2.06-2.06.94zm10 10l.94 2.06.94-2.06 2.06-.94-2.06-.94-.94-2.06-.94 2.06-2.06.94z\"/><path d=\"M17.41 7.96l-1.37-1.37c-.4-.4-.92-.59-1.43-.59-.52 0-1.04.2-1.43.59L10.3 9.45l-7.72 7.72c-.78.78-.78 2.05 0 2.83L4 21.41c.39.39.9.59 1.41.59.51 0 1.02-.2 1.41-.59l7.78-7.78 2.81-2.81c.8-.78.8-2.07 0-2.86zM5.41 20L4 18.59l7.72-7.72 1.47 1.35L5.41 20z\"/>\n",
              "  </svg>\n",
              "      </button>\n",
              "      \n",
              "  <style>\n",
              "    .colab-df-container {\n",
              "      display:flex;\n",
              "      flex-wrap:wrap;\n",
              "      gap: 12px;\n",
              "    }\n",
              "\n",
              "    .colab-df-convert {\n",
              "      background-color: #E8F0FE;\n",
              "      border: none;\n",
              "      border-radius: 50%;\n",
              "      cursor: pointer;\n",
              "      display: none;\n",
              "      fill: #1967D2;\n",
              "      height: 32px;\n",
              "      padding: 0 0 0 0;\n",
              "      width: 32px;\n",
              "    }\n",
              "\n",
              "    .colab-df-convert:hover {\n",
              "      background-color: #E2EBFA;\n",
              "      box-shadow: 0px 1px 2px rgba(60, 64, 67, 0.3), 0px 1px 3px 1px rgba(60, 64, 67, 0.15);\n",
              "      fill: #174EA6;\n",
              "    }\n",
              "\n",
              "    [theme=dark] .colab-df-convert {\n",
              "      background-color: #3B4455;\n",
              "      fill: #D2E3FC;\n",
              "    }\n",
              "\n",
              "    [theme=dark] .colab-df-convert:hover {\n",
              "      background-color: #434B5C;\n",
              "      box-shadow: 0px 1px 3px 1px rgba(0, 0, 0, 0.15);\n",
              "      filter: drop-shadow(0px 1px 2px rgba(0, 0, 0, 0.3));\n",
              "      fill: #FFFFFF;\n",
              "    }\n",
              "  </style>\n",
              "\n",
              "      <script>\n",
              "        const buttonEl =\n",
              "          document.querySelector('#df-55d92ab2-f770-4bff-b809-087965bc2f14 button.colab-df-convert');\n",
              "        buttonEl.style.display =\n",
              "          google.colab.kernel.accessAllowed ? 'block' : 'none';\n",
              "\n",
              "        async function convertToInteractive(key) {\n",
              "          const element = document.querySelector('#df-55d92ab2-f770-4bff-b809-087965bc2f14');\n",
              "          const dataTable =\n",
              "            await google.colab.kernel.invokeFunction('convertToInteractive',\n",
              "                                                     [key], {});\n",
              "          if (!dataTable) return;\n",
              "\n",
              "          const docLinkHtml = 'Like what you see? Visit the ' +\n",
              "            '<a target=\"_blank\" href=https://colab.research.google.com/notebooks/data_table.ipynb>data table notebook</a>'\n",
              "            + ' to learn more about interactive tables.';\n",
              "          element.innerHTML = '';\n",
              "          dataTable['output_type'] = 'display_data';\n",
              "          await google.colab.output.renderOutput(dataTable, element);\n",
              "          const docLink = document.createElement('div');\n",
              "          docLink.innerHTML = docLinkHtml;\n",
              "          element.appendChild(docLink);\n",
              "        }\n",
              "      </script>\n",
              "    </div>\n",
              "  </div>\n",
              "  "
            ]
          },
          "metadata": {},
          "execution_count": 40
        }
      ],
      "source": [
        "X = data.drop('Severity',axis=1).to_numpy()\n",
        "y = data['Severity'].to_numpy()\n",
        "\n",
        "X_train, X_test, y_train, y_test = train_test_split(X, y, test_size=0.30)\n",
        "data"
      ]
    },
    {
      "cell_type": "code",
      "execution_count": null,
      "metadata": {
        "id": "42DQQb1Kw1DV",
        "outputId": "72b5ed1e-1ce1-4a5f-d074-50681d398bc6",
        "colab": {
          "base_uri": "https://localhost:8080/"
        }
      },
      "outputs": [
        {
          "output_type": "stream",
          "name": "stdout",
          "text": [
            "class:  ndarray\n",
            "shape:  (651, 14)\n",
            "strides:  (112, 8)\n",
            "itemsize:  8\n",
            "aligned:  True\n",
            "contiguous:  True\n",
            "fortran:  False\n",
            "data pointer: 0x8a5e000\n",
            "byteorder:  little\n",
            "byteswap:  False\n",
            "type: float64\n",
            "---\n",
            "class:  ndarray\n",
            "shape:  (280, 14)\n",
            "strides:  (112, 8)\n",
            "itemsize:  8\n",
            "aligned:  True\n",
            "contiguous:  True\n",
            "fortran:  False\n",
            "data pointer: 0x66a0000\n",
            "byteorder:  little\n",
            "byteswap:  False\n",
            "type: float64\n",
            "---\n",
            "class:  ndarray\n",
            "shape:  (651,)\n",
            "strides:  (8,)\n",
            "itemsize:  8\n",
            "aligned:  True\n",
            "contiguous:  True\n",
            "fortran:  True\n",
            "data pointer: 0x6698800\n",
            "byteorder:  little\n",
            "byteswap:  False\n",
            "type: float64\n",
            "---\n",
            "class:  ndarray\n",
            "shape:  (280,)\n",
            "strides:  (8,)\n",
            "itemsize:  8\n",
            "aligned:  True\n",
            "contiguous:  True\n",
            "fortran:  True\n",
            "data pointer: 0x88f8d00\n",
            "byteorder:  little\n",
            "byteswap:  False\n",
            "type: float64\n"
          ]
        }
      ],
      "source": [
        "np.info(X_train)\n",
        "print(\"---\")\n",
        "np.info(X_test)\n",
        "print(\"---\")\n",
        "np.info(y_train)\n",
        "print(\"---\")\n",
        "np.info(y_test)"
      ]
    },
    {
      "cell_type": "markdown",
      "metadata": {
        "id": "QPtX0V6ew1DV"
      },
      "source": [
        "## Neural Networks & Genetic Algorithms"
      ]
    },
    {
      "cell_type": "code",
      "execution_count": null,
      "metadata": {
        "id": "e1W3UPu-w1DV"
      },
      "outputs": [],
      "source": [
        "# Function that builds the ANN model\n",
        "def buildModel(hidden_layers, nodes_per_layer, activation_fn, optimizer, lr, loss_fn, metrics, inputs=14):\n",
        "    model = Sequential()\n",
        "    #add input layer\n",
        "    model.add(Dense(inputs, activation=\"sigmoid\", input_shape=(inputs,)))\n",
        "\n",
        "    #add hidden layers    \n",
        "    for i in range(int(hidden_layers)):\n",
        "        model.add(Dense(int(nodes_per_layer), activation=activation_fn))\n",
        "\n",
        "    #add output layer\n",
        "    model.add(Dense(1,activation=\"sigmoid\"))\n",
        "   \n",
        "\n",
        "    \n",
        "    if(optimizer=='SGD'): optimizer = gradient_descent_v2.SGD(learning_rate=lr)\n",
        "    elif(optimizer=='RMSprop'): optimizer = rmsprop_v2.RMSprop(learning_rate=lr)\n",
        "    elif(optimizer=='Adam'): optimizer = adam_v2.Adam(learning_rate=lr)\n",
        "\n",
        "    #compile model\n",
        "    model.compile(optimizer, loss=loss_fn, metrics=metrics)\n",
        "\n",
        "    return model\n",
        "\n",
        "# Function that performs a prediction for the model\n",
        "def evaluatePredictions(model, input_attributes, labels):\n",
        "    predicted = model.predict(input_attributes)\n",
        "    \n",
        "\n",
        "    LP = roundPredictions(predicted)\n",
        "    f = fbeta_score(labels, LP, beta=2.0)\n",
        "    accuracy = accuracy_score(labels, LP)\n",
        "    recall = recall_score(labels, LP, average=None)\n",
        "    precision = precision_score(labels, LP, average=None)\n",
        "    \n",
        "    return accuracy, recall[0], precision[0], recall[1], precision[1],f\n",
        "\n",
        "    \n",
        "#Function that creates the initial population\n",
        "#parameters=[hidden_layers,nodes_per_layer,activation_fn,learning_rate,optimizer,loss_fn]\n",
        "def create_new_population():\n",
        "    \n",
        "    population=[]\n",
        "    \n",
        "    for i in range(10):\n",
        "        cromo=[]\n",
        "        cromo.append(np.random.randint(low=1, high=13))\n",
        "        cromo.append(np.random.choice([1, 2, 4, 8, 16, 32, 64, 128]))\n",
        "        cromo.append(np.random.randint(low=0, high=6))\n",
        "        cromo.append(np.random.choice([0.001, 0.01, 0.1]))\n",
        "        cromo.append(np.random.randint(low=0, high=3))\n",
        "        cromo.append(np.random.randint(low=0, high=3))\n",
        "        population.append(cromo)\n",
        "        \n",
        "    return np.array(population)\n",
        "\n",
        "#Generic function that updates classifier arguments\n",
        "#parameters=[hidden_layers,nodes_per_layer,activation_fn,learning_rate,optimizer,loss_fn]\n",
        "def update_model_parameters(parameters):\n",
        "    \n",
        "    if((parameters[2]) == 0): a_f = 'relu'\n",
        "    if((parameters[2]) == 1): a_f = 'selu'\n",
        "    if((parameters[2]) == 2): a_f = 'sigmoid'\n",
        "    if((parameters[2]) == 3): a_f = 'tanh'\n",
        "    if((parameters[2]) == 4): a_f = 'linear'\n",
        "    if((parameters[2]) == 5): a_f = 'softmax'\n",
        "        \n",
        "        \n",
        "    if((parameters[4]) == 0): opt_f = 'SGD'\n",
        "    if((parameters[4]) == 1): opt_f = 'RMSprop'\n",
        "    if((parameters[4]) == 2): opt_f = 'Adam'\n",
        "        \n",
        "    if((parameters[5]) == 0): loss = 'binary_crossentropy'\n",
        "    if((parameters[5]) == 1): loss = 'hinge'\n",
        "    if((parameters[5]) == 2): loss = 'squared_hinge'\n",
        "        \n",
        "    model = buildModel(parameters[0], parameters[1], a_f, opt_f, parameters[3], loss, metrics=['accuracy'])\n",
        "\n",
        "    return model\n",
        "\n",
        "def select_mating_pool(pop, fitness, parents_fitness, num_parents):\n",
        "    # Selecting the best individuals in the current generation as parents for producing the offspring of the next generation.\n",
        "    parents = np.empty((num_parents, pop.shape[1]))\n",
        "    parents_fitness = []\n",
        "    for parent_num in range(num_parents):\n",
        "        #save fitness values of best parents\n",
        "        parents_fitness.append(np.max(fitness))\n",
        "        #save best parents\n",
        "        max_fitness_idx = np.where(fitness == np.max(fitness))\n",
        "        max_fitness_idx = max_fitness_idx[0][0]\n",
        "        parents[parent_num, :] = pop[max_fitness_idx, :]\n",
        "        fitness[max_fitness_idx] = -99999999999\n",
        "        \n",
        "    return parents, parents_fitness\n",
        "\n",
        "def crossover(parents, offspring_size):\n",
        "    offspring = np.empty(offspring_size)\n",
        "    # The point at which crossover takes place between two parents. Usually it is at the center.\n",
        "    crossover_point = np.uint8(offspring_size[1]/2)\n",
        "\n",
        "    for k in range(offspring_size[0]):\n",
        "        # Index of the first parent to mate.\n",
        "        parent1_idx = k%parents.shape[0]\n",
        "        # Index of the second parent to mate.\n",
        "        parent2_idx = (k+1)%parents.shape[0]\n",
        "        # The new offspring will have its first half of its genes taken from the first parent.\n",
        "        offspring[k, 0:crossover_point] = parents[parent1_idx, 0:crossover_point]\n",
        "        # The new offspring will have its second half of its genes taken from the second parent.\n",
        "        offspring[k, crossover_point:] = parents[parent2_idx, crossover_point:]\n",
        "    return offspring\n",
        "\n",
        "def mutation(offspring_crossover):\n",
        "    # Mutation changes a single gene in each offspring randomly.\n",
        "    for idx in range(offspring_crossover.shape[0]):\n",
        "        \n",
        "        # Select which gene to mutate\n",
        "        select_gene = np.random.randint(low=0, high=6)\n",
        " \n",
        "        if(select_gene == 0):\n",
        "            #num_hidden_layers mutation\n",
        "            random_value = np.random.randint(low=1, high=13)\n",
        "            offspring_crossover[idx,0] = random_value\n",
        "        if(select_gene == 1):\n",
        "            #num_nodes_per_layer mutation\n",
        "            random_value = np.random.choice([4, 8, 16, 32, 64, 128])\n",
        "            offspring_crossover[idx,1] = random_value\n",
        "        if(select_gene == 2):\n",
        "            #activation function mutation\n",
        "            random_value = np.random.randint(low=0, high=6)\n",
        "            offspring_crossover[idx,2] = random_value\n",
        "        if(select_gene == 3):\n",
        "            #learning rate mutation\n",
        "            random_value = np.random.choice([0.001, 0.01, 0.1])\n",
        "            offspring_crossover[idx,3] = random_value\n",
        "        if(select_gene == 4):\n",
        "            #optimizer mutation\n",
        "            random_value = np.random.randint(low=0, high=3)\n",
        "            offspring_crossover[idx,4] = random_value\n",
        "        if(select_gene == 5):\n",
        "            #loss function mutation\n",
        "            random_value = np.random.randint(low=0, high=3)\n",
        "            offspring_crossover[idx,5] = random_value\n",
        "            \n",
        "    return offspring_crossover\n",
        "\n",
        "def printChromo(chromo, tab=False):\n",
        "    \n",
        "    identation = \"\\t\" if tab else \"\"\n",
        "    \n",
        "    if((chromo[2]) == 0): a_f = 'relu'\n",
        "    if((chromo[2]) == 1): a_f = 'selu'\n",
        "    if((chromo[2]) == 2): a_f = 'sigmoid'\n",
        "    if((chromo[2]) == 3): a_f = 'tanh'\n",
        "    if((chromo[2]) == 4): a_f = 'linear'\n",
        "    if((chromo[2]) == 5): a_f = 'softmax'\n",
        "        \n",
        "        \n",
        "    if((chromo[4]) == 0): opt_f = 'SGD'\n",
        "    if((chromo[4]) == 1): opt_f = 'RMSprop'\n",
        "    if((chromo[4]) == 2): opt_f = 'Adam'\n",
        "        \n",
        "    if((chromo[5]) == 0): loss = 'binary_crossentropy'\n",
        "    if((chromo[5]) == 1): loss = 'hinge'\n",
        "    if((chromo[5]) == 2): loss = 'squared_hinge'\n",
        "        \n",
        "    print(identation + \"Layers: {} |\".format(int(chromo[0])),\"Nodes: {} |\".format(int(chromo[1])),\"Act_F: {} |\".format(a_f),\"Opti: {} |\".format(opt_f), \"LR: {} |\".format(chromo[3]),\"Loss: {}\".format(loss))\n",
        "    \n",
        "def printChromos(chromos, tab=False):\n",
        "    for chromo in chromos:\n",
        "        printChromo(chromo, tab)\n",
        "    \n",
        "def roundPredictions(predicted):\n",
        "    # Rounded to 0 or 1 as a binary output is intended\n",
        "    LP = []\n",
        "    f = lambda x: int(round(x))\n",
        "    vfunc = np.vectorize(f)\n",
        "    \n",
        "    for prev in predicted:\n",
        "        prev = vfunc(prev)\n",
        "        LP.append(prev)\n",
        "    \n",
        "    return LP"
      ]
    },
    {
      "cell_type": "markdown",
      "metadata": {
        "id": "tsQfN9Tpw1DV"
      },
      "source": [
        "**K-Fold Cross Validation**"
      ]
    },
    {
      "cell_type": "code",
      "execution_count": null,
      "metadata": {
        "id": "mfEKP5gFw1DV"
      },
      "outputs": [],
      "source": [
        "from sklearn.model_selection import KFold\n",
        "\n",
        "num_folds = 10\n",
        "\n",
        "# Define the K-fold Cross Validator\n",
        "kfold = KFold(n_splits=num_folds, shuffle=True)"
      ]
    },
    {
      "cell_type": "markdown",
      "metadata": {
        "id": "WlpviJPGw1DW"
      },
      "source": [
        "**Keras ANN built from specific parameters (one specific chromosome)**"
      ]
    },
    {
      "cell_type": "code",
      "execution_count": null,
      "metadata": {
        "id": "k7Lp9J-Ow1DW"
      },
      "outputs": [],
      "source": [
        "def evaluateChromosome(chromosome):\n",
        "    scores=[]\n",
        "    recalls_0=[]\n",
        "    precisions_0=[]\n",
        "    recalls_1=[]\n",
        "    precisions_1=[]\n",
        "    fbeta_1 = []\n",
        "    \n",
        "    model = update_model_parameters(chromosome)\n",
        "    \n",
        "    fold_no=1\n",
        "    \n",
        "    for train, test in kfold.split(X_train, y_train):\n",
        "\n",
        "        history = model.fit(X_train[train], y_train[train],\n",
        "              epochs=50,\n",
        "              batch_size=64,\n",
        "              verbose=0)\n",
        "\n",
        "        score = model.evaluate(X_train[test], y_train[test], batch_size=64, verbose=0)      \n",
        "        accuracy, recall_0, precision_0, recall_1, precision_1, fbeta = evaluatePredictions(model, X_train[test], y_train[test])\n",
        "\n",
        "        #Adding all metrics to arrays\n",
        "        scores.append(score[1])\n",
        "        recalls_0.append(recall_0)\n",
        "        precisions_0.append(precision_0)\n",
        "        recalls_1.append(recall_1)\n",
        "        precisions_1.append(precision_1)\n",
        "        fbeta_1.append(fbeta)\n",
        "    \n",
        "        fold_no+=1\n",
        "    \n",
        "    score = sum(scores)/len(scores)\n",
        "    recall_0 = sum(recalls_0)/len(recalls_0)\n",
        "    precision_0 = sum(precisions_0)/len(precisions_0)\n",
        "    recall_1 = sum(recalls_1)/len(recalls_1)\n",
        "    precision_1 = sum(precisions_1)/len(precisions_1)\n",
        "    fbeta_1 = sum(fbeta_1)/len(fbeta_1)\n",
        "\n",
        "\n",
        "    return score, recall_0, precision_0, recall_1, precision_1, fbeta_1"
      ]
    },
    {
      "cell_type": "code",
      "execution_count": null,
      "metadata": {
        "scrolled": true,
        "id": "MZsxTZDbw1DW",
        "outputId": "8c7de993-243d-479b-c3e6-cbf64cc5f5a5",
        "colab": {
          "base_uri": "https://localhost:8080/"
        }
      },
      "outputs": [
        {
          "output_type": "stream",
          "name": "stdout",
          "text": [
            "Initial population:\n",
            "\tLayers: 2 | Nodes: 64 | Act_F: linear | Opti: RMSprop | LR: 0.1 | Loss: squared_hinge\n",
            "\tLayers: 12 | Nodes: 32 | Act_F: softmax | Opti: SGD | LR: 0.01 | Loss: squared_hinge\n",
            "\tLayers: 2 | Nodes: 8 | Act_F: relu | Opti: RMSprop | LR: 0.01 | Loss: binary_crossentropy\n",
            "\tLayers: 12 | Nodes: 8 | Act_F: selu | Opti: SGD | LR: 0.001 | Loss: squared_hinge\n",
            "\tLayers: 4 | Nodes: 16 | Act_F: tanh | Opti: RMSprop | LR: 0.01 | Loss: hinge\n",
            "\tLayers: 4 | Nodes: 64 | Act_F: sigmoid | Opti: SGD | LR: 0.001 | Loss: binary_crossentropy\n",
            "\tLayers: 1 | Nodes: 32 | Act_F: tanh | Opti: RMSprop | LR: 0.001 | Loss: squared_hinge\n",
            "\tLayers: 12 | Nodes: 4 | Act_F: selu | Opti: Adam | LR: 0.01 | Loss: binary_crossentropy\n",
            "\tLayers: 11 | Nodes: 64 | Act_F: selu | Opti: Adam | LR: 0.01 | Loss: hinge\n",
            "\tLayers: 3 | Nodes: 2 | Act_F: sigmoid | Opti: SGD | LR: 0.1 | Loss: hinge\n"
          ]
        },
        {
          "output_type": "stream",
          "name": "stderr",
          "text": [
            "/usr/local/lib/python3.7/dist-packages/sklearn/metrics/_classification.py:1318: UndefinedMetricWarning: Precision is ill-defined and being set to 0.0 in labels with no predicted samples. Use `zero_division` parameter to control this behavior.\n",
            "  _warn_prf(average, modifier, msg_start, len(result))\n",
            "/usr/local/lib/python3.7/dist-packages/sklearn/metrics/_classification.py:1318: UndefinedMetricWarning: Precision is ill-defined and being set to 0.0 in labels with no predicted samples. Use `zero_division` parameter to control this behavior.\n",
            "  _warn_prf(average, modifier, msg_start, len(result))\n",
            "/usr/local/lib/python3.7/dist-packages/sklearn/metrics/_classification.py:1318: UndefinedMetricWarning: Precision is ill-defined and being set to 0.0 in labels with no predicted samples. Use `zero_division` parameter to control this behavior.\n",
            "  _warn_prf(average, modifier, msg_start, len(result))\n",
            "/usr/local/lib/python3.7/dist-packages/sklearn/metrics/_classification.py:1318: UndefinedMetricWarning: Precision is ill-defined and being set to 0.0 in labels with no predicted samples. Use `zero_division` parameter to control this behavior.\n",
            "  _warn_prf(average, modifier, msg_start, len(result))\n",
            "/usr/local/lib/python3.7/dist-packages/sklearn/metrics/_classification.py:1318: UndefinedMetricWarning: Precision is ill-defined and being set to 0.0 in labels with no predicted samples. Use `zero_division` parameter to control this behavior.\n",
            "  _warn_prf(average, modifier, msg_start, len(result))\n",
            "/usr/local/lib/python3.7/dist-packages/sklearn/metrics/_classification.py:1318: UndefinedMetricWarning: Precision is ill-defined and being set to 0.0 in labels with no predicted samples. Use `zero_division` parameter to control this behavior.\n",
            "  _warn_prf(average, modifier, msg_start, len(result))\n",
            "/usr/local/lib/python3.7/dist-packages/sklearn/metrics/_classification.py:1318: UndefinedMetricWarning: Precision is ill-defined and being set to 0.0 in labels with no predicted samples. Use `zero_division` parameter to control this behavior.\n",
            "  _warn_prf(average, modifier, msg_start, len(result))\n",
            "/usr/local/lib/python3.7/dist-packages/sklearn/metrics/_classification.py:1318: UndefinedMetricWarning: Precision is ill-defined and being set to 0.0 in labels with no predicted samples. Use `zero_division` parameter to control this behavior.\n",
            "  _warn_prf(average, modifier, msg_start, len(result))\n",
            "/usr/local/lib/python3.7/dist-packages/sklearn/metrics/_classification.py:1318: UndefinedMetricWarning: Precision is ill-defined and being set to 0.0 in labels with no predicted samples. Use `zero_division` parameter to control this behavior.\n",
            "  _warn_prf(average, modifier, msg_start, len(result))\n",
            "/usr/local/lib/python3.7/dist-packages/sklearn/metrics/_classification.py:1318: UndefinedMetricWarning: Precision is ill-defined and being set to 0.0 in labels with no predicted samples. Use `zero_division` parameter to control this behavior.\n",
            "  _warn_prf(average, modifier, msg_start, len(result))\n"
          ]
        },
        {
          "output_type": "stream",
          "name": "stdout",
          "text": [
            "Generation-1 Chromosome-1:\n",
            "\tLayers: 2 | Nodes: 64 | Act_F: linear | Opti: RMSprop | LR: 0.1 | Loss: squared_hinge\n",
            "\tScore 0.00  || Acc: 0.52 |R0: 1.00  |P0: 0.52  |R1: 0.00  |P1: 0.00 \n"
          ]
        },
        {
          "output_type": "stream",
          "name": "stderr",
          "text": [
            "/usr/local/lib/python3.7/dist-packages/sklearn/metrics/_classification.py:1318: UndefinedMetricWarning: Precision is ill-defined and being set to 0.0 in labels with no predicted samples. Use `zero_division` parameter to control this behavior.\n",
            "  _warn_prf(average, modifier, msg_start, len(result))\n",
            "/usr/local/lib/python3.7/dist-packages/sklearn/metrics/_classification.py:1318: UndefinedMetricWarning: Precision is ill-defined and being set to 0.0 in labels with no predicted samples. Use `zero_division` parameter to control this behavior.\n",
            "  _warn_prf(average, modifier, msg_start, len(result))\n",
            "/usr/local/lib/python3.7/dist-packages/sklearn/metrics/_classification.py:1318: UndefinedMetricWarning: Precision is ill-defined and being set to 0.0 in labels with no predicted samples. Use `zero_division` parameter to control this behavior.\n",
            "  _warn_prf(average, modifier, msg_start, len(result))\n",
            "/usr/local/lib/python3.7/dist-packages/sklearn/metrics/_classification.py:1318: UndefinedMetricWarning: Precision is ill-defined and being set to 0.0 in labels with no predicted samples. Use `zero_division` parameter to control this behavior.\n",
            "  _warn_prf(average, modifier, msg_start, len(result))\n",
            "/usr/local/lib/python3.7/dist-packages/sklearn/metrics/_classification.py:1318: UndefinedMetricWarning: Precision is ill-defined and being set to 0.0 in labels with no predicted samples. Use `zero_division` parameter to control this behavior.\n",
            "  _warn_prf(average, modifier, msg_start, len(result))\n",
            "/usr/local/lib/python3.7/dist-packages/sklearn/metrics/_classification.py:1318: UndefinedMetricWarning: Precision is ill-defined and being set to 0.0 in labels with no predicted samples. Use `zero_division` parameter to control this behavior.\n",
            "  _warn_prf(average, modifier, msg_start, len(result))\n",
            "/usr/local/lib/python3.7/dist-packages/sklearn/metrics/_classification.py:1318: UndefinedMetricWarning: Precision is ill-defined and being set to 0.0 in labels with no predicted samples. Use `zero_division` parameter to control this behavior.\n",
            "  _warn_prf(average, modifier, msg_start, len(result))\n",
            "/usr/local/lib/python3.7/dist-packages/sklearn/metrics/_classification.py:1318: UndefinedMetricWarning: Precision is ill-defined and being set to 0.0 in labels with no predicted samples. Use `zero_division` parameter to control this behavior.\n",
            "  _warn_prf(average, modifier, msg_start, len(result))\n",
            "/usr/local/lib/python3.7/dist-packages/sklearn/metrics/_classification.py:1318: UndefinedMetricWarning: Precision is ill-defined and being set to 0.0 in labels with no predicted samples. Use `zero_division` parameter to control this behavior.\n",
            "  _warn_prf(average, modifier, msg_start, len(result))\n",
            "/usr/local/lib/python3.7/dist-packages/sklearn/metrics/_classification.py:1318: UndefinedMetricWarning: Precision is ill-defined and being set to 0.0 in labels with no predicted samples. Use `zero_division` parameter to control this behavior.\n",
            "  _warn_prf(average, modifier, msg_start, len(result))\n"
          ]
        },
        {
          "output_type": "stream",
          "name": "stdout",
          "text": [
            "Generation-1 Chromosome-2:\n",
            "\tLayers: 12 | Nodes: 32 | Act_F: softmax | Opti: SGD | LR: 0.01 | Loss: squared_hinge\n",
            "\tScore 0.00  || Acc: 0.52 |R0: 1.00  |P0: 0.52  |R1: 0.00  |P1: 0.00 \n",
            "Generation-1 Chromosome-3:\n",
            "\tLayers: 2 | Nodes: 8 | Act_F: relu | Opti: RMSprop | LR: 0.01 | Loss: binary_crossentropy\n",
            "\tScore 0.81  || Acc: 0.80 |R0: 0.79  |P0: 0.83  |R1: 0.82  |P1: 0.78 \n"
          ]
        },
        {
          "output_type": "stream",
          "name": "stderr",
          "text": [
            "/usr/local/lib/python3.7/dist-packages/sklearn/metrics/_classification.py:1318: UndefinedMetricWarning: Precision is ill-defined and being set to 0.0 in labels with no predicted samples. Use `zero_division` parameter to control this behavior.\n",
            "  _warn_prf(average, modifier, msg_start, len(result))\n",
            "/usr/local/lib/python3.7/dist-packages/sklearn/metrics/_classification.py:1318: UndefinedMetricWarning: Precision is ill-defined and being set to 0.0 in labels with no predicted samples. Use `zero_division` parameter to control this behavior.\n",
            "  _warn_prf(average, modifier, msg_start, len(result))\n"
          ]
        },
        {
          "output_type": "stream",
          "name": "stdout",
          "text": [
            "Generation-1 Chromosome-4:\n",
            "\tLayers: 12 | Nodes: 8 | Act_F: selu | Opti: SGD | LR: 0.001 | Loss: squared_hinge\n",
            "\tScore 0.49  || Acc: 0.70 |R0: 0.92  |P0: 0.66  |R1: 0.47  |P1: 0.69 \n",
            "Generation-1 Chromosome-5:\n",
            "\tLayers: 4 | Nodes: 16 | Act_F: tanh | Opti: RMSprop | LR: 0.01 | Loss: hinge\n",
            "\tScore 0.84  || Acc: 0.81 |R0: 0.76  |P0: 0.86  |R1: 0.86  |P1: 0.78 \n"
          ]
        },
        {
          "output_type": "stream",
          "name": "stderr",
          "text": [
            "/usr/local/lib/python3.7/dist-packages/sklearn/metrics/_classification.py:1318: UndefinedMetricWarning: Precision is ill-defined and being set to 0.0 in labels with no predicted samples. Use `zero_division` parameter to control this behavior.\n",
            "  _warn_prf(average, modifier, msg_start, len(result))\n",
            "/usr/local/lib/python3.7/dist-packages/sklearn/metrics/_classification.py:1318: UndefinedMetricWarning: Precision is ill-defined and being set to 0.0 in labels with no predicted samples. Use `zero_division` parameter to control this behavior.\n",
            "  _warn_prf(average, modifier, msg_start, len(result))\n",
            "/usr/local/lib/python3.7/dist-packages/sklearn/metrics/_classification.py:1318: UndefinedMetricWarning: Precision is ill-defined and being set to 0.0 in labels with no predicted samples. Use `zero_division` parameter to control this behavior.\n",
            "  _warn_prf(average, modifier, msg_start, len(result))\n",
            "/usr/local/lib/python3.7/dist-packages/sklearn/metrics/_classification.py:1318: UndefinedMetricWarning: Precision is ill-defined and being set to 0.0 in labels with no predicted samples. Use `zero_division` parameter to control this behavior.\n",
            "  _warn_prf(average, modifier, msg_start, len(result))\n",
            "/usr/local/lib/python3.7/dist-packages/sklearn/metrics/_classification.py:1318: UndefinedMetricWarning: Precision is ill-defined and being set to 0.0 in labels with no predicted samples. Use `zero_division` parameter to control this behavior.\n",
            "  _warn_prf(average, modifier, msg_start, len(result))\n",
            "/usr/local/lib/python3.7/dist-packages/sklearn/metrics/_classification.py:1318: UndefinedMetricWarning: Precision is ill-defined and being set to 0.0 in labels with no predicted samples. Use `zero_division` parameter to control this behavior.\n",
            "  _warn_prf(average, modifier, msg_start, len(result))\n",
            "/usr/local/lib/python3.7/dist-packages/sklearn/metrics/_classification.py:1318: UndefinedMetricWarning: Precision is ill-defined and being set to 0.0 in labels with no predicted samples. Use `zero_division` parameter to control this behavior.\n",
            "  _warn_prf(average, modifier, msg_start, len(result))\n",
            "/usr/local/lib/python3.7/dist-packages/sklearn/metrics/_classification.py:1318: UndefinedMetricWarning: Precision is ill-defined and being set to 0.0 in labels with no predicted samples. Use `zero_division` parameter to control this behavior.\n",
            "  _warn_prf(average, modifier, msg_start, len(result))\n",
            "/usr/local/lib/python3.7/dist-packages/sklearn/metrics/_classification.py:1318: UndefinedMetricWarning: Precision is ill-defined and being set to 0.0 in labels with no predicted samples. Use `zero_division` parameter to control this behavior.\n",
            "  _warn_prf(average, modifier, msg_start, len(result))\n",
            "/usr/local/lib/python3.7/dist-packages/sklearn/metrics/_classification.py:1318: UndefinedMetricWarning: Precision is ill-defined and being set to 0.0 in labels with no predicted samples. Use `zero_division` parameter to control this behavior.\n",
            "  _warn_prf(average, modifier, msg_start, len(result))\n"
          ]
        },
        {
          "output_type": "stream",
          "name": "stdout",
          "text": [
            "Generation-1 Chromosome-6:\n",
            "\tLayers: 4 | Nodes: 64 | Act_F: sigmoid | Opti: SGD | LR: 0.001 | Loss: binary_crossentropy\n",
            "\tScore 0.08  || Acc: 0.51 |R0: 0.90  |P0: 0.46  |R1: 0.10  |P1: 0.05 \n",
            "Generation-1 Chromosome-7:\n",
            "\tLayers: 1 | Nodes: 32 | Act_F: tanh | Opti: RMSprop | LR: 0.001 | Loss: squared_hinge\n",
            "\tScore 0.59  || Acc: 0.74 |R0: 0.93  |P0: 0.69  |R1: 0.55  |P1: 0.87 \n",
            "Generation-1 Chromosome-8:\n",
            "\tLayers: 12 | Nodes: 4 | Act_F: selu | Opti: Adam | LR: 0.01 | Loss: binary_crossentropy\n",
            "\tScore 0.84  || Acc: 0.81 |R0: 0.79  |P0: 0.85  |R1: 0.85  |P1: 0.79 \n"
          ]
        },
        {
          "output_type": "stream",
          "name": "stderr",
          "text": [
            "/usr/local/lib/python3.7/dist-packages/sklearn/metrics/_classification.py:1318: UndefinedMetricWarning: Precision is ill-defined and being set to 0.0 in labels with no predicted samples. Use `zero_division` parameter to control this behavior.\n",
            "  _warn_prf(average, modifier, msg_start, len(result))\n",
            "/usr/local/lib/python3.7/dist-packages/sklearn/metrics/_classification.py:1318: UndefinedMetricWarning: Precision is ill-defined and being set to 0.0 in labels with no predicted samples. Use `zero_division` parameter to control this behavior.\n",
            "  _warn_prf(average, modifier, msg_start, len(result))\n",
            "/usr/local/lib/python3.7/dist-packages/sklearn/metrics/_classification.py:1318: UndefinedMetricWarning: Precision is ill-defined and being set to 0.0 in labels with no predicted samples. Use `zero_division` parameter to control this behavior.\n",
            "  _warn_prf(average, modifier, msg_start, len(result))\n",
            "/usr/local/lib/python3.7/dist-packages/sklearn/metrics/_classification.py:1318: UndefinedMetricWarning: Precision is ill-defined and being set to 0.0 in labels with no predicted samples. Use `zero_division` parameter to control this behavior.\n",
            "  _warn_prf(average, modifier, msg_start, len(result))\n",
            "/usr/local/lib/python3.7/dist-packages/sklearn/metrics/_classification.py:1318: UndefinedMetricWarning: Precision is ill-defined and being set to 0.0 in labels with no predicted samples. Use `zero_division` parameter to control this behavior.\n",
            "  _warn_prf(average, modifier, msg_start, len(result))\n",
            "/usr/local/lib/python3.7/dist-packages/sklearn/metrics/_classification.py:1318: UndefinedMetricWarning: Precision is ill-defined and being set to 0.0 in labels with no predicted samples. Use `zero_division` parameter to control this behavior.\n",
            "  _warn_prf(average, modifier, msg_start, len(result))\n",
            "/usr/local/lib/python3.7/dist-packages/sklearn/metrics/_classification.py:1318: UndefinedMetricWarning: Precision is ill-defined and being set to 0.0 in labels with no predicted samples. Use `zero_division` parameter to control this behavior.\n",
            "  _warn_prf(average, modifier, msg_start, len(result))\n",
            "/usr/local/lib/python3.7/dist-packages/sklearn/metrics/_classification.py:1318: UndefinedMetricWarning: Precision is ill-defined and being set to 0.0 in labels with no predicted samples. Use `zero_division` parameter to control this behavior.\n",
            "  _warn_prf(average, modifier, msg_start, len(result))\n",
            "/usr/local/lib/python3.7/dist-packages/sklearn/metrics/_classification.py:1318: UndefinedMetricWarning: Precision is ill-defined and being set to 0.0 in labels with no predicted samples. Use `zero_division` parameter to control this behavior.\n",
            "  _warn_prf(average, modifier, msg_start, len(result))\n",
            "/usr/local/lib/python3.7/dist-packages/sklearn/metrics/_classification.py:1318: UndefinedMetricWarning: Precision is ill-defined and being set to 0.0 in labels with no predicted samples. Use `zero_division` parameter to control this behavior.\n",
            "  _warn_prf(average, modifier, msg_start, len(result))\n"
          ]
        },
        {
          "output_type": "stream",
          "name": "stdout",
          "text": [
            "Generation-1 Chromosome-9:\n",
            "\tLayers: 11 | Nodes: 64 | Act_F: selu | Opti: Adam | LR: 0.01 | Loss: hinge\n",
            "\tScore 0.82  || Acc: 0.48 |R0: 0.00  |P0: 0.00  |R1: 1.00  |P1: 0.48 \n"
          ]
        },
        {
          "output_type": "stream",
          "name": "stderr",
          "text": [
            "/usr/local/lib/python3.7/dist-packages/sklearn/metrics/_classification.py:1318: UndefinedMetricWarning: Precision is ill-defined and being set to 0.0 in labels with no predicted samples. Use `zero_division` parameter to control this behavior.\n",
            "  _warn_prf(average, modifier, msg_start, len(result))\n",
            "/usr/local/lib/python3.7/dist-packages/sklearn/metrics/_classification.py:1318: UndefinedMetricWarning: Precision is ill-defined and being set to 0.0 in labels with no predicted samples. Use `zero_division` parameter to control this behavior.\n",
            "  _warn_prf(average, modifier, msg_start, len(result))\n",
            "/usr/local/lib/python3.7/dist-packages/sklearn/metrics/_classification.py:1318: UndefinedMetricWarning: Precision is ill-defined and being set to 0.0 in labels with no predicted samples. Use `zero_division` parameter to control this behavior.\n",
            "  _warn_prf(average, modifier, msg_start, len(result))\n",
            "/usr/local/lib/python3.7/dist-packages/sklearn/metrics/_classification.py:1318: UndefinedMetricWarning: Precision is ill-defined and being set to 0.0 in labels with no predicted samples. Use `zero_division` parameter to control this behavior.\n",
            "  _warn_prf(average, modifier, msg_start, len(result))\n",
            "/usr/local/lib/python3.7/dist-packages/sklearn/metrics/_classification.py:1318: UndefinedMetricWarning: Precision is ill-defined and being set to 0.0 in labels with no predicted samples. Use `zero_division` parameter to control this behavior.\n",
            "  _warn_prf(average, modifier, msg_start, len(result))\n",
            "/usr/local/lib/python3.7/dist-packages/sklearn/metrics/_classification.py:1318: UndefinedMetricWarning: Precision is ill-defined and being set to 0.0 in labels with no predicted samples. Use `zero_division` parameter to control this behavior.\n",
            "  _warn_prf(average, modifier, msg_start, len(result))\n",
            "/usr/local/lib/python3.7/dist-packages/sklearn/metrics/_classification.py:1318: UndefinedMetricWarning: Precision is ill-defined and being set to 0.0 in labels with no predicted samples. Use `zero_division` parameter to control this behavior.\n",
            "  _warn_prf(average, modifier, msg_start, len(result))\n",
            "/usr/local/lib/python3.7/dist-packages/sklearn/metrics/_classification.py:1318: UndefinedMetricWarning: Precision is ill-defined and being set to 0.0 in labels with no predicted samples. Use `zero_division` parameter to control this behavior.\n",
            "  _warn_prf(average, modifier, msg_start, len(result))\n",
            "/usr/local/lib/python3.7/dist-packages/sklearn/metrics/_classification.py:1318: UndefinedMetricWarning: Precision is ill-defined and being set to 0.0 in labels with no predicted samples. Use `zero_division` parameter to control this behavior.\n",
            "  _warn_prf(average, modifier, msg_start, len(result))\n",
            "/usr/local/lib/python3.7/dist-packages/sklearn/metrics/_classification.py:1318: UndefinedMetricWarning: Precision is ill-defined and being set to 0.0 in labels with no predicted samples. Use `zero_division` parameter to control this behavior.\n",
            "  _warn_prf(average, modifier, msg_start, len(result))\n"
          ]
        },
        {
          "output_type": "stream",
          "name": "stdout",
          "text": [
            "Generation-1 Chromosome-10:\n",
            "\tLayers: 3 | Nodes: 2 | Act_F: sigmoid | Opti: SGD | LR: 0.1 | Loss: hinge\n",
            "\tScore 0.00  || Acc: 0.52 |R0: 1.00  |P0: 0.52  |R1: 0.00  |P1: 0.00 \n",
            "Generation-2 Chromosome-1 scored 0.84  (Chromosome already knowned)\n",
            "Generation-2 Chromosome-2 scored 0.84  (Chromosome already knowned)\n",
            "Generation-2 Chromosome-3 scored 0.82  (Chromosome already knowned)\n",
            "Generation-2 Chromosome-4 scored 0.81  (Chromosome already knowned)\n",
            "Generation-2 Chromosome-5 scored 0.59  (Chromosome already knowned)\n",
            "Generation-2 Chromosome-6:\n",
            "\tLayers: 4 | Nodes: 16 | Act_F: tanh | Opti: RMSprop | LR: 0.01 | Loss: binary_crossentropy\n",
            "\tScore 0.85  || Acc: 0.82 |R0: 0.79  |P0: 0.86  |R1: 0.87  |P1: 0.79 \n"
          ]
        },
        {
          "output_type": "stream",
          "name": "stderr",
          "text": [
            "/usr/local/lib/python3.7/dist-packages/sklearn/metrics/_classification.py:1318: UndefinedMetricWarning: Precision is ill-defined and being set to 0.0 in labels with no predicted samples. Use `zero_division` parameter to control this behavior.\n",
            "  _warn_prf(average, modifier, msg_start, len(result))\n",
            "/usr/local/lib/python3.7/dist-packages/sklearn/metrics/_classification.py:1318: UndefinedMetricWarning: Precision is ill-defined and being set to 0.0 in labels with no predicted samples. Use `zero_division` parameter to control this behavior.\n",
            "  _warn_prf(average, modifier, msg_start, len(result))\n",
            "/usr/local/lib/python3.7/dist-packages/sklearn/metrics/_classification.py:1318: UndefinedMetricWarning: Precision is ill-defined and being set to 0.0 in labels with no predicted samples. Use `zero_division` parameter to control this behavior.\n",
            "  _warn_prf(average, modifier, msg_start, len(result))\n",
            "/usr/local/lib/python3.7/dist-packages/sklearn/metrics/_classification.py:1318: UndefinedMetricWarning: Precision is ill-defined and being set to 0.0 in labels with no predicted samples. Use `zero_division` parameter to control this behavior.\n",
            "  _warn_prf(average, modifier, msg_start, len(result))\n",
            "/usr/local/lib/python3.7/dist-packages/sklearn/metrics/_classification.py:1318: UndefinedMetricWarning: Precision is ill-defined and being set to 0.0 in labels with no predicted samples. Use `zero_division` parameter to control this behavior.\n",
            "  _warn_prf(average, modifier, msg_start, len(result))\n",
            "/usr/local/lib/python3.7/dist-packages/sklearn/metrics/_classification.py:1318: UndefinedMetricWarning: Precision is ill-defined and being set to 0.0 in labels with no predicted samples. Use `zero_division` parameter to control this behavior.\n",
            "  _warn_prf(average, modifier, msg_start, len(result))\n",
            "/usr/local/lib/python3.7/dist-packages/sklearn/metrics/_classification.py:1318: UndefinedMetricWarning: Precision is ill-defined and being set to 0.0 in labels with no predicted samples. Use `zero_division` parameter to control this behavior.\n",
            "  _warn_prf(average, modifier, msg_start, len(result))\n",
            "/usr/local/lib/python3.7/dist-packages/sklearn/metrics/_classification.py:1318: UndefinedMetricWarning: Precision is ill-defined and being set to 0.0 in labels with no predicted samples. Use `zero_division` parameter to control this behavior.\n",
            "  _warn_prf(average, modifier, msg_start, len(result))\n",
            "/usr/local/lib/python3.7/dist-packages/sklearn/metrics/_classification.py:1318: UndefinedMetricWarning: Precision is ill-defined and being set to 0.0 in labels with no predicted samples. Use `zero_division` parameter to control this behavior.\n",
            "  _warn_prf(average, modifier, msg_start, len(result))\n",
            "/usr/local/lib/python3.7/dist-packages/sklearn/metrics/_classification.py:1318: UndefinedMetricWarning: Precision is ill-defined and being set to 0.0 in labels with no predicted samples. Use `zero_division` parameter to control this behavior.\n",
            "  _warn_prf(average, modifier, msg_start, len(result))\n"
          ]
        },
        {
          "output_type": "stream",
          "name": "stdout",
          "text": [
            "Generation-2 Chromosome-7:\n",
            "\tLayers: 12 | Nodes: 4 | Act_F: sigmoid | Opti: Adam | LR: 0.01 | Loss: hinge\n",
            "\tScore 0.00  || Acc: 0.52 |R0: 1.00  |P0: 0.52  |R1: 0.00  |P1: 0.00 \n"
          ]
        },
        {
          "output_type": "stream",
          "name": "stderr",
          "text": [
            "/usr/local/lib/python3.7/dist-packages/sklearn/metrics/_classification.py:1318: UndefinedMetricWarning: Precision is ill-defined and being set to 0.0 in labels with no predicted samples. Use `zero_division` parameter to control this behavior.\n",
            "  _warn_prf(average, modifier, msg_start, len(result))\n",
            "/usr/local/lib/python3.7/dist-packages/sklearn/metrics/_classification.py:1318: UndefinedMetricWarning: Precision is ill-defined and being set to 0.0 in labels with no predicted samples. Use `zero_division` parameter to control this behavior.\n",
            "  _warn_prf(average, modifier, msg_start, len(result))\n",
            "/usr/local/lib/python3.7/dist-packages/sklearn/metrics/_classification.py:1318: UndefinedMetricWarning: Precision is ill-defined and being set to 0.0 in labels with no predicted samples. Use `zero_division` parameter to control this behavior.\n",
            "  _warn_prf(average, modifier, msg_start, len(result))\n",
            "/usr/local/lib/python3.7/dist-packages/sklearn/metrics/_classification.py:1318: UndefinedMetricWarning: Precision is ill-defined and being set to 0.0 in labels with no predicted samples. Use `zero_division` parameter to control this behavior.\n",
            "  _warn_prf(average, modifier, msg_start, len(result))\n",
            "/usr/local/lib/python3.7/dist-packages/sklearn/metrics/_classification.py:1318: UndefinedMetricWarning: Precision is ill-defined and being set to 0.0 in labels with no predicted samples. Use `zero_division` parameter to control this behavior.\n",
            "  _warn_prf(average, modifier, msg_start, len(result))\n",
            "/usr/local/lib/python3.7/dist-packages/sklearn/metrics/_classification.py:1318: UndefinedMetricWarning: Precision is ill-defined and being set to 0.0 in labels with no predicted samples. Use `zero_division` parameter to control this behavior.\n",
            "  _warn_prf(average, modifier, msg_start, len(result))\n",
            "/usr/local/lib/python3.7/dist-packages/sklearn/metrics/_classification.py:1318: UndefinedMetricWarning: Precision is ill-defined and being set to 0.0 in labels with no predicted samples. Use `zero_division` parameter to control this behavior.\n",
            "  _warn_prf(average, modifier, msg_start, len(result))\n",
            "/usr/local/lib/python3.7/dist-packages/sklearn/metrics/_classification.py:1318: UndefinedMetricWarning: Precision is ill-defined and being set to 0.0 in labels with no predicted samples. Use `zero_division` parameter to control this behavior.\n",
            "  _warn_prf(average, modifier, msg_start, len(result))\n",
            "/usr/local/lib/python3.7/dist-packages/sklearn/metrics/_classification.py:1318: UndefinedMetricWarning: Precision is ill-defined and being set to 0.0 in labels with no predicted samples. Use `zero_division` parameter to control this behavior.\n",
            "  _warn_prf(average, modifier, msg_start, len(result))\n",
            "/usr/local/lib/python3.7/dist-packages/sklearn/metrics/_classification.py:1318: UndefinedMetricWarning: Precision is ill-defined and being set to 0.0 in labels with no predicted samples. Use `zero_division` parameter to control this behavior.\n",
            "  _warn_prf(average, modifier, msg_start, len(result))\n"
          ]
        },
        {
          "output_type": "stream",
          "name": "stdout",
          "text": [
            "Generation-2 Chromosome-8:\n",
            "\tLayers: 11 | Nodes: 64 | Act_F: selu | Opti: RMSprop | LR: 0.01 | Loss: hinge\n",
            "\tScore 0.00  || Acc: 0.52 |R0: 1.00  |P0: 0.52  |R1: 0.00  |P1: 0.00 \n"
          ]
        },
        {
          "output_type": "stream",
          "name": "stderr",
          "text": [
            "/usr/local/lib/python3.7/dist-packages/sklearn/metrics/_classification.py:1318: UndefinedMetricWarning: Precision is ill-defined and being set to 0.0 in labels with no predicted samples. Use `zero_division` parameter to control this behavior.\n",
            "  _warn_prf(average, modifier, msg_start, len(result))\n",
            "/usr/local/lib/python3.7/dist-packages/sklearn/metrics/_classification.py:1318: UndefinedMetricWarning: Precision is ill-defined and being set to 0.0 in labels with no predicted samples. Use `zero_division` parameter to control this behavior.\n",
            "  _warn_prf(average, modifier, msg_start, len(result))\n",
            "/usr/local/lib/python3.7/dist-packages/sklearn/metrics/_classification.py:1318: UndefinedMetricWarning: Precision is ill-defined and being set to 0.0 in labels with no predicted samples. Use `zero_division` parameter to control this behavior.\n",
            "  _warn_prf(average, modifier, msg_start, len(result))\n",
            "/usr/local/lib/python3.7/dist-packages/sklearn/metrics/_classification.py:1318: UndefinedMetricWarning: Precision is ill-defined and being set to 0.0 in labels with no predicted samples. Use `zero_division` parameter to control this behavior.\n",
            "  _warn_prf(average, modifier, msg_start, len(result))\n",
            "/usr/local/lib/python3.7/dist-packages/sklearn/metrics/_classification.py:1318: UndefinedMetricWarning: Precision is ill-defined and being set to 0.0 in labels with no predicted samples. Use `zero_division` parameter to control this behavior.\n",
            "  _warn_prf(average, modifier, msg_start, len(result))\n",
            "/usr/local/lib/python3.7/dist-packages/sklearn/metrics/_classification.py:1318: UndefinedMetricWarning: Precision is ill-defined and being set to 0.0 in labels with no predicted samples. Use `zero_division` parameter to control this behavior.\n",
            "  _warn_prf(average, modifier, msg_start, len(result))\n",
            "/usr/local/lib/python3.7/dist-packages/sklearn/metrics/_classification.py:1318: UndefinedMetricWarning: Precision is ill-defined and being set to 0.0 in labels with no predicted samples. Use `zero_division` parameter to control this behavior.\n",
            "  _warn_prf(average, modifier, msg_start, len(result))\n",
            "/usr/local/lib/python3.7/dist-packages/sklearn/metrics/_classification.py:1318: UndefinedMetricWarning: Precision is ill-defined and being set to 0.0 in labels with no predicted samples. Use `zero_division` parameter to control this behavior.\n",
            "  _warn_prf(average, modifier, msg_start, len(result))\n",
            "/usr/local/lib/python3.7/dist-packages/sklearn/metrics/_classification.py:1318: UndefinedMetricWarning: Precision is ill-defined and being set to 0.0 in labels with no predicted samples. Use `zero_division` parameter to control this behavior.\n",
            "  _warn_prf(average, modifier, msg_start, len(result))\n",
            "/usr/local/lib/python3.7/dist-packages/sklearn/metrics/_classification.py:1318: UndefinedMetricWarning: Precision is ill-defined and being set to 0.0 in labels with no predicted samples. Use `zero_division` parameter to control this behavior.\n",
            "  _warn_prf(average, modifier, msg_start, len(result))\n"
          ]
        },
        {
          "output_type": "stream",
          "name": "stdout",
          "text": [
            "Generation-2 Chromosome-9:\n",
            "\tLayers: 12 | Nodes: 8 | Act_F: relu | Opti: RMSprop | LR: 0.001 | Loss: squared_hinge\n",
            "\tScore 0.00  || Acc: 0.52 |R0: 1.00  |P0: 0.52  |R1: 0.00  |P1: 0.00 \n",
            "Generation-2 Chromosome-10:\n",
            "\tLayers: 1 | Nodes: 32 | Act_F: tanh | Opti: RMSprop | LR: 0.01 | Loss: binary_crossentropy\n",
            "\tScore 0.82  || Acc: 0.82 |R0: 0.79  |P0: 0.84  |R1: 0.83  |P1: 0.79 \n",
            "Generation-3 Chromosome-1 scored 0.85  (Chromosome already knowned)\n",
            "Generation-3 Chromosome-2 scored 0.84  (Chromosome already knowned)\n",
            "Generation-3 Chromosome-3 scored 0.84  (Chromosome already knowned)\n",
            "Generation-3 Chromosome-4 scored 0.82  (Chromosome already knowned)\n",
            "Generation-3 Chromosome-5 scored 0.82  (Chromosome already knowned)\n",
            "Generation-3 Chromosome-6:\n",
            "\tLayers: 4 | Nodes: 16 | Act_F: tanh | Opti: RMSprop | LR: 0.01 | Loss: squared_hinge\n",
            "\tScore 0.63  || Acc: 0.76 |R0: 0.93  |P0: 0.71  |R1: 0.59  |P1: 0.88 \n",
            "Generation-3 Chromosome-7:\n",
            "\tLayers: 4 | Nodes: 16 | Act_F: tanh | Opti: Adam | LR: 0.01 | Loss: binary_crossentropy\n",
            "\tScore 0.82  || Acc: 0.80 |R0: 0.76  |P0: 0.84  |R1: 0.84  |P1: 0.77 \n"
          ]
        },
        {
          "output_type": "stream",
          "name": "stderr",
          "text": [
            "/usr/local/lib/python3.7/dist-packages/sklearn/metrics/_classification.py:1318: UndefinedMetricWarning: Precision is ill-defined and being set to 0.0 in labels with no predicted samples. Use `zero_division` parameter to control this behavior.\n",
            "  _warn_prf(average, modifier, msg_start, len(result))\n",
            "/usr/local/lib/python3.7/dist-packages/sklearn/metrics/_classification.py:1318: UndefinedMetricWarning: Precision is ill-defined and being set to 0.0 in labels with no predicted samples. Use `zero_division` parameter to control this behavior.\n",
            "  _warn_prf(average, modifier, msg_start, len(result))\n",
            "/usr/local/lib/python3.7/dist-packages/sklearn/metrics/_classification.py:1318: UndefinedMetricWarning: Precision is ill-defined and being set to 0.0 in labels with no predicted samples. Use `zero_division` parameter to control this behavior.\n",
            "  _warn_prf(average, modifier, msg_start, len(result))\n",
            "/usr/local/lib/python3.7/dist-packages/sklearn/metrics/_classification.py:1318: UndefinedMetricWarning: Precision is ill-defined and being set to 0.0 in labels with no predicted samples. Use `zero_division` parameter to control this behavior.\n",
            "  _warn_prf(average, modifier, msg_start, len(result))\n",
            "/usr/local/lib/python3.7/dist-packages/sklearn/metrics/_classification.py:1318: UndefinedMetricWarning: Precision is ill-defined and being set to 0.0 in labels with no predicted samples. Use `zero_division` parameter to control this behavior.\n",
            "  _warn_prf(average, modifier, msg_start, len(result))\n",
            "/usr/local/lib/python3.7/dist-packages/sklearn/metrics/_classification.py:1318: UndefinedMetricWarning: Precision is ill-defined and being set to 0.0 in labels with no predicted samples. Use `zero_division` parameter to control this behavior.\n",
            "  _warn_prf(average, modifier, msg_start, len(result))\n",
            "/usr/local/lib/python3.7/dist-packages/sklearn/metrics/_classification.py:1318: UndefinedMetricWarning: Precision is ill-defined and being set to 0.0 in labels with no predicted samples. Use `zero_division` parameter to control this behavior.\n",
            "  _warn_prf(average, modifier, msg_start, len(result))\n",
            "/usr/local/lib/python3.7/dist-packages/sklearn/metrics/_classification.py:1318: UndefinedMetricWarning: Precision is ill-defined and being set to 0.0 in labels with no predicted samples. Use `zero_division` parameter to control this behavior.\n",
            "  _warn_prf(average, modifier, msg_start, len(result))\n",
            "/usr/local/lib/python3.7/dist-packages/sklearn/metrics/_classification.py:1318: UndefinedMetricWarning: Precision is ill-defined and being set to 0.0 in labels with no predicted samples. Use `zero_division` parameter to control this behavior.\n",
            "  _warn_prf(average, modifier, msg_start, len(result))\n"
          ]
        },
        {
          "output_type": "stream",
          "name": "stdout",
          "text": [
            "Generation-3 Chromosome-8:\n",
            "\tLayers: 12 | Nodes: 4 | Act_F: selu | Opti: RMSprop | LR: 0.1 | Loss: binary_crossentropy\n",
            "\tScore 0.33  || Acc: 0.53 |R0: 0.65  |P0: 0.40  |R1: 0.39  |P1: 0.21 \n",
            "Generation-3 Chromosome-9:\n",
            "\tLayers: 1 | Nodes: 8 | Act_F: tanh | Opti: Adam | LR: 0.01 | Loss: hinge\n",
            "\tScore 0.83  || Acc: 0.82 |R0: 0.80  |P0: 0.84  |R1: 0.84  |P1: 0.80 \n"
          ]
        },
        {
          "output_type": "stream",
          "name": "stderr",
          "text": [
            "/usr/local/lib/python3.7/dist-packages/sklearn/metrics/_classification.py:1318: UndefinedMetricWarning: Precision is ill-defined and being set to 0.0 in labels with no predicted samples. Use `zero_division` parameter to control this behavior.\n",
            "  _warn_prf(average, modifier, msg_start, len(result))\n",
            "/usr/local/lib/python3.7/dist-packages/sklearn/metrics/_classification.py:1318: UndefinedMetricWarning: Precision is ill-defined and being set to 0.0 in labels with no predicted samples. Use `zero_division` parameter to control this behavior.\n",
            "  _warn_prf(average, modifier, msg_start, len(result))\n"
          ]
        },
        {
          "output_type": "stream",
          "name": "stdout",
          "text": [
            "Generation-3 Chromosome-10:\n",
            "\tLayers: 11 | Nodes: 64 | Act_F: selu | Opti: RMSprop | LR: 0.01 | Loss: binary_crossentropy\n",
            "\tScore 0.72  || Acc: 0.72 |R0: 0.69  |P0: 0.71  |R1: 0.75  |P1: 0.65 \n",
            "Generation-4 Chromosome-1 scored 0.85  (Chromosome already knowned)\n",
            "Generation-4 Chromosome-2 scored 0.84  (Chromosome already knowned)\n",
            "Generation-4 Chromosome-3 scored 0.84  (Chromosome already knowned)\n",
            "Generation-4 Chromosome-4 scored 0.83  (Chromosome already knowned)\n",
            "Generation-4 Chromosome-5 scored 0.82  (Chromosome already knowned)\n",
            "Generation-4 Chromosome-6 scored 0.84  (Chromosome already knowned)\n",
            "Generation-4 Chromosome-7:\n",
            "\tLayers: 4 | Nodes: 16 | Act_F: tanh | Opti: Adam | LR: 0.01 | Loss: binary_crossentropy\n",
            "\tScore 0.85  || Acc: 0.82 |R0: 0.78  |P0: 0.86  |R1: 0.87  |P1: 0.79 \n",
            "Generation-4 Chromosome-8:\n",
            "\tLayers: 12 | Nodes: 4 | Act_F: selu | Opti: Adam | LR: 0.01 | Loss: hinge\n",
            "\tScore 0.84  || Acc: 0.82 |R0: 0.79  |P0: 0.86  |R1: 0.86  |P1: 0.79 \n",
            "Generation-4 Chromosome-9:\n",
            "\tLayers: 1 | Nodes: 8 | Act_F: tanh | Opti: RMSprop | LR: 0.01 | Loss: binary_crossentropy\n",
            "\tScore 0.83  || Acc: 0.82 |R0: 0.80  |P0: 0.84  |R1: 0.84  |P1: 0.79 \n",
            "Generation-4 Chromosome-10:\n",
            "\tLayers: 1 | Nodes: 128 | Act_F: tanh | Opti: RMSprop | LR: 0.01 | Loss: binary_crossentropy\n",
            "\tScore 0.83  || Acc: 0.81 |R0: 0.79  |P0: 0.85  |R1: 0.85  |P1: 0.79 \n",
            "Generation-5 Chromosome-1 scored 0.85  (Chromosome already knowned)\n",
            "Generation-5 Chromosome-2 scored 0.85  (Chromosome already knowned)\n",
            "Generation-5 Chromosome-3 scored 0.84  (Chromosome already knowned)\n",
            "Generation-5 Chromosome-4 scored 0.84  (Chromosome already knowned)\n",
            "Generation-5 Chromosome-5 scored 0.84  (Chromosome already knowned)\n",
            "Generation-5 Chromosome-6:\n",
            "\tLayers: 4 | Nodes: 16 | Act_F: sigmoid | Opti: Adam | LR: 0.01 | Loss: binary_crossentropy\n",
            "\tScore 0.83  || Acc: 0.81 |R0: 0.78  |P0: 0.84  |R1: 0.84  |P1: 0.78 \n",
            "Generation-5 Chromosome-7:\n",
            "\tLayers: 4 | Nodes: 16 | Act_F: tanh | Opti: Adam | LR: 0.01 | Loss: hinge\n",
            "\tScore 0.78  || Acc: 0.80 |R0: 0.83  |P0: 0.80  |R1: 0.78  |P1: 0.81 \n",
            "Generation-5 Chromosome-8 scored 0.84  (Chromosome already knowned)\n",
            "Generation-5 Chromosome-9:\n",
            "\tLayers: 4 | Nodes: 16 | Act_F: tanh | Opti: RMSprop | LR: 0.01 | Loss: squared_hinge\n",
            "\tScore 0.64  || Acc: 0.75 |R0: 0.90  |P0: 0.71  |R1: 0.60  |P1: 0.86 \n",
            "Generation-5 Chromosome-10:\n",
            "\tLayers: 4 | Nodes: 16 | Act_F: tanh | Opti: SGD | LR: 0.01 | Loss: binary_crossentropy\n",
            "\tScore 0.82  || Acc: 0.81 |R0: 0.80  |P0: 0.84  |R1: 0.83  |P1: 0.79 \n",
            "[0.8474285059853379, 0.8456614625601994, 0.8441145640070097, 0.8416660718813069, 0.8416660718813069, 0.8259329711785345, 0.7830022750065655, 0.8441145640070097, 0.6386977914017913, 0.8190593706302561] Last Fitness Values\n",
            "The best hyperparameters obtained are:\n",
            "\tLayers: 4 | Nodes: 16 | Act_F: tanh | Opti: RMSprop | LR: 0.01 | Loss: binary_crossentropy\n",
            "with a score of 0.8474285059853379\n"
          ]
        }
      ],
      "source": [
        "population = create_new_population()\n",
        "print(\"Initial population:\")\n",
        "printChromos(population, True)\n",
        "num_parents_mating = 5\n",
        "num_generations = 9\n",
        "# number of genes for each chromosome\n",
        "num_genes = 6\n",
        "# number of chromosomes for each population\n",
        "num_chromosomes = 10 \n",
        "\n",
        "pop_size=(num_chromosomes,num_genes)\n",
        "\n",
        "# fitness values for each chromosome for the current generation\n",
        "fitness_values = []\n",
        "# fitness vaalues for each chromosome of the last generation\n",
        "last_fitness_values = []\n",
        "\n",
        "gen = 0\n",
        "cromo = 0\n",
        "\n",
        "parents=[]\n",
        "# Parents fitness so we do not repeat calculations on parents\n",
        "parents_fitness = []\n",
        "\n",
        "performances=[]\n",
        "hiperparameters=[]\n",
        "\n",
        "\n",
        "for generation in range(num_generations):\n",
        "    gen+=1\n",
        "    cromo = 0\n",
        "    best_perf_per_gen = -1\n",
        "    \n",
        "    for chromosome in population:\n",
        "        known=False\n",
        "        cromo+=1\n",
        "        score=-1\n",
        "        parentNumber=0\n",
        "        \n",
        "        # If it's a known chromosome we dont need to train the ANN again\n",
        "        # Skips the first generation because we didnt select the parents yet\n",
        "        for savedCromo in parents:\n",
        "            parentNumber+=1\n",
        "            if (np.array_equal(chromosome,savedCromo)):\n",
        "                score = parents_fitness[parentNumber-1]\n",
        "                known = True\n",
        "        \n",
        "        # If it's a new chromosome we need to train the ANN in order to get the accuracy\n",
        "        if (score < 0):\n",
        "            accuracy, recall_0, precision_0, recall_1, precision_1, fbeta = evaluateChromosome(chromosome)\n",
        "            #score = 0.5*accuracy + 0.225 *recall_1 + 0.15 *precision_0 + 0.1 * recall_0 + 0.025 * precision_1\n",
        "            score = fbeta\n",
        "            \n",
        "        if(not known):\n",
        "            print(\"Generation-{}\".format(gen),\"Chromosome-{}:\".format(cromo))\n",
        "            printChromo(chromosome, True)\n",
        "            print(\"\\tScore {:.2f}\".format(score),\" || Acc: {:.2f}\".format(accuracy),\"|R0: {:.2f} \".format(recall_0),\"|P0: {:.2f} \".format(precision_0), \"|R1: {:.2f} \".format(recall_1),\"|P1: {:.2f} \".format(precision_1))\n",
        "        else:\n",
        "            print(\"Generation-{}\".format(gen),\"Chromosome-{}\".format(cromo),\"scored {:.2f}\".format(score), \" (Chromosome already knowned)\")\n",
        "\n",
        "        \n",
        "        # Keep the scores in fitness_values\n",
        "        fitness_values.append(score)\n",
        "        \n",
        "        # Getting the best hyperparameters per generation to check the evolution at the end\n",
        "        if(best_perf_per_gen < score):\n",
        "            best_perf_per_gen = score\n",
        "            best_cromo_per_gen = chromosome\n",
        "                   \n",
        "    performances.append(best_perf_per_gen)\n",
        "    hiperparameters.append(best_cromo_per_gen)\n",
        "   \n",
        "    #print(performances,\"Best accuracies of each generation\")\n",
        "    #print(hiperparameters,\"Best of each generation\")\n",
        "    \n",
        "    # We store last generation in other array because fitness_values is changed by the select_mating_pool\n",
        "    if(gen == num_generations):\n",
        "        for i in fitness_values:\n",
        "            last_fitness_values.append(i)\n",
        "        print(last_fitness_values,\"Last Fitness Values\")\n",
        "    \n",
        "    parents,parents_fitness = select_mating_pool(population,fitness_values,parents_fitness,num_parents_mating)\n",
        "\n",
        "    # Generating next generation using crossover.\n",
        "    offspring_crossover = crossover(parents,\n",
        "                                        offspring_size=(pop_size[0]-parents.shape[0], num_genes))\n",
        "\n",
        "    # Adding some variations to the offspring using mutation.\n",
        "    offspring_mutation = mutation(offspring_crossover)\n",
        "\n",
        "    # Creating the new population based on the parents and offspring.\n",
        "    population[0:parents.shape[0], :] = parents\n",
        "    population[parents.shape[0]:, :] = offspring_mutation\n",
        "    \n",
        "    # Reset fitness_values\n",
        "    fitness_values=[]\n",
        "\n",
        "# Getting the best solution\n",
        "best_solution = population[last_fitness_values.index(np.max(last_fitness_values))]\n",
        "print(\"The best hyperparameters obtained are:\")\n",
        "printChromo(best_solution, True)\n",
        "print(\"with a score of\",np.max(last_fitness_values))\n"
      ]
    },
    {
      "cell_type": "code",
      "execution_count": null,
      "metadata": {
        "id": "F1JnCy5-w1DW",
        "colab": {
          "base_uri": "https://localhost:8080/",
          "height": 295
        },
        "outputId": "59f4cf4c-3d86-4de0-f35d-4369fd17fb2d"
      },
      "outputs": [
        {
          "output_type": "display_data",
          "data": {
            "text/plain": [
              "<Figure size 432x288 with 1 Axes>"
            ],
            "image/png": "[encoded data removed]"
          },
          "metadata": {}
        }
      ],
      "source": [
        "generations=[1,2,3,4,5,6,7,,8,9]\n",
        "plt.plot(generations,performances,color='g')\n",
        "plt.xlabel('Generations')\n",
        "plt.xticks([1,2,3,4,5,6,7,8,9])\n",
        "plt.ylabel('Accuracy')\n",
        "plt.title('Accuracy improvement through generations')\n",
        "plt.show()"
      ]
    },
    {
      "cell_type": "markdown",
      "metadata": {
        "id": "KaZn9UN1w1DW"
      },
      "source": [
        "### Analisys of parameters select by GA"
      ]
    },
    {
      "cell_type": "code",
      "execution_count": null,
      "metadata": {
        "id": "VBdKteZ1w1DX",
        "colab": {
          "base_uri": "https://localhost:8080/",
          "height": 573
        },
        "outputId": "5599fead-2a1d-4d1c-da05-40add9e58c3f"
      },
      "outputs": [
        {
          "output_type": "display_data",
          "data": {
            "text/plain": [
              "<Figure size 432x288 with 1 Axes>"
            ],
            "image/png": "[encoded data removed]"
          },
          "metadata": {}
        },
        {
          "output_type": "display_data",
          "data": {
            "text/plain": [
              "<Figure size 432x288 with 1 Axes>"
            ],
            "image/png": "[encoded data removed]"
          },
          "metadata": {}
        }
      ],
      "source": [
        "model = update_model_parameters(chromosome)\n",
        "\n",
        "    \n",
        "history = model.fit(X_test, y_test, validation_split=0.45, epochs=50, batch_size=64, verbose=0)\n",
        "\n",
        "\n",
        "# Visualize history\n",
        "# Plot history: Loss\n",
        "plt.plot(history.history['loss'])\n",
        "plt.plot(history.history['val_loss'])\n",
        "plt.title('Validation loss history')\n",
        "plt.ylabel('Loss value')\n",
        "plt.xlabel('No. epoch')\n",
        "plt.legend(['train', 'test'], loc='upper left')\n",
        "plt.show()\n",
        "\n",
        "# Plot history: Accuracy\n",
        "plt.plot(history.history['accuracy'])\n",
        "plt.plot(history.history['val_accuracy'])\n",
        "plt.title('Validation accuracy history')\n",
        "plt.ylabel('Accuracy value (%)')\n",
        "plt.xlabel('No. epoch')\n",
        "plt.legend(['train', 'test'], loc='upper left')\n",
        "plt.show()    "
      ]
    },
    {
      "cell_type": "code",
      "execution_count": null,
      "metadata": {
        "id": "KrfjnAiMw1DX",
        "colab": {
          "base_uri": "https://localhost:8080/"
        },
        "outputId": "6f528cd3-fafb-44cd-b9f8-b15457b37c16"
      },
      "outputs": [
        {
          "output_type": "stream",
          "name": "stdout",
          "text": [
            "0.8333333333333334\n",
            "              precision    recall  f1-score   support\n",
            "\n",
            "      Benign       0.87      0.82      0.85       157\n",
            "   Malignant       0.79      0.85      0.82       123\n",
            "\n",
            "    accuracy                           0.83       280\n",
            "   macro avg       0.83      0.83      0.83       280\n",
            "weighted avg       0.83      0.83      0.83       280\n",
            "\n",
            "True Positives: 104\n",
            "True Negatives: 129\n",
            "False Positives: 28\n",
            "False Negatives: 19\n"
          ]
        }
      ],
      "source": [
        "score = model.evaluate(X_test, y_test, batch_size=64, verbose=0)      \n",
        "accuracy, recall_0, precision_0, recall_1, precision_1,fbeta = evaluatePredictions(model, X_test, y_test)\n",
        "\n",
        "predicted = model.predict(X_test)\n",
        "\n",
        "y_pred = roundPredictions(predicted)\n",
        "\n",
        "        \n",
        "target_names = ['Benign', 'Malignant']\n",
        "print(fbeta)\n",
        "print(classification_report(y_test, y_pred, target_names=target_names))\n",
        "\n",
        "tn, fp, fn, tp = confusion_matrix(y_test, y_pred).ravel()\n",
        "\n",
        "print(\"True Positives: \" +str(tp))\n",
        "print(\"True Negatives: \" +str(tn))\n",
        "print(\"False Positives: \" +str(fp))\n",
        "print(\"False Negatives: \" +str(fn))"
      ]
    },
    {
      "cell_type": "code",
      "source": [
        ""
      ],
      "metadata": {
        "id": "1BYbxbv2MBe7"
      },
      "execution_count": null,
      "outputs": []
    }
  ],
  "metadata": {
    "file_extension": ".py",
    "kernelspec": {
      "display_name": "Python 3.7.6 64-bit ('ClinicalExaminations': pipenv)",
      "language": "python",
      "name": "python37664bitclinicalexaminationspipenvad0378402ce04cb7908ba7c074f33903"
    },
    "language_info": {
      "codemirror_mode": {
        "name": "ipython",
        "version": 3
      },
      "file_extension": ".py",
      "mimetype": "text/x-python",
      "name": "python",
      "nbconvert_exporter": "python",
      "pygments_lexer": "ipython3",
      "version": "3.7.6"
    },
    "mimetype": "text/x-python",
    "name": "python",
    "npconvert_exporter": "python",
    "pygments_lexer": "ipython3",
    "version": 3,
    "colab": {
      "name": "Group13_ShasankSir_19095083_19135110.ipynb",
      "provenance": [],
      "collapsed_sections": [
        "9XFtdc5dw1DU"
      ]
    },
    "accelerator": "GPU"
  },
  "nbformat": 4,
  "nbformat_minor": 0
}